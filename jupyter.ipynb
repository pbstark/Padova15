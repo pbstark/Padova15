{
 "cells": [
  {
   "cell_type": "markdown",
   "metadata": {
    "collapsed": true
   },
   "source": [
    "# Introduction to Jupyter and R\n",
    "\n",
    "This is a [Jupyter](https://jupyter.org/) notebook.\n",
    "Here is a [Jupyter tutorial](https://youtu.be/Rc4JQWowG5I).\n",
    "\n",
    "This _cell_ is a [Markdown](http://daringfireball.net/projects/markdown/syntax) cell: it contains text rather than executable code.\n",
    "\n",
    "You can also style text in a Markdown cell using <strong>html</strong>\n",
    "\n",
    "Markdown cells in Jupyter support [MathJax](https://www.mathjax.org/), so you can write lovely typeset mathematics, e.g., $ e^{i\\pi} = -1$.\n",
    "\n",
    "$$\n",
    "  e^x \\equiv \\sum_{j=1}^\\infty \\frac{x^j}{j!}.\n",
    "$$\n",
    "\n",
    "Here is a [demo of Markdown and MathJax in Jupyter](https://youtu.be/-F4WS8o-G2A)\n",
    "\n",
    "This particular Jupyter notebook is an R notebook (there are also Python and Julia notebooks, among programming languages).\n",
    "This notebook is communicating with an R kernel and can execute R commands.\n",
    "R is a high-level statistics package with a versatile programming language.\n",
    "\n",
    "Here is [an introduction to R](http://cran.r-project.org/doc/manuals/R-intro.pdf). \n",
    "\n",
    "For a more thorough introduction to R, see  http://statistics.berkeley.edu/computing/r-bootcamp \n",
    "https://github.com/berkeley-scf/r-bootcamp-2014/blob/master/schedule/schedule.pdf\n"
   ]
  },
  {
   "cell_type": "markdown",
   "metadata": {},
   "source": [
    "## Jupyter\n",
    "\n",
    "Most of Jupyter's functionality is clear from its drop-down menus: commands to insert or delete cells, to execute cells, to clear output, etc.\n",
    "\n",
    "One of the most useful features of Jupyter is it's help functions and tab completion.\n",
    "\n",
    "For instance, typing \"tab\" while you are typing the name of a function will give you a list of functions that start with the letters you have typed so far.\n",
    "\n",
    "Please click \"help\" and take the User Interface Tour.\n"
   ]
  },
  {
   "cell_type": "markdown",
   "metadata": {},
   "source": [
    "## R\n",
    "\n",
    "The rest of this notebook is a brief introduction to R (within Jupyter). \n",
    "We will see more of R in later sections of the course, as we encounter particular topics linear algebra, least squares, optimization, random number generation, the Bootstrap, etc."
   ]
  },
  {
   "cell_type": "code",
   "execution_count": 1,
   "metadata": {
    "collapsed": false
   },
   "outputs": [
    {
     "name": "stdout",
     "output_type": "stream",
     "text": [
      "[1] \"Hello world!\"\n"
     ]
    }
   ],
   "source": [
    "# This is a code cell (but this line is a comment, because it starts with '#')\n",
    "# This is an R notebook, so you can type R commands into this cell, for example:\n",
    "print('Hello world!')"
   ]
  },
  {
   "cell_type": "code",
   "execution_count": 2,
   "metadata": {
    "collapsed": false
   },
   "outputs": [
    {
     "data": {
      "text/html": [
       "7"
      ],
      "text/latex": [
       "7"
      ],
      "text/markdown": [
       "7"
      ],
      "text/plain": [
       "[1] 7"
      ]
     },
     "execution_count": 2,
     "metadata": {},
     "output_type": "execute_result"
    },
    {
     "data": {
      "text/html": [
       "25"
      ],
      "text/latex": [
       "25"
      ],
      "text/markdown": [
       "25"
      ],
      "text/plain": [
       "[1] 25"
      ]
     },
     "execution_count": 2,
     "metadata": {},
     "output_type": "execute_result"
    },
    {
     "data": {
      "text/html": [
       "2.5"
      ],
      "text/latex": [
       "2.5"
      ],
      "text/markdown": [
       "2.5"
      ],
      "text/plain": [
       "[1] 2.5"
      ]
     },
     "execution_count": 2,
     "metadata": {},
     "output_type": "execute_result"
    },
    {
     "data": {
      "text/html": [
       "2.5"
      ],
      "text/latex": [
       "2.5"
      ],
      "text/markdown": [
       "2.5"
      ],
      "text/plain": [
       "[1] 2.5"
      ]
     },
     "execution_count": 2,
     "metadata": {},
     "output_type": "execute_result"
    },
    {
     "name": "stderr",
     "output_type": "stream",
     "text": [
      "Warning message:\n",
      "In sqrt(-1): NaNs produced"
     ]
    },
    {
     "data": {
      "text/html": [
       "NaN"
      ],
      "text/latex": [
       "NaN"
      ],
      "text/markdown": [
       "NaN"
      ],
      "text/plain": [
       "[1] NaN"
      ]
     },
     "execution_count": 2,
     "metadata": {},
     "output_type": "execute_result"
    },
    {
     "data": {
      "text/plain": [
       "[1] 0+1i"
      ]
     },
     "execution_count": 2,
     "metadata": {},
     "output_type": "execute_result"
    }
   ],
   "source": [
    "# more R\n",
    "\n",
    "# arithmetic\n",
    "5+2 \n",
    "5^2\n",
    "5/2\n",
    "5/2;  # lines ending with semicolon don't produce printed output\n",
    "\n",
    "sqrt(-1)  # no answer among the real numbers\n",
    "sqrt(-1 + 0i) # R understands complex numbers, though"
   ]
  },
  {
   "cell_type": "code",
   "execution_count": 3,
   "metadata": {
    "collapsed": false
   },
   "outputs": [
    {
     "data": {
      "text/html": [
       "5"
      ],
      "text/latex": [
       "5"
      ],
      "text/markdown": [
       "5"
      ],
      "text/plain": [
       "[1] 5"
      ]
     },
     "execution_count": 3,
     "metadata": {},
     "output_type": "execute_result"
    },
    {
     "data": {
      "text/html": [
       "6"
      ],
      "text/latex": [
       "6"
      ],
      "text/markdown": [
       "6"
      ],
      "text/plain": [
       "[1] 6"
      ]
     },
     "execution_count": 3,
     "metadata": {},
     "output_type": "execute_result"
    },
    {
     "data": {
      "text/html": [
       "25"
      ],
      "text/latex": [
       "25"
      ],
      "text/markdown": [
       "25"
      ],
      "text/plain": [
       "[1] 25"
      ]
     },
     "execution_count": 3,
     "metadata": {},
     "output_type": "execute_result"
    },
    {
     "data": {
      "text/html": [
       "2.23606797749979"
      ],
      "text/latex": [
       "2.23606797749979"
      ],
      "text/markdown": [
       "2.23606797749979"
      ],
      "text/plain": [
       "[1] 2.236068"
      ]
     },
     "execution_count": 3,
     "metadata": {},
     "output_type": "execute_result"
    }
   ],
   "source": [
    "# variables\n",
    "x <- 5;  # assignment uses an right arrow, <-\n",
    "x\n",
    "6 -> y;  # can assign in the other direction, too\n",
    "y\n",
    "x^2\n",
    "sqrt(x)"
   ]
  },
  {
   "cell_type": "code",
   "execution_count": 4,
   "metadata": {
    "collapsed": false
   },
   "outputs": [
    {
     "data": {
      "text/html": [
       "3.14159265358979"
      ],
      "text/latex": [
       "3.14159265358979"
      ],
      "text/markdown": [
       "3.14159265358979"
      ],
      "text/plain": [
       "[1] 3.141593"
      ]
     },
     "execution_count": 4,
     "metadata": {},
     "output_type": "execute_result"
    }
   ],
   "source": [
    "# R has some pre-defined values\n",
    "pi"
   ]
  },
  {
   "cell_type": "code",
   "execution_count": 5,
   "metadata": {
    "collapsed": false
   },
   "outputs": [
    {
     "data": {
      "text/plain": [
       "[1] NA"
      ]
     },
     "execution_count": 5,
     "metadata": {},
     "output_type": "execute_result"
    },
    {
     "data": {
      "text/html": [
       "TRUE"
      ],
      "text/latex": [
       "TRUE"
      ],
      "text/markdown": [
       "TRUE"
      ],
      "text/plain": [
       "[1] TRUE"
      ]
     },
     "execution_count": 5,
     "metadata": {},
     "output_type": "execute_result"
    },
    {
     "data": {
      "text/html": [
       "FALSE"
      ],
      "text/latex": [
       "FALSE"
      ],
      "text/markdown": [
       "FALSE"
      ],
      "text/plain": [
       "[1] FALSE"
      ]
     },
     "execution_count": 5,
     "metadata": {},
     "output_type": "execute_result"
    }
   ],
   "source": [
    "# R represents \"not a number\" by \"NA\" (it also represents missing values by \"NA,\" so be careful)\n",
    "x <- NA;\n",
    "x + 1  # arithmetic with \"NA\" gives \"NA\"\n",
    "\n",
    "is.na(x)  # check whether x is not a number\n",
    "is.na(pi)"
   ]
  },
  {
   "cell_type": "code",
   "execution_count": 6,
   "metadata": {
    "collapsed": false
   },
   "outputs": [
    {
     "data": {
      "text/html": [
       "<ol class=list-inline>\n",
       "\t<li>1</li>\n",
       "\t<li>2</li>\n",
       "\t<li>3</li>\n",
       "\t<li>4</li>\n",
       "\t<li>5</li>\n",
       "</ol>\n"
      ],
      "text/latex": [
       "\\begin{enumerate*}\n",
       "\\item 1\n",
       "\\item 2\n",
       "\\item 3\n",
       "\\item 4\n",
       "\\item 5\n",
       "\\end{enumerate*}\n"
      ],
      "text/markdown": [
       "1. 1\n",
       "2. 2\n",
       "3. 3\n",
       "4. 4\n",
       "5. 5\n",
       "\n",
       "\n"
      ],
      "text/plain": [
       "[1] 1 2 3 4 5"
      ]
     },
     "execution_count": 6,
     "metadata": {},
     "output_type": "execute_result"
    },
    {
     "data": {
      "text/html": [
       "<ol class=list-inline>\n",
       "\t<li>5</li>\n",
       "\t<li>4</li>\n",
       "\t<li>3</li>\n",
       "\t<li>2</li>\n",
       "\t<li>1</li>\n",
       "</ol>\n"
      ],
      "text/latex": [
       "\\begin{enumerate*}\n",
       "\\item 5\n",
       "\\item 4\n",
       "\\item 3\n",
       "\\item 2\n",
       "\\item 1\n",
       "\\end{enumerate*}\n"
      ],
      "text/markdown": [
       "1. 5\n",
       "2. 4\n",
       "3. 3\n",
       "4. 2\n",
       "5. 1\n",
       "\n",
       "\n"
      ],
      "text/plain": [
       "[1] 5 4 3 2 1"
      ]
     },
     "execution_count": 6,
     "metadata": {},
     "output_type": "execute_result"
    },
    {
     "data": {
      "text/html": [
       "<ol class=list-inline>\n",
       "\t<li>10</li>\n",
       "\t<li>9</li>\n",
       "\t<li>8</li>\n",
       "\t<li>7</li>\n",
       "\t<li>6</li>\n",
       "\t<li>5</li>\n",
       "</ol>\n"
      ],
      "text/latex": [
       "\\begin{enumerate*}\n",
       "\\item 10\n",
       "\\item 9\n",
       "\\item 8\n",
       "\\item 7\n",
       "\\item 6\n",
       "\\item 5\n",
       "\\end{enumerate*}\n"
      ],
      "text/markdown": [
       "1. 10\n",
       "2. 9\n",
       "3. 8\n",
       "4. 7\n",
       "5. 6\n",
       "6. 5\n",
       "\n",
       "\n"
      ],
      "text/plain": [
       "[1] 10  9  8  7  6  5"
      ]
     },
     "execution_count": 6,
     "metadata": {},
     "output_type": "execute_result"
    },
    {
     "data": {
      "text/html": [
       "<ol class=list-inline>\n",
       "\t<li>10</li>\n",
       "\t<li>9.9</li>\n",
       "\t<li>9.8</li>\n",
       "\t<li>9.7</li>\n",
       "\t<li>9.6</li>\n",
       "\t<li>9.5</li>\n",
       "\t<li>9.4</li>\n",
       "\t<li>9.3</li>\n",
       "\t<li>9.2</li>\n",
       "\t<li>9.1</li>\n",
       "\t<li>9</li>\n",
       "\t<li>8.9</li>\n",
       "\t<li>8.8</li>\n",
       "\t<li>8.7</li>\n",
       "\t<li>8.6</li>\n",
       "\t<li>8.5</li>\n",
       "\t<li>8.4</li>\n",
       "\t<li>8.3</li>\n",
       "\t<li>8.2</li>\n",
       "\t<li>8.1</li>\n",
       "\t<li>8</li>\n",
       "</ol>\n"
      ],
      "text/latex": [
       "\\begin{enumerate*}\n",
       "\\item 10\n",
       "\\item 9.9\n",
       "\\item 9.8\n",
       "\\item 9.7\n",
       "\\item 9.6\n",
       "\\item 9.5\n",
       "\\item 9.4\n",
       "\\item 9.3\n",
       "\\item 9.2\n",
       "\\item 9.1\n",
       "\\item 9\n",
       "\\item 8.9\n",
       "\\item 8.8\n",
       "\\item 8.7\n",
       "\\item 8.6\n",
       "\\item 8.5\n",
       "\\item 8.4\n",
       "\\item 8.3\n",
       "\\item 8.2\n",
       "\\item 8.1\n",
       "\\item 8\n",
       "\\end{enumerate*}\n"
      ],
      "text/markdown": [
       "1. 10\n",
       "2. 9.9\n",
       "3. 9.8\n",
       "4. 9.7\n",
       "5. 9.6\n",
       "6. 9.5\n",
       "7. 9.4\n",
       "8. 9.3\n",
       "9. 9.2\n",
       "10. 9.1\n",
       "11. 9\n",
       "12. 8.9\n",
       "13. 8.8\n",
       "14. 8.7\n",
       "15. 8.6\n",
       "16. 8.5\n",
       "17. 8.4\n",
       "18. 8.3\n",
       "19. 8.2\n",
       "20. 8.1\n",
       "21. 8\n",
       "\n",
       "\n"
      ],
      "text/plain": [
       " [1] 10.0  9.9  9.8  9.7  9.6  9.5  9.4  9.3  9.2  9.1  9.0  8.9  8.8  8.7  8.6\n",
       "[16]  8.5  8.4  8.3  8.2  8.1  8.0"
      ]
     },
     "execution_count": 6,
     "metadata": {},
     "output_type": "execute_result"
    },
    {
     "data": {
      "text/html": [
       "<ol class=list-inline>\n",
       "\t<li>-1</li>\n",
       "\t<li>-0.5</li>\n",
       "\t<li>0</li>\n",
       "\t<li>0.5</li>\n",
       "\t<li>1</li>\n",
       "</ol>\n"
      ],
      "text/latex": [
       "\\begin{enumerate*}\n",
       "\\item -1\n",
       "\\item -0.5\n",
       "\\item 0\n",
       "\\item 0.5\n",
       "\\item 1\n",
       "\\end{enumerate*}\n"
      ],
      "text/markdown": [
       "1. -1\n",
       "2. -0.5\n",
       "3. 0\n",
       "4. 0.5\n",
       "5. 1\n",
       "\n",
       "\n"
      ],
      "text/plain": [
       "[1] -1.0 -0.5  0.0  0.5  1.0"
      ]
     },
     "execution_count": 6,
     "metadata": {},
     "output_type": "execute_result"
    }
   ],
   "source": [
    "# ranges\n",
    "1:5  # up\n",
    "5:1  # down\n",
    "seq(from=10, to=5, by=-1) # more general\n",
    "seq(from=10, to=8, by = -0.1) # not just integers\n",
    "seq(length=5, from=-1, by=0.5) # a different way to call \"seq\""
   ]
  },
  {
   "cell_type": "code",
   "execution_count": 7,
   "metadata": {
    "collapsed": false
   },
   "outputs": [
    {
     "data": {
      "text/html": [
       "<ol class=list-inline>\n",
       "\t<li>0</li>\n",
       "\t<li>1</li>\n",
       "\t<li>2</li>\n",
       "\t<li>3</li>\n",
       "\t<li>4</li>\n",
       "\t<li>5</li>\n",
       "</ol>\n"
      ],
      "text/latex": [
       "\\begin{enumerate*}\n",
       "\\item 0\n",
       "\\item 1\n",
       "\\item 2\n",
       "\\item 3\n",
       "\\item 4\n",
       "\\item 5\n",
       "\\end{enumerate*}\n"
      ],
      "text/markdown": [
       "1. 0\n",
       "2. 1\n",
       "3. 2\n",
       "4. 3\n",
       "5. 4\n",
       "6. 5\n",
       "\n",
       "\n"
      ],
      "text/plain": [
       "[1] 0 1 2 3 4 5"
      ]
     },
     "execution_count": 7,
     "metadata": {},
     "output_type": "execute_result"
    },
    {
     "data": {
      "text/html": [
       "<ol class=list-inline>\n",
       "\t<li>1</li>\n",
       "\t<li>2</li>\n",
       "\t<li>3</li>\n",
       "\t<li>4</li>\n",
       "\t<li>5</li>\n",
       "</ol>\n"
      ],
      "text/latex": [
       "\\begin{enumerate*}\n",
       "\\item 1\n",
       "\\item 2\n",
       "\\item 3\n",
       "\\item 4\n",
       "\\item 5\n",
       "\\end{enumerate*}\n"
      ],
      "text/markdown": [
       "1. 1\n",
       "2. 2\n",
       "3. 3\n",
       "4. 4\n",
       "5. 5\n",
       "\n",
       "\n"
      ],
      "text/plain": [
       "[1] 1 2 3 4 5"
      ]
     },
     "execution_count": 7,
     "metadata": {},
     "output_type": "execute_result"
    }
   ],
   "source": [
    "# careful about order of operations! Sequences are expanded _before_ arithmetic operations\n",
    "1:6-1     # range is expanded into [1, 2, 3, 4, 5, 6], then scalar 1 is subtracted from each element\n",
    "1:(6-1)"
   ]
  },
  {
   "cell_type": "code",
   "execution_count": 8,
   "metadata": {
    "collapsed": false
   },
   "outputs": [
    {
     "data": {
      "text/html": [
       "<ol class=list-inline>\n",
       "\t<li>1</li>\n",
       "\t<li>2</li>\n",
       "\t<li>3</li>\n",
       "\t<li>4</li>\n",
       "</ol>\n"
      ],
      "text/latex": [
       "\\begin{enumerate*}\n",
       "\\item 1\n",
       "\\item 2\n",
       "\\item 3\n",
       "\\item 4\n",
       "\\end{enumerate*}\n"
      ],
      "text/markdown": [
       "1. 1\n",
       "2. 2\n",
       "3. 3\n",
       "4. 4\n",
       "\n",
       "\n"
      ],
      "text/plain": [
       "[1] 1 2 3 4"
      ]
     },
     "execution_count": 8,
     "metadata": {},
     "output_type": "execute_result"
    },
    {
     "data": {
      "text/html": [
       "<ol class=list-inline>\n",
       "\t<li>1</li>\n",
       "\t<li>2</li>\n",
       "\t<li>3</li>\n",
       "\t<li>4</li>\n",
       "\t<li>NA</li>\n",
       "</ol>\n"
      ],
      "text/latex": [
       "\\begin{enumerate*}\n",
       "\\item 1\n",
       "\\item 2\n",
       "\\item 3\n",
       "\\item 4\n",
       "\\item NA\n",
       "\\end{enumerate*}\n"
      ],
      "text/markdown": [
       "1. 1\n",
       "2. 2\n",
       "3. 3\n",
       "4. 4\n",
       "5. NA\n",
       "\n",
       "\n"
      ],
      "text/plain": [
       "[1]  1  2  3  4 NA"
      ]
     },
     "execution_count": 8,
     "metadata": {},
     "output_type": "execute_result"
    },
    {
     "data": {
      "text/html": [
       "<ol class=list-inline>\n",
       "\t<li>6</li>\n",
       "\t<li>6</li>\n",
       "\t<li>6</li>\n",
       "</ol>\n"
      ],
      "text/latex": [
       "\\begin{enumerate*}\n",
       "\\item 6\n",
       "\\item 6\n",
       "\\item 6\n",
       "\\end{enumerate*}\n"
      ],
      "text/markdown": [
       "1. 6\n",
       "2. 6\n",
       "3. 6\n",
       "\n",
       "\n"
      ],
      "text/plain": [
       "[1] 6 6 6"
      ]
     },
     "execution_count": 8,
     "metadata": {},
     "output_type": "execute_result"
    },
    {
     "data": {
      "text/html": [
       "<ol class=list-inline>\n",
       "\t<li>3</li>\n",
       "\t<li>2</li>\n",
       "\t<li>1</li>\n",
       "\t<li>3</li>\n",
       "\t<li>2</li>\n",
       "\t<li>1</li>\n",
       "\t<li>3</li>\n",
       "\t<li>2</li>\n",
       "\t<li>1</li>\n",
       "</ol>\n"
      ],
      "text/latex": [
       "\\begin{enumerate*}\n",
       "\\item 3\n",
       "\\item 2\n",
       "\\item 1\n",
       "\\item 3\n",
       "\\item 2\n",
       "\\item 1\n",
       "\\item 3\n",
       "\\item 2\n",
       "\\item 1\n",
       "\\end{enumerate*}\n"
      ],
      "text/markdown": [
       "1. 3\n",
       "2. 2\n",
       "3. 1\n",
       "4. 3\n",
       "5. 2\n",
       "6. 1\n",
       "7. 3\n",
       "8. 2\n",
       "9. 1\n",
       "\n",
       "\n"
      ],
      "text/plain": [
       "[1] 3 2 1 3 2 1 3 2 1"
      ]
     },
     "execution_count": 8,
     "metadata": {},
     "output_type": "execute_result"
    },
    {
     "data": {
      "text/html": [
       "<ol class=list-inline>\n",
       "\t<li>3</li>\n",
       "\t<li>2</li>\n",
       "\t<li>1</li>\n",
       "\t<li>3</li>\n",
       "\t<li>2</li>\n",
       "\t<li>1</li>\n",
       "\t<li>3</li>\n",
       "\t<li>2</li>\n",
       "\t<li>1</li>\n",
       "</ol>\n"
      ],
      "text/latex": [
       "\\begin{enumerate*}\n",
       "\\item 3\n",
       "\\item 2\n",
       "\\item 1\n",
       "\\item 3\n",
       "\\item 2\n",
       "\\item 1\n",
       "\\item 3\n",
       "\\item 2\n",
       "\\item 1\n",
       "\\end{enumerate*}\n"
      ],
      "text/markdown": [
       "1. 3\n",
       "2. 2\n",
       "3. 1\n",
       "4. 3\n",
       "5. 2\n",
       "6. 1\n",
       "7. 3\n",
       "8. 2\n",
       "9. 1\n",
       "\n",
       "\n"
      ],
      "text/plain": [
       "[1] 3 2 1 3 2 1 3 2 1"
      ]
     },
     "execution_count": 8,
     "metadata": {},
     "output_type": "execute_result"
    },
    {
     "data": {
      "text/html": [
       "<ol class=list-inline>\n",
       "\t<li>3</li>\n",
       "\t<li>3</li>\n",
       "\t<li>3</li>\n",
       "\t<li>2</li>\n",
       "\t<li>2</li>\n",
       "\t<li>2</li>\n",
       "\t<li>1</li>\n",
       "\t<li>1</li>\n",
       "\t<li>1</li>\n",
       "</ol>\n"
      ],
      "text/latex": [
       "\\begin{enumerate*}\n",
       "\\item 3\n",
       "\\item 3\n",
       "\\item 3\n",
       "\\item 2\n",
       "\\item 2\n",
       "\\item 2\n",
       "\\item 1\n",
       "\\item 1\n",
       "\\item 1\n",
       "\\end{enumerate*}\n"
      ],
      "text/markdown": [
       "1. 3\n",
       "2. 3\n",
       "3. 3\n",
       "4. 2\n",
       "5. 2\n",
       "6. 2\n",
       "7. 1\n",
       "8. 1\n",
       "9. 1\n",
       "\n",
       "\n"
      ],
      "text/plain": [
       "[1] 3 3 3 2 2 2 1 1 1"
      ]
     },
     "execution_count": 8,
     "metadata": {},
     "output_type": "execute_result"
    }
   ],
   "source": [
    "# catenation to make lists\n",
    "c(1,2,3,4)\n",
    "c(1,2,3,4,x)\n",
    "\n",
    "# list of repeated values\n",
    "rep(y,3)\n",
    "rep(3:1,3)  # defaults to putting 3 copies of the first argument end-to-end\n",
    "rep(3:1, times=3)\n",
    "rep(3:1, each=3) # copy each element 3 times"
   ]
  },
  {
   "cell_type": "code",
   "execution_count": 9,
   "metadata": {
    "collapsed": false
   },
   "outputs": [
    {
     "data": {
      "text/html": [
       "1"
      ],
      "text/latex": [
       "1"
      ],
      "text/markdown": [
       "1"
      ],
      "text/plain": [
       "[1] 1"
      ]
     },
     "execution_count": 9,
     "metadata": {},
     "output_type": "execute_result"
    },
    {
     "data": {
      "text/html": [
       "6"
      ],
      "text/latex": [
       "6"
      ],
      "text/markdown": [
       "6"
      ],
      "text/plain": [
       "[1] 6"
      ]
     },
     "execution_count": 9,
     "metadata": {},
     "output_type": "execute_result"
    },
    {
     "data": {
      "text/plain": [
       "[1] NA"
      ]
     },
     "execution_count": 9,
     "metadata": {},
     "output_type": "execute_result"
    },
    {
     "data": {
      "text/plain": [
       "[1] NA"
      ]
     },
     "execution_count": 9,
     "metadata": {},
     "output_type": "execute_result"
    }
   ],
   "source": [
    "# how long is a list?\n",
    "length(y)  \n",
    "\n",
    "# indexing a list\n",
    "y[1]  # R uses 1-based indexing\n",
    "y[5]\n",
    "y[6]  # nothing there!"
   ]
  },
  {
   "cell_type": "code",
   "execution_count": 10,
   "metadata": {
    "collapsed": false
   },
   "outputs": [
    {
     "data": {
      "text/html": [
       "<ol class=list-inline>\n",
       "\t<li>1</li>\n",
       "\t<li>3</li>\n",
       "\t<li>4</li>\n",
       "\t<li>5</li>\n",
       "</ol>\n"
      ],
      "text/latex": [
       "\\begin{enumerate*}\n",
       "\\item 1\n",
       "\\item 3\n",
       "\\item 4\n",
       "\\item 5\n",
       "\\end{enumerate*}\n"
      ],
      "text/markdown": [
       "1. 1\n",
       "2. 3\n",
       "3. 4\n",
       "4. 5\n",
       "\n",
       "\n"
      ],
      "text/plain": [
       "[1] 1 3 4 5"
      ]
     },
     "execution_count": 10,
     "metadata": {},
     "output_type": "execute_result"
    },
    {
     "data": {
      "text/html": [
       "<ol class=list-inline>\n",
       "\t<li>2</li>\n",
       "\t<li>3</li>\n",
       "\t<li>4</li>\n",
       "</ol>\n"
      ],
      "text/latex": [
       "\\begin{enumerate*}\n",
       "\\item 2\n",
       "\\item 3\n",
       "\\item 4\n",
       "\\end{enumerate*}\n"
      ],
      "text/markdown": [
       "1. 2\n",
       "2. 3\n",
       "3. 4\n",
       "\n",
       "\n"
      ],
      "text/plain": [
       "[1] 2 3 4"
      ]
     },
     "execution_count": 10,
     "metadata": {},
     "output_type": "execute_result"
    },
    {
     "data": {
      "text/html": [
       "<ol class=list-inline>\n",
       "\t<li>3</li>\n",
       "\t<li>4</li>\n",
       "\t<li>5</li>\n",
       "</ol>\n"
      ],
      "text/latex": [
       "\\begin{enumerate*}\n",
       "\\item 3\n",
       "\\item 4\n",
       "\\item 5\n",
       "\\end{enumerate*}\n"
      ],
      "text/markdown": [
       "1. 3\n",
       "2. 4\n",
       "3. 5\n",
       "\n",
       "\n"
      ],
      "text/plain": [
       "[1] 3 4 5"
      ]
     },
     "execution_count": 10,
     "metadata": {},
     "output_type": "execute_result"
    },
    {
     "data": {
      "text/html": [
       "<ol class=list-inline>\n",
       "\t<li>2</li>\n",
       "\t<li>3</li>\n",
       "\t<li>4</li>\n",
       "</ol>\n"
      ],
      "text/latex": [
       "\\begin{enumerate*}\n",
       "\\item 2\n",
       "\\item 3\n",
       "\\item 4\n",
       "\\end{enumerate*}\n"
      ],
      "text/markdown": [
       "1. 2\n",
       "2. 3\n",
       "3. 4\n",
       "\n",
       "\n"
      ],
      "text/plain": [
       "[1] 2 3 4"
      ]
     },
     "execution_count": 10,
     "metadata": {},
     "output_type": "execute_result"
    }
   ],
   "source": [
    "# slightly more advanced indexing\n",
    "#\n",
    "y <- 1:5;\n",
    "y[-2] # y without its second element\n",
    "y[2:4] # 2nd through 4th elements of y\n",
    "y[y>2] # logical indexing\n",
    "y[ y > 1 & y < 5] # more logical indexing"
   ]
  },
  {
   "cell_type": "code",
   "execution_count": 11,
   "metadata": {
    "collapsed": false
   },
   "outputs": [
    {
     "data": {
      "text/html": [
       "<table>\n",
       "<thead><tr><th scope=col>x</th><th scope=col>y</th></tr></thead>\n",
       "<tbody>\n",
       "\t<tr><td>1</td><td>6</td></tr>\n",
       "\t<tr><td>2</td><td>7</td></tr>\n",
       "\t<tr><td>3</td><td>8</td></tr>\n",
       "\t<tr><td>4</td><td>9</td></tr>\n",
       "\t<tr><td> 5</td><td>10</td></tr>\n",
       "</tbody>\n",
       "</table>\n"
      ],
      "text/latex": [
       "\\begin{tabular}{ll}\n",
       " x & y\\\\\n",
       "\\hline\n",
       "\t 1 & 6\\\\\n",
       "\t 2 & 7\\\\\n",
       "\t 3 & 8\\\\\n",
       "\t 4 & 9\\\\\n",
       "\t  5 & 10\\\\\n",
       "\\end{tabular}\n"
      ],
      "text/markdown": [
       "1. 1\n",
       "2. 2\n",
       "3. 3\n",
       "4. 4\n",
       "5. 5\n",
       "6. 6\n",
       "7. 7\n",
       "8. 8\n",
       "9. 9\n",
       "10. 10\n",
       "\n",
       "\n"
      ],
      "text/plain": [
       "     x  y\n",
       "[1,] 1  6\n",
       "[2,] 2  7\n",
       "[3,] 3  8\n",
       "[4,] 4  9\n",
       "[5,] 5 10"
      ]
     },
     "execution_count": 11,
     "metadata": {},
     "output_type": "execute_result"
    },
    {
     "data": {
      "text/html": [
       "<table>\n",
       "<thead><tr><th scope=col>x</th><th scope=col>y</th><th scope=col></th></tr></thead>\n",
       "<tbody>\n",
       "\t<tr><td>1</td><td>6</td><td>1</td></tr>\n",
       "\t<tr><td>2</td><td>7</td><td>4</td></tr>\n",
       "\t<tr><td>3</td><td>8</td><td>9</td></tr>\n",
       "\t<tr><td> 4</td><td> 9</td><td>16</td></tr>\n",
       "\t<tr><td> 5</td><td>10</td><td>25</td></tr>\n",
       "</tbody>\n",
       "</table>\n"
      ],
      "text/latex": [
       "\\begin{tabular}{lll}\n",
       " x & y & \\\\\n",
       "\\hline\n",
       "\t 1 & 6 & 1\\\\\n",
       "\t 2 & 7 & 4\\\\\n",
       "\t 3 & 8 & 9\\\\\n",
       "\t  4 &  9 & 16\\\\\n",
       "\t  5 & 10 & 25\\\\\n",
       "\\end{tabular}\n"
      ],
      "text/markdown": [
       "1. 1\n",
       "2. 2\n",
       "3. 3\n",
       "4. 4\n",
       "5. 5\n",
       "6. 6\n",
       "7. 7\n",
       "8. 8\n",
       "9. 9\n",
       "10. 10\n",
       "11. 1\n",
       "12. 4\n",
       "13. 9\n",
       "14. 16\n",
       "15. 25\n",
       "\n",
       "\n"
      ],
      "text/plain": [
       "     x  y   \n",
       "[1,] 1  6  1\n",
       "[2,] 2  7  4\n",
       "[3,] 3  8  9\n",
       "[4,] 4  9 16\n",
       "[5,] 5 10 25"
      ]
     },
     "execution_count": 11,
     "metadata": {},
     "output_type": "execute_result"
    }
   ],
   "source": [
    "# building arrays\n",
    "x <- 1:5;\n",
    "y <- 6:10;\n",
    "\n",
    "# column binding\n",
    "cbind(x,y)  # glue these together as columns\n",
    "cbind(x,y,x^2)"
   ]
  },
  {
   "cell_type": "code",
   "execution_count": 12,
   "metadata": {
    "collapsed": false
   },
   "outputs": [
    {
     "data": {
      "text/html": [
       "<table>\n",
       "<thead><tr><th></th><th scope=col>var1</th><th scope=col>time</th><th scope=col>val</th></tr></thead>\n",
       "<tbody>\n",
       "\t<tr><th scope=row>1</th><td>1</td><td>3</td><td>0.9480642</td></tr>\n",
       "\t<tr><th scope=row>2</th><td>2</td><td>4</td><td>0.7340699</td></tr>\n",
       "\t<tr><th scope=row>3</th><td>3</td><td>5</td><td>0.9362691</td></tr>\n",
       "\t<tr><th scope=row>4</th><td>4</td><td>6</td><td>0.7923703</td></tr>\n",
       "\t<tr><th scope=row>5</th><td>5</td><td>7</td><td>0.1712906</td></tr>\n",
       "</tbody>\n",
       "</table>\n"
      ],
      "text/latex": [
       "\\begin{tabular}{r|lll}\n",
       "  & var1 & time & val\\\\\n",
       "\\hline\n",
       "\t1 & 1 & 3 & 0.9480642\\\\\n",
       "\t2 & 2 & 4 & 0.7340699\\\\\n",
       "\t3 & 3 & 5 & 0.9362691\\\\\n",
       "\t4 & 4 & 6 & 0.7923703\\\\\n",
       "\t5 & 5 & 7 & 0.1712906\\\\\n",
       "\\end{tabular}\n"
      ],
      "text/plain": [
       "  var1 time       val\n",
       "1    1    3 0.9480642\n",
       "2    2    4 0.7340699\n",
       "3    3    5 0.9362691\n",
       "4    4    6 0.7923703\n",
       "5    5    7 0.1712906"
      ]
     },
     "execution_count": 12,
     "metadata": {},
     "output_type": "execute_result"
    },
    {
     "data": {
      "text/html": [
       "<ol class=list-inline>\n",
       "\t<li>0.948064158670604</li>\n",
       "\t<li>0.734069884754717</li>\n",
       "\t<li>0.936269063269719</li>\n",
       "\t<li>0.792370316572487</li>\n",
       "\t<li>0.171290643047541</li>\n",
       "</ol>\n"
      ],
      "text/latex": [
       "\\begin{enumerate*}\n",
       "\\item 0.948064158670604\n",
       "\\item 0.734069884754717\n",
       "\\item 0.936269063269719\n",
       "\\item 0.792370316572487\n",
       "\\item 0.171290643047541\n",
       "\\end{enumerate*}\n"
      ],
      "text/markdown": [
       "1. 0.948064158670604\n",
       "2. 0.734069884754717\n",
       "3. 0.936269063269719\n",
       "4. 0.792370316572487\n",
       "5. 0.171290643047541\n",
       "\n",
       "\n"
      ],
      "text/plain": [
       "[1] 0.9480642 0.7340699 0.9362691 0.7923703 0.1712906"
      ]
     },
     "execution_count": 12,
     "metadata": {},
     "output_type": "execute_result"
    }
   ],
   "source": [
    "# Dataframes\n",
    "# Dataframes are like arrays, but with names for the columns\n",
    "x <- data.frame(var1=1:5, time=3:7, val=runif(5));  # \"runif\" generates uniform random numbers\n",
    "x\n",
    "x$val"
   ]
  },
  {
   "cell_type": "code",
   "execution_count": 13,
   "metadata": {
    "collapsed": false
   },
   "outputs": [
    {
     "data": {
      "text/html": [
       "<table>\n",
       "<thead><tr><th></th><th scope=col>var1</th><th scope=col>time</th><th scope=col>val</th></tr></thead>\n",
       "<tbody>\n",
       "\t<tr><th scope=row>1</th><td>1</td><td>3</td><td>0.9480642</td></tr>\n",
       "\t<tr><th scope=row>2</th><td>2</td><td>4</td><td>0.7340699</td></tr>\n",
       "\t<tr><th scope=row>3</th><td>3</td><td>5</td><td>0.9362691</td></tr>\n",
       "\t<tr><th scope=row>4</th><td>4</td><td>6</td><td>0.7923703</td></tr>\n",
       "\t<tr><th scope=row>5</th><td>5</td><td>7</td><td>0.1712906</td></tr>\n",
       "\t<tr><th scope=row>6</th><td>6</td><td>7</td><td>8</td></tr>\n",
       "\t<tr><th scope=row>7</th><td>1.791759</td><td>1.94591</td><td>2.079442</td></tr>\n",
       "</tbody>\n",
       "</table>\n"
      ],
      "text/latex": [
       "\\begin{tabular}{r|lll}\n",
       "  & var1 & time & val\\\\\n",
       "\\hline\n",
       "\t1 & 1 & 3 & 0.9480642\\\\\n",
       "\t2 & 2 & 4 & 0.7340699\\\\\n",
       "\t3 & 3 & 5 & 0.9362691\\\\\n",
       "\t4 & 4 & 6 & 0.7923703\\\\\n",
       "\t5 & 5 & 7 & 0.1712906\\\\\n",
       "\t6 & 6 & 7 & 8\\\\\n",
       "\t7 & 1.791759 & 1.94591 & 2.079442\\\\\n",
       "\\end{tabular}\n"
      ],
      "text/plain": [
       "      var1    time       val\n",
       "1 1.000000 3.00000 0.9480642\n",
       "2 2.000000 4.00000 0.7340699\n",
       "3 3.000000 5.00000 0.9362691\n",
       "4 4.000000 6.00000 0.7923703\n",
       "5 5.000000 7.00000 0.1712906\n",
       "6 6.000000 7.00000 8.0000000\n",
       "7 1.791759 1.94591 2.0794415"
      ]
     },
     "execution_count": 13,
     "metadata": {},
     "output_type": "execute_result"
    }
   ],
   "source": [
    "# row binding\n",
    "rbind(x,y,log(y))"
   ]
  },
  {
   "cell_type": "code",
   "execution_count": 14,
   "metadata": {
    "collapsed": false
   },
   "outputs": [
    {
     "data": {
      "text/html": [
       "<table>\n",
       "<tbody>\n",
       "\t<tr><td> 1</td><td> 5</td><td> 9</td><td>13</td><td>17</td></tr>\n",
       "\t<tr><td> 2</td><td> 6</td><td>10</td><td>14</td><td>18</td></tr>\n",
       "\t<tr><td> 3</td><td> 7</td><td>11</td><td>15</td><td>19</td></tr>\n",
       "\t<tr><td> 4</td><td> 8</td><td>12</td><td>16</td><td>20</td></tr>\n",
       "</tbody>\n",
       "</table>\n"
      ],
      "text/latex": [
       "\\begin{tabular}{lllll}\n",
       "\t  1 &  5 &  9 & 13 & 17\\\\\n",
       "\t  2 &  6 & 10 & 14 & 18\\\\\n",
       "\t  3 &  7 & 11 & 15 & 19\\\\\n",
       "\t  4 &  8 & 12 & 16 & 20\\\\\n",
       "\\end{tabular}\n"
      ],
      "text/markdown": [
       "1. 1\n",
       "2. 2\n",
       "3. 3\n",
       "4. 4\n",
       "5. 5\n",
       "6. 6\n",
       "7. 7\n",
       "8. 8\n",
       "9. 9\n",
       "10. 10\n",
       "11. 11\n",
       "12. 12\n",
       "13. 13\n",
       "14. 14\n",
       "15. 15\n",
       "16. 16\n",
       "17. 17\n",
       "18. 18\n",
       "19. 19\n",
       "20. 20\n",
       "\n",
       "\n"
      ],
      "text/plain": [
       "     [,1] [,2] [,3] [,4] [,5]\n",
       "[1,]    1    5    9   13   17\n",
       "[2,]    2    6   10   14   18\n",
       "[3,]    3    7   11   15   19\n",
       "[4,]    4    8   12   16   20"
      ]
     },
     "execution_count": 14,
     "metadata": {},
     "output_type": "execute_result"
    },
    {
     "data": {
      "text/html": [
       "<table>\n",
       "<tbody>\n",
       "\t<tr><td> 1</td><td> 6</td><td>11</td><td>16</td></tr>\n",
       "\t<tr><td> 2</td><td> 7</td><td>12</td><td>17</td></tr>\n",
       "\t<tr><td> 3</td><td> 8</td><td>13</td><td>18</td></tr>\n",
       "\t<tr><td> 4</td><td> 9</td><td>14</td><td>19</td></tr>\n",
       "\t<tr><td> 5</td><td>10</td><td>15</td><td>20</td></tr>\n",
       "</tbody>\n",
       "</table>\n"
      ],
      "text/latex": [
       "\\begin{tabular}{llll}\n",
       "\t  1 &  6 & 11 & 16\\\\\n",
       "\t  2 &  7 & 12 & 17\\\\\n",
       "\t  3 &  8 & 13 & 18\\\\\n",
       "\t  4 &  9 & 14 & 19\\\\\n",
       "\t  5 & 10 & 15 & 20\\\\\n",
       "\\end{tabular}\n"
      ],
      "text/markdown": [
       "1. 1\n",
       "2. 2\n",
       "3. 3\n",
       "4. 4\n",
       "5. 5\n",
       "6. 6\n",
       "7. 7\n",
       "8. 8\n",
       "9. 9\n",
       "10. 10\n",
       "11. 11\n",
       "12. 12\n",
       "13. 13\n",
       "14. 14\n",
       "15. 15\n",
       "16. 16\n",
       "17. 17\n",
       "18. 18\n",
       "19. 19\n",
       "20. 20\n",
       "\n",
       "\n"
      ],
      "text/plain": [
       "     [,1] [,2] [,3] [,4]\n",
       "[1,]    1    6   11   16\n",
       "[2,]    2    7   12   17\n",
       "[3,]    3    8   13   18\n",
       "[4,]    4    9   14   19\n",
       "[5,]    5   10   15   20"
      ]
     },
     "execution_count": 14,
     "metadata": {},
     "output_type": "execute_result"
    },
    {
     "data": {
      "text/html": [
       "<ol class=list-inline>\n",
       "\t<li>1</li>\n",
       "\t<li>2</li>\n",
       "\t<li>3</li>\n",
       "\t<li>4</li>\n",
       "\t<li>5</li>\n",
       "\t<li>6</li>\n",
       "\t<li>7</li>\n",
       "\t<li>8</li>\n",
       "\t<li>9</li>\n",
       "\t<li>10</li>\n",
       "\t<li>11</li>\n",
       "\t<li>12</li>\n",
       "\t<li>13</li>\n",
       "\t<li>14</li>\n",
       "\t<li>15</li>\n",
       "\t<li>16</li>\n",
       "\t<li>17</li>\n",
       "\t<li>18</li>\n",
       "\t<li>19</li>\n",
       "\t<li>20</li>\n",
       "</ol>\n"
      ],
      "text/latex": [
       "\\begin{enumerate*}\n",
       "\\item 1\n",
       "\\item 2\n",
       "\\item 3\n",
       "\\item 4\n",
       "\\item 5\n",
       "\\item 6\n",
       "\\item 7\n",
       "\\item 8\n",
       "\\item 9\n",
       "\\item 10\n",
       "\\item 11\n",
       "\\item 12\n",
       "\\item 13\n",
       "\\item 14\n",
       "\\item 15\n",
       "\\item 16\n",
       "\\item 17\n",
       "\\item 18\n",
       "\\item 19\n",
       "\\item 20\n",
       "\\end{enumerate*}\n"
      ],
      "text/markdown": [
       "1. 1\n",
       "2. 2\n",
       "3. 3\n",
       "4. 4\n",
       "5. 5\n",
       "6. 6\n",
       "7. 7\n",
       "8. 8\n",
       "9. 9\n",
       "10. 10\n",
       "11. 11\n",
       "12. 12\n",
       "13. 13\n",
       "14. 14\n",
       "15. 15\n",
       "16. 16\n",
       "17. 17\n",
       "18. 18\n",
       "19. 19\n",
       "20. 20\n",
       "\n",
       "\n"
      ],
      "text/plain": [
       " [1]  1  2  3  4  5  6  7  8  9 10 11 12 13 14 15 16 17 18 19 20"
      ]
     },
     "execution_count": 14,
     "metadata": {},
     "output_type": "execute_result"
    },
    {
     "data": {
      "text/html": [
       "<table>\n",
       "<tbody>\n",
       "\t<tr><td> 1</td><td> 5</td><td> 9</td><td>13</td><td>17</td></tr>\n",
       "\t<tr><td> 2</td><td> 6</td><td>10</td><td>14</td><td>18</td></tr>\n",
       "\t<tr><td> 3</td><td> 7</td><td>11</td><td>15</td><td>19</td></tr>\n",
       "\t<tr><td> 4</td><td> 8</td><td>12</td><td>16</td><td>20</td></tr>\n",
       "</tbody>\n",
       "</table>\n"
      ],
      "text/latex": [
       "\\begin{tabular}{lllll}\n",
       "\t  1 &  5 &  9 & 13 & 17\\\\\n",
       "\t  2 &  6 & 10 & 14 & 18\\\\\n",
       "\t  3 &  7 & 11 & 15 & 19\\\\\n",
       "\t  4 &  8 & 12 & 16 & 20\\\\\n",
       "\\end{tabular}\n"
      ],
      "text/markdown": [
       "1. 1\n",
       "2. 2\n",
       "3. 3\n",
       "4. 4\n",
       "5. 5\n",
       "6. 6\n",
       "7. 7\n",
       "8. 8\n",
       "9. 9\n",
       "10. 10\n",
       "11. 11\n",
       "12. 12\n",
       "13. 13\n",
       "14. 14\n",
       "15. 15\n",
       "16. 16\n",
       "17. 17\n",
       "18. 18\n",
       "19. 19\n",
       "20. 20\n",
       "\n",
       "\n"
      ],
      "text/plain": [
       "     [,1] [,2] [,3] [,4] [,5]\n",
       "[1,]    1    5    9   13   17\n",
       "[2,]    2    6   10   14   18\n",
       "[3,]    3    7   11   15   19\n",
       "[4,]    4    8   12   16   20"
      ]
     },
     "execution_count": 14,
     "metadata": {},
     "output_type": "execute_result"
    }
   ],
   "source": [
    "# changing the dimension of an array\n",
    "x <- 1:20;\n",
    "dim(x) <- c(4,5);\n",
    "x  # note this is done columnwise first\n",
    "dim(x) <- c(5,4);\n",
    "x\n",
    "# you can turn x back into a list\n",
    "x <- as.vector(x);\n",
    "x\n",
    "# an alternative\n",
    "x <- array(1:20, dim=c(4,5));\n",
    "x"
   ]
  },
  {
   "cell_type": "code",
   "execution_count": 15,
   "metadata": {
    "collapsed": false
   },
   "outputs": [
    {
     "data": {
      "text/html": [
       "<table>\n",
       "<tbody>\n",
       "\t<tr><td>1</td><td>1</td><td>1</td><td>1</td></tr>\n",
       "\t<tr><td>2</td><td>2</td><td>2</td><td>2</td></tr>\n",
       "\t<tr><td>3</td><td>3</td><td>3</td><td>3</td></tr>\n",
       "\t<tr><td>4</td><td>4</td><td>4</td><td>4</td></tr>\n",
       "\t<tr><td>5</td><td>5</td><td>5</td><td>5</td></tr>\n",
       "</tbody>\n",
       "</table>\n"
      ],
      "text/latex": [
       "\\begin{tabular}{llll}\n",
       "\t 1 & 1 & 1 & 1\\\\\n",
       "\t 2 & 2 & 2 & 2\\\\\n",
       "\t 3 & 3 & 3 & 3\\\\\n",
       "\t 4 & 4 & 4 & 4\\\\\n",
       "\t 5 & 5 & 5 & 5\\\\\n",
       "\\end{tabular}\n"
      ],
      "text/markdown": [
       "1. 1\n",
       "2. 2\n",
       "3. 3\n",
       "4. 4\n",
       "5. 5\n",
       "6. 1\n",
       "7. 2\n",
       "8. 3\n",
       "9. 4\n",
       "10. 5\n",
       "11. 1\n",
       "12. 2\n",
       "13. 3\n",
       "14. 4\n",
       "15. 5\n",
       "16. 1\n",
       "17. 2\n",
       "18. 3\n",
       "19. 4\n",
       "20. 5\n",
       "\n",
       "\n"
      ],
      "text/plain": [
       "     [,1] [,2] [,3] [,4]\n",
       "[1,]    1    1    1    1\n",
       "[2,]    2    2    2    2\n",
       "[3,]    3    3    3    3\n",
       "[4,]    4    4    4    4\n",
       "[5,]    5    5    5    5"
      ]
     },
     "execution_count": 15,
     "metadata": {},
     "output_type": "execute_result"
    },
    {
     "data": {
      "text/html": [
       "<table>\n",
       "<tbody>\n",
       "\t<tr><td>1</td><td>5</td><td>4</td><td>3</td><td>2</td></tr>\n",
       "\t<tr><td>2</td><td>1</td><td>5</td><td>4</td><td>3</td></tr>\n",
       "\t<tr><td>3</td><td>2</td><td>1</td><td>5</td><td>4</td></tr>\n",
       "\t<tr><td>4</td><td>3</td><td>2</td><td>1</td><td>5</td></tr>\n",
       "</tbody>\n",
       "</table>\n"
      ],
      "text/latex": [
       "\\begin{tabular}{lllll}\n",
       "\t 1 & 5 & 4 & 3 & 2\\\\\n",
       "\t 2 & 1 & 5 & 4 & 3\\\\\n",
       "\t 3 & 2 & 1 & 5 & 4\\\\\n",
       "\t 4 & 3 & 2 & 1 & 5\\\\\n",
       "\\end{tabular}\n"
      ],
      "text/markdown": [
       "1. 1\n",
       "2. 2\n",
       "3. 3\n",
       "4. 4\n",
       "5. 5\n",
       "6. 1\n",
       "7. 2\n",
       "8. 3\n",
       "9. 4\n",
       "10. 5\n",
       "11. 1\n",
       "12. 2\n",
       "13. 3\n",
       "14. 4\n",
       "15. 5\n",
       "16. 1\n",
       "17. 2\n",
       "18. 3\n",
       "19. 4\n",
       "20. 5\n",
       "\n",
       "\n"
      ],
      "text/plain": [
       "     [,1] [,2] [,3] [,4] [,5]\n",
       "[1,]    1    5    4    3    2\n",
       "[2,]    2    1    5    4    3\n",
       "[3,]    3    2    1    5    4\n",
       "[4,]    4    3    2    1    5"
      ]
     },
     "execution_count": 15,
     "metadata": {},
     "output_type": "execute_result"
    }
   ],
   "source": [
    "# \"recycling\" in array construction\n",
    "x <- 1:5;\n",
    "array(x, dim=c(5,4))\n",
    "array(x, dim=c(4,5))"
   ]
  },
  {
   "cell_type": "code",
   "execution_count": 16,
   "metadata": {
    "collapsed": false
   },
   "outputs": [
    {
     "data": {
      "text/html": [
       "<ol class=list-inline>\n",
       "\t<li>1</li>\n",
       "\t<li>4</li>\n",
       "\t<li>9</li>\n",
       "\t<li>16</li>\n",
       "\t<li>25</li>\n",
       "</ol>\n"
      ],
      "text/latex": [
       "\\begin{enumerate*}\n",
       "\\item 1\n",
       "\\item 4\n",
       "\\item 9\n",
       "\\item 16\n",
       "\\item 25\n",
       "\\end{enumerate*}\n"
      ],
      "text/markdown": [
       "1. 1\n",
       "2. 4\n",
       "3. 9\n",
       "4. 16\n",
       "5. 25\n",
       "\n",
       "\n"
      ],
      "text/plain": [
       "[1]  1  4  9 16 25"
      ]
     },
     "execution_count": 16,
     "metadata": {},
     "output_type": "execute_result"
    },
    {
     "data": {
      "text/html": [
       "<ol class=list-inline>\n",
       "\t<li>1</li>\n",
       "\t<li>1.4142135623731</li>\n",
       "\t<li>1.73205080756888</li>\n",
       "\t<li>2</li>\n",
       "\t<li>2.23606797749979</li>\n",
       "</ol>\n"
      ],
      "text/latex": [
       "\\begin{enumerate*}\n",
       "\\item 1\n",
       "\\item 1.4142135623731\n",
       "\\item 1.73205080756888\n",
       "\\item 2\n",
       "\\item 2.23606797749979\n",
       "\\end{enumerate*}\n"
      ],
      "text/markdown": [
       "1. 1\n",
       "2. 1.4142135623731\n",
       "3. 1.73205080756888\n",
       "4. 2\n",
       "5. 2.23606797749979\n",
       "\n",
       "\n"
      ],
      "text/plain": [
       "[1] 1.000000 1.414214 1.732051 2.000000 2.236068"
      ]
     },
     "execution_count": 16,
     "metadata": {},
     "output_type": "execute_result"
    },
    {
     "data": {
      "text/html": [
       "<ol class=list-inline>\n",
       "\t<li>0</li>\n",
       "\t<li>0.693147180559945</li>\n",
       "\t<li>1.09861228866811</li>\n",
       "\t<li>1.38629436111989</li>\n",
       "\t<li>1.6094379124341</li>\n",
       "</ol>\n"
      ],
      "text/latex": [
       "\\begin{enumerate*}\n",
       "\\item 0\n",
       "\\item 0.693147180559945\n",
       "\\item 1.09861228866811\n",
       "\\item 1.38629436111989\n",
       "\\item 1.6094379124341\n",
       "\\end{enumerate*}\n"
      ],
      "text/markdown": [
       "1. 0\n",
       "2. 0.693147180559945\n",
       "3. 1.09861228866811\n",
       "4. 1.38629436111989\n",
       "5. 1.6094379124341\n",
       "\n",
       "\n"
      ],
      "text/plain": [
       "[1] 0.0000000 0.6931472 1.0986123 1.3862944 1.6094379"
      ]
     },
     "execution_count": 16,
     "metadata": {},
     "output_type": "execute_result"
    }
   ],
   "source": [
    "# operations on lists\n",
    "y <- 1:5;\n",
    "y^2\n",
    "sqrt(y)\n",
    "log(y)"
   ]
  },
  {
   "cell_type": "code",
   "execution_count": 17,
   "metadata": {
    "collapsed": false
   },
   "outputs": [
    {
     "name": "stderr",
     "output_type": "stream",
     "text": [
      "Warning message:\n",
      "In x + 2 * y: longer object length is not a multiple of shorter object length"
     ]
    },
    {
     "data": {
      "text/html": [
       "<ol class=list-inline>\n",
       "\t<li>24</li>\n",
       "\t<li>23</li>\n",
       "\t<li>22</li>\n",
       "\t<li>27</li>\n",
       "\t<li>26</li>\n",
       "</ol>\n"
      ],
      "text/latex": [
       "\\begin{enumerate*}\n",
       "\\item 24\n",
       "\\item 23\n",
       "\\item 22\n",
       "\\item 27\n",
       "\\item 26\n",
       "\\end{enumerate*}\n"
      ],
      "text/markdown": [
       "1. 24\n",
       "2. 23\n",
       "3. 22\n",
       "4. 27\n",
       "5. 26\n",
       "\n",
       "\n"
      ],
      "text/plain": [
       "[1] 24 23 22 27 26"
      ]
     },
     "execution_count": 17,
     "metadata": {},
     "output_type": "execute_result"
    }
   ],
   "source": [
    "# DANGER: R \"recycles\" values in list arithmetic to make lengths match. This can have unexpected consequences\n",
    "x <- 1:5;\n",
    "y <- 10:8;\n",
    "x + 2*y + 3 # this \"should\" complain because x and y have different lengths. But instead, \n",
    "            # R copies y 1.4 times to make [10, 9, 8, 10, 9], so the length matches that of\n",
    "            # x, the longest vector in the sum. That vector is then multiplied by 2. \n",
    "            # 3 is added as a scalar to every element"
   ]
  },
  {
   "cell_type": "code",
   "execution_count": 18,
   "metadata": {
    "collapsed": false
   },
   "outputs": [
    {
     "data": {
      "text/html": [
       "TRUE"
      ],
      "text/latex": [
       "TRUE"
      ],
      "text/markdown": [
       "TRUE"
      ],
      "text/plain": [
       "[1] TRUE"
      ]
     },
     "execution_count": 18,
     "metadata": {},
     "output_type": "execute_result"
    },
    {
     "data": {
      "text/html": [
       "FALSE"
      ],
      "text/latex": [
       "FALSE"
      ],
      "text/markdown": [
       "FALSE"
      ],
      "text/plain": [
       "[1] FALSE"
      ]
     },
     "execution_count": 18,
     "metadata": {},
     "output_type": "execute_result"
    },
    {
     "data": {
      "text/html": [
       "TRUE"
      ],
      "text/latex": [
       "TRUE"
      ],
      "text/markdown": [
       "TRUE"
      ],
      "text/plain": [
       "[1] TRUE"
      ]
     },
     "execution_count": 18,
     "metadata": {},
     "output_type": "execute_result"
    },
    {
     "data": {
      "text/html": [
       "FALSE"
      ],
      "text/latex": [
       "FALSE"
      ],
      "text/markdown": [
       "FALSE"
      ],
      "text/plain": [
       "[1] FALSE"
      ]
     },
     "execution_count": 18,
     "metadata": {},
     "output_type": "execute_result"
    },
    {
     "data": {
      "text/html": [
       "FALSE"
      ],
      "text/latex": [
       "FALSE"
      ],
      "text/markdown": [
       "FALSE"
      ],
      "text/plain": [
       "[1] FALSE"
      ]
     },
     "execution_count": 18,
     "metadata": {},
     "output_type": "execute_result"
    },
    {
     "data": {
      "text/html": [
       "FALSE"
      ],
      "text/latex": [
       "FALSE"
      ],
      "text/markdown": [
       "FALSE"
      ],
      "text/plain": [
       "[1] FALSE"
      ]
     },
     "execution_count": 18,
     "metadata": {},
     "output_type": "execute_result"
    },
    {
     "data": {
      "text/html": [
       "TRUE"
      ],
      "text/latex": [
       "TRUE"
      ],
      "text/markdown": [
       "TRUE"
      ],
      "text/plain": [
       "[1] TRUE"
      ]
     },
     "execution_count": 18,
     "metadata": {},
     "output_type": "execute_result"
    }
   ],
   "source": [
    "# logical (Boolean) variables\n",
    "T\n",
    "F\n",
    "x <- T;\n",
    "x\n",
    "1 == 2\n",
    "1 > 2\n",
    "1 >= 2\n",
    "1 != 2"
   ]
  },
  {
   "cell_type": "code",
   "execution_count": 19,
   "metadata": {
    "collapsed": false
   },
   "outputs": [
    {
     "data": {
      "text/html": [
       "FALSE"
      ],
      "text/latex": [
       "FALSE"
      ],
      "text/markdown": [
       "FALSE"
      ],
      "text/plain": [
       "[1] FALSE"
      ]
     },
     "execution_count": 19,
     "metadata": {},
     "output_type": "execute_result"
    },
    {
     "data": {
      "text/html": [
       "TRUE"
      ],
      "text/latex": [
       "TRUE"
      ],
      "text/markdown": [
       "TRUE"
      ],
      "text/plain": [
       "[1] TRUE"
      ]
     },
     "execution_count": 19,
     "metadata": {},
     "output_type": "execute_result"
    },
    {
     "data": {
      "text/html": [
       "TRUE"
      ],
      "text/latex": [
       "TRUE"
      ],
      "text/markdown": [
       "TRUE"
      ],
      "text/plain": [
       "[1] TRUE"
      ]
     },
     "execution_count": 19,
     "metadata": {},
     "output_type": "execute_result"
    },
    {
     "data": {
      "text/html": [
       "FALSE"
      ],
      "text/latex": [
       "FALSE"
      ],
      "text/markdown": [
       "FALSE"
      ],
      "text/plain": [
       "[1] FALSE"
      ]
     },
     "execution_count": 19,
     "metadata": {},
     "output_type": "execute_result"
    },
    {
     "data": {
      "text/html": [
       "TRUE"
      ],
      "text/latex": [
       "TRUE"
      ],
      "text/markdown": [
       "TRUE"
      ],
      "text/plain": [
       "[1] TRUE"
      ]
     },
     "execution_count": 19,
     "metadata": {},
     "output_type": "execute_result"
    },
    {
     "data": {
      "text/html": [
       "FALSE"
      ],
      "text/latex": [
       "FALSE"
      ],
      "text/markdown": [
       "FALSE"
      ],
      "text/plain": [
       "[1] FALSE"
      ]
     },
     "execution_count": 19,
     "metadata": {},
     "output_type": "execute_result"
    },
    {
     "data": {
      "text/html": [
       "TRUE"
      ],
      "text/latex": [
       "TRUE"
      ],
      "text/markdown": [
       "TRUE"
      ],
      "text/plain": [
       "[1] TRUE"
      ]
     },
     "execution_count": 19,
     "metadata": {},
     "output_type": "execute_result"
    }
   ],
   "source": [
    "# logical operators\n",
    "!T\n",
    "!F\n",
    "T | F  # logical \"or\"\n",
    "F | F\n",
    "T & T  # logical \"and\"\n",
    "T & F\n",
    "!(T & F)"
   ]
  },
  {
   "cell_type": "code",
   "execution_count": 20,
   "metadata": {
    "collapsed": false
   },
   "outputs": [
    {
     "data": {
      "text/html": [
       "FALSE"
      ],
      "text/latex": [
       "FALSE"
      ],
      "text/markdown": [
       "FALSE"
      ],
      "text/plain": [
       "[1] FALSE"
      ]
     },
     "execution_count": 20,
     "metadata": {},
     "output_type": "execute_result"
    },
    {
     "data": {
      "text/html": [
       "TRUE"
      ],
      "text/latex": [
       "TRUE"
      ],
      "text/markdown": [
       "TRUE"
      ],
      "text/plain": [
       "[1] TRUE"
      ]
     },
     "execution_count": 20,
     "metadata": {},
     "output_type": "execute_result"
    },
    {
     "data": {
      "text/html": [
       "TRUE"
      ],
      "text/latex": [
       "TRUE"
      ],
      "text/markdown": [
       "TRUE"
      ],
      "text/plain": [
       "[1] TRUE"
      ]
     },
     "execution_count": 20,
     "metadata": {},
     "output_type": "execute_result"
    },
    {
     "data": {
      "text/html": [
       "TRUE"
      ],
      "text/latex": [
       "TRUE"
      ],
      "text/markdown": [
       "TRUE"
      ],
      "text/plain": [
       "[1] TRUE"
      ]
     },
     "execution_count": 20,
     "metadata": {},
     "output_type": "execute_result"
    },
    {
     "ename": "ERROR",
     "evalue": "Error in \"hello\" & T: operations are possible only for numeric, logical or complex types\n",
     "output_type": "error",
     "traceback": [
      "Error in \"hello\" & T: operations are possible only for numeric, logical or complex types\n"
     ]
    }
   ],
   "source": [
    "# most numerical values can be cast as Booleans\n",
    "0 & T\n",
    "0 | T\n",
    "1 & T\n",
    "pi & T\n",
    "# but not strings:\n",
    "\"hello\" & T  # fail"
   ]
  },
  {
   "cell_type": "code",
   "execution_count": 21,
   "metadata": {
    "collapsed": false
   },
   "outputs": [
    {
     "data": {
      "text/html": [
       "<ol class=list-inline>\n",
       "\t<li>10</li>\n",
       "\t<li>9</li>\n",
       "\t<li>8</li>\n",
       "\t<li>7</li>\n",
       "\t<li>6</li>\n",
       "\t<li>5</li>\n",
       "</ol>\n"
      ],
      "text/latex": [
       "\\begin{enumerate*}\n",
       "\\item 10\n",
       "\\item 9\n",
       "\\item 8\n",
       "\\item 7\n",
       "\\item 6\n",
       "\\item 5\n",
       "\\end{enumerate*}\n"
      ],
      "text/markdown": [
       "1. 10\n",
       "2. 9\n",
       "3. 8\n",
       "4. 7\n",
       "5. 6\n",
       "6. 5\n",
       "\n",
       "\n"
      ],
      "text/plain": [
       "[1] 10  9  8  7  6  5"
      ]
     },
     "execution_count": 21,
     "metadata": {},
     "output_type": "execute_result"
    },
    {
     "data": {
      "text/html": [
       "<ol class=list-inline>\n",
       "\t<li>5</li>\n",
       "\t<li>6</li>\n",
       "\t<li>7</li>\n",
       "\t<li>8</li>\n",
       "\t<li>9</li>\n",
       "\t<li>10</li>\n",
       "</ol>\n"
      ],
      "text/latex": [
       "\\begin{enumerate*}\n",
       "\\item 5\n",
       "\\item 6\n",
       "\\item 7\n",
       "\\item 8\n",
       "\\item 9\n",
       "\\item 10\n",
       "\\end{enumerate*}\n"
      ],
      "text/markdown": [
       "1. 5\n",
       "2. 6\n",
       "3. 7\n",
       "4. 8\n",
       "5. 9\n",
       "6. 10\n",
       "\n",
       "\n"
      ],
      "text/plain": [
       "[1]  5  6  7  8  9 10"
      ]
     },
     "execution_count": 21,
     "metadata": {},
     "output_type": "execute_result"
    },
    {
     "data": {
      "text/html": [
       "<ol class=list-inline>\n",
       "\t<li>6</li>\n",
       "\t<li>5</li>\n",
       "\t<li>4</li>\n",
       "\t<li>3</li>\n",
       "\t<li>2</li>\n",
       "\t<li>1</li>\n",
       "</ol>\n"
      ],
      "text/latex": [
       "\\begin{enumerate*}\n",
       "\\item 6\n",
       "\\item 5\n",
       "\\item 4\n",
       "\\item 3\n",
       "\\item 2\n",
       "\\item 1\n",
       "\\end{enumerate*}\n"
      ],
      "text/markdown": [
       "1. 6\n",
       "2. 5\n",
       "3. 4\n",
       "4. 3\n",
       "5. 2\n",
       "6. 1\n",
       "\n",
       "\n"
      ],
      "text/plain": [
       "[1] 6 5 4 3 2 1"
      ]
     },
     "execution_count": 21,
     "metadata": {},
     "output_type": "execute_result"
    },
    {
     "data": {
      "text/html": [
       "10"
      ],
      "text/latex": [
       "10"
      ],
      "text/markdown": [
       "10"
      ],
      "text/plain": [
       "[1] 10"
      ]
     },
     "execution_count": 21,
     "metadata": {},
     "output_type": "execute_result"
    },
    {
     "data": {
      "text/html": [
       "5"
      ],
      "text/latex": [
       "5"
      ],
      "text/markdown": [
       "5"
      ],
      "text/plain": [
       "[1] 5"
      ]
     },
     "execution_count": 21,
     "metadata": {},
     "output_type": "execute_result"
    },
    {
     "data": {
      "text/html": [
       "100"
      ],
      "text/latex": [
       "100"
      ],
      "text/markdown": [
       "100"
      ],
      "text/plain": [
       "[1] 100"
      ]
     },
     "execution_count": 21,
     "metadata": {},
     "output_type": "execute_result"
    },
    {
     "data": {
      "text/html": [
       "100"
      ],
      "text/latex": [
       "100"
      ],
      "text/markdown": [
       "100"
      ],
      "text/plain": [
       "[1] 100"
      ]
     },
     "execution_count": 21,
     "metadata": {},
     "output_type": "execute_result"
    }
   ],
   "source": [
    "# sorting, max, min\n",
    "x <- 10:5;\n",
    "x\n",
    "sort(x)\n",
    "# what permutation puts the list in sorted order?\n",
    "order(x)\n",
    "#\n",
    "max(x)\n",
    "min(x)\n",
    "max(x^2)\n",
    "max(x)^2"
   ]
  },
  {
   "cell_type": "code",
   "execution_count": 2,
   "metadata": {
    "collapsed": false
   },
   "outputs": [
    {
     "data": {
      "text/html": [
       "55"
      ],
      "text/latex": [
       "55"
      ],
      "text/markdown": [
       "55"
      ],
      "text/plain": [
       "[1] 55"
      ]
     },
     "execution_count": 2,
     "metadata": {},
     "output_type": "execute_result"
    },
    {
     "data": {
      "text/html": [
       "3628800"
      ],
      "text/latex": [
       "3628800"
      ],
      "text/markdown": [
       "3628800"
      ],
      "text/plain": [
       "[1] 3628800"
      ]
     },
     "execution_count": 2,
     "metadata": {},
     "output_type": "execute_result"
    },
    {
     "data": {
      "text/html": [
       "5.5"
      ],
      "text/latex": [
       "5.5"
      ],
      "text/markdown": [
       "5.5"
      ],
      "text/plain": [
       "[1] 5.5"
      ]
     },
     "execution_count": 2,
     "metadata": {},
     "output_type": "execute_result"
    },
    {
     "data": {
      "text/plain": [
       "[1] NA"
      ]
     },
     "execution_count": 2,
     "metadata": {},
     "output_type": "execute_result"
    },
    {
     "data": {
      "text/plain": [
       "[1] NA"
      ]
     },
     "execution_count": 2,
     "metadata": {},
     "output_type": "execute_result"
    },
    {
     "data": {
      "text/plain": [
       "[1] NA"
      ]
     },
     "execution_count": 2,
     "metadata": {},
     "output_type": "execute_result"
    },
    {
     "data": {
      "text/html": [
       "55"
      ],
      "text/latex": [
       "55"
      ],
      "text/markdown": [
       "55"
      ],
      "text/plain": [
       "[1] 55"
      ]
     },
     "execution_count": 2,
     "metadata": {},
     "output_type": "execute_result"
    },
    {
     "data": {
      "text/html": [
       "3628800"
      ],
      "text/latex": [
       "3628800"
      ],
      "text/markdown": [
       "3628800"
      ],
      "text/plain": [
       "[1] 3628800"
      ]
     },
     "execution_count": 2,
     "metadata": {},
     "output_type": "execute_result"
    },
    {
     "data": {
      "text/html": [
       "5.5"
      ],
      "text/latex": [
       "5.5"
      ],
      "text/markdown": [
       "5.5"
      ],
      "text/plain": [
       "[1] 5.5"
      ]
     },
     "execution_count": 2,
     "metadata": {},
     "output_type": "execute_result"
    }
   ],
   "source": [
    "# other useful functions on lists\n",
    "x <- 1:10\n",
    "sum(x)  # sum of the elements\n",
    "prod(x) # product of all the elements\n",
    "mean(x) # mean of the elements\n",
    "\n",
    "x[11] <- NA # now x has an element that's NA\n",
    "\n",
    "sum(x)  # fail\n",
    "prod(x)\n",
    "mean(x)\n",
    "sum(x, na.rm = T)  # sum, omitting NAs\n",
    "prod(x, na.rm = T) # product, omitting NAs\n",
    "mean(x, na.rm = T) # mean, omitting NAs"
   ]
  },
  {
   "cell_type": "code",
   "execution_count": 22,
   "metadata": {
    "collapsed": false,
    "scrolled": true
   },
   "outputs": [
    {
     "data": {
      "text/html": [
       "\n",
       "<table width=\"100%\" summary=\"page for c {base}\"><tr><td>c {base}</td><td align=\"right\">R Documentation</td></tr></table>\n",
       "\n",
       "<h2>Combine Values into a Vector or List</h2>\n",
       "\n",
       "<h3>Description</h3>\n",
       "\n",
       "<p>This is a generic function which combines its arguments.\n",
       "</p>\n",
       "<p>The default method combines its arguments to form a vector.\n",
       "All arguments are coerced to a common type which is the type\n",
       "of the returned value, and all attributes except names are removed.\n",
       "</p>\n",
       "\n",
       "\n",
       "<h3>Usage</h3>\n",
       "\n",
       "<pre>\n",
       "c(..., recursive = FALSE)\n",
       "</pre>\n",
       "\n",
       "\n",
       "<h3>Arguments</h3>\n",
       "\n",
       "<table summary=\"R argblock\">\n",
       "<tr valign=\"top\"><td><code>...</code></td>\n",
       "<td>\n",
       "<p>objects to be concatenated.</p>\n",
       "</td></tr>\n",
       "<tr valign=\"top\"><td><code>recursive</code></td>\n",
       "<td>\n",
       "<p>logical.  If <code>recursive = TRUE</code>, the function\n",
       "recursively descends through lists (and pairlists) combining all\n",
       "their elements into a vector.</p>\n",
       "</td></tr>\n",
       "</table>\n",
       "\n",
       "\n",
       "<h3>Details</h3>\n",
       "\n",
       "<p>The output type is determined from the highest type of the components\n",
       "in the hierarchy NULL &lt; raw &lt; logical &lt; integer &lt; double &lt; complex &lt; character\n",
       "&lt; list &lt; expression.  Pairlists are treated as lists, but non-vector\n",
       "components (such names and calls) are treated as one-element lists\n",
       "which cannot be unlisted even if <code>recursive = TRUE</code>.\n",
       "</p>\n",
       "<p><code>c</code> is sometimes used for its side effect of removing attributes\n",
       "except names, for example to turn an array into a vector.\n",
       "<code>as.vector</code> is a more intuitive way to do this, but also drops\n",
       "names.  Note too that methods other than the default are not required\n",
       "to do this (and they will almost certainly preserve a class attribute).\n",
       "</p>\n",
       "<p>This is a primitive function.\n",
       "</p>\n",
       "\n",
       "\n",
       "<h3>Value</h3>\n",
       "\n",
       "<p><code>NULL</code> or an expression or a vector of an appropriate mode.\n",
       "(With no arguments the value is <code>NULL</code>.)\n",
       "</p>\n",
       "\n",
       "\n",
       "<h3>S4 methods</h3>\n",
       "\n",
       "<p>This function is S4 generic, but with argument list\n",
       "<code>(x, ..., recursive = FALSE)</code>.\n",
       "</p>\n",
       "\n",
       "\n",
       "<h3>References</h3>\n",
       "\n",
       "<p>Becker, R. A., Chambers, J. M. and Wilks, A. R. (1988)\n",
       "<EM>The New S Language</EM>.\n",
       "Wadsworth &amp; Brooks/Cole.\n",
       "</p>\n",
       "\n",
       "\n",
       "<h3>See Also</h3>\n",
       "\n",
       "<p><code>unlist</code> and <code>as.vector</code> to produce\n",
       "attribute-free vectors.\n",
       "</p>\n",
       "\n",
       "\n",
       "<h3>Examples</h3>\n",
       "\n",
       "<pre>\n",
       "c(1,7:9)\n",
       "c(1:5, 10.5, \"next\")\n",
       "\n",
       "## uses with a single argument to drop attributes\n",
       "x &lt;- 1:4\n",
       "names(x) &lt;- letters[1:4]\n",
       "x\n",
       "c(x)          # has names\n",
       "as.vector(x)  # no names\n",
       "dim(x) &lt;- c(2,2)\n",
       "x\n",
       "c(x)\n",
       "as.vector(x)\n",
       "\n",
       "## append to a list:\n",
       "ll &lt;- list(A = 1, c = \"C\")\n",
       "## do *not* use\n",
       "c(ll, d = 1:3) # which is == c(ll, as.list(c(d = 1:3))\n",
       "## but rather\n",
       "c(ll, d = list(1:3))  # c() combining two lists\n",
       "\n",
       "c(list(A = c(B = 1)), recursive = TRUE)\n",
       "\n",
       "c(options(), recursive = TRUE)\n",
       "c(list(A = c(B = 1, C = 2), B = c(E = 7)), recursive = TRUE)\n",
       "</pre>\n",
       "\n",
       "<hr><div align=\"center\">[Package <em>base</em> version 3.1.3 ]</div>"
      ],
      "text/latex": [
       "\\inputencoding{utf8}\n",
       "\\HeaderA{c}{Combine Values into a Vector or List}{c}\n",
       "\\keyword{manip}{c}\n",
       "%\n",
       "\\begin{Description}\\relax\n",
       "This is a generic function which combines its arguments.\n",
       "\n",
       "The default method combines its arguments to form a vector.\n",
       "All arguments are coerced to a common type which is the type\n",
       "of the returned value, and all attributes except names are removed.\n",
       "\\end{Description}\n",
       "%\n",
       "\\begin{Usage}\n",
       "\\begin{verbatim}\n",
       "c(..., recursive = FALSE)\n",
       "\\end{verbatim}\n",
       "\\end{Usage}\n",
       "%\n",
       "\\begin{Arguments}\n",
       "\\begin{ldescription}\n",
       "\\item[\\code{...}] objects to be concatenated.\n",
       "\\item[\\code{recursive}] logical.  If \\code{recursive = TRUE}, the function\n",
       "recursively descends through lists (and pairlists) combining all\n",
       "their elements into a vector.\n",
       "\\end{ldescription}\n",
       "\\end{Arguments}\n",
       "%\n",
       "\\begin{Details}\\relax\n",
       "The output type is determined from the highest type of the components\n",
       "in the hierarchy NULL < raw < logical < integer < double < complex < character\n",
       "< list < expression.  Pairlists are treated as lists, but non-vector\n",
       "components (such names and calls) are treated as one-element lists\n",
       "which cannot be unlisted even if \\code{recursive = TRUE}.\n",
       "\n",
       "\\code{c} is sometimes used for its side effect of removing attributes\n",
       "except names, for example to turn an array into a vector.\n",
       "\\code{as.vector} is a more intuitive way to do this, but also drops\n",
       "names.  Note too that methods other than the default are not required\n",
       "to do this (and they will almost certainly preserve a class attribute).\n",
       "\n",
       "This is a \\LinkA{primitive}{primitive} function.\n",
       "\\end{Details}\n",
       "%\n",
       "\\begin{Value}\n",
       "\\code{NULL} or an expression or a vector of an appropriate mode.\n",
       "(With no arguments the value is \\code{NULL}.)\n",
       "\\end{Value}\n",
       "%\n",
       "\\begin{Section}{S4 methods}\n",
       "This function is S4 generic, but with argument list\n",
       "\\code{(x, ..., recursive = FALSE)}.\n",
       "\\end{Section}\n",
       "%\n",
       "\\begin{References}\\relax\n",
       "Becker, R. A., Chambers, J. M. and Wilks, A. R. (1988)\n",
       "\\emph{The New S Language}.\n",
       "Wadsworth \\& Brooks/Cole.\n",
       "\\end{References}\n",
       "%\n",
       "\\begin{SeeAlso}\\relax\n",
       "\\code{\\LinkA{unlist}{unlist}} and \\code{\\LinkA{as.vector}{as.vector}} to produce\n",
       "attribute-free vectors.\n",
       "\\end{SeeAlso}\n",
       "%\n",
       "\\begin{Examples}\n",
       "\\begin{ExampleCode}\n",
       "c(1,7:9)\n",
       "c(1:5, 10.5, \"next\")\n",
       "\n",
       "## uses with a single argument to drop attributes\n",
       "x <- 1:4\n",
       "names(x) <- letters[1:4]\n",
       "x\n",
       "c(x)          # has names\n",
       "as.vector(x)  # no names\n",
       "dim(x) <- c(2,2)\n",
       "x\n",
       "c(x)\n",
       "as.vector(x)\n",
       "\n",
       "## append to a list:\n",
       "ll <- list(A = 1, c = \"C\")\n",
       "## do *not* use\n",
       "c(ll, d = 1:3) # which is == c(ll, as.list(c(d = 1:3))\n",
       "## but rather\n",
       "c(ll, d = list(1:3))  # c() combining two lists\n",
       "\n",
       "c(list(A = c(B = 1)), recursive = TRUE)\n",
       "\n",
       "c(options(), recursive = TRUE)\n",
       "c(list(A = c(B = 1, C = 2), B = c(E = 7)), recursive = TRUE)\n",
       "\\end{ExampleCode}\n",
       "\\end{Examples}"
      ],
      "text/plain": [
       "c                     package:base                     R Documentation\n",
       "\n",
       "_\bC_\bo_\bm_\bb_\bi_\bn_\be _\bV_\ba_\bl_\bu_\be_\bs _\bi_\bn_\bt_\bo _\ba _\bV_\be_\bc_\bt_\bo_\br _\bo_\br _\bL_\bi_\bs_\bt\n",
       "\n",
       "_\bD_\be_\bs_\bc_\br_\bi_\bp_\bt_\bi_\bo_\bn:\n",
       "\n",
       "     This is a generic function which combines its arguments.\n",
       "\n",
       "     The default method combines its arguments to form a vector.  All\n",
       "     arguments are coerced to a common type which is the type of the\n",
       "     returned value, and all attributes except names are removed.\n",
       "\n",
       "_\bU_\bs_\ba_\bg_\be:\n",
       "\n",
       "     c(..., recursive = FALSE)\n",
       "     \n",
       "_\bA_\br_\bg_\bu_\bm_\be_\bn_\bt_\bs:\n",
       "\n",
       "     ...: objects to be concatenated.\n",
       "\n",
       "recursive: logical.  If ‘recursive = TRUE’, the function recursively\n",
       "          descends through lists (and pairlists) combining all their\n",
       "          elements into a vector.\n",
       "\n",
       "_\bD_\be_\bt_\ba_\bi_\bl_\bs:\n",
       "\n",
       "     The output type is determined from the highest type of the\n",
       "     components in the hierarchy NULL < raw < logical < integer <\n",
       "     double < complex < character < list < expression.  Pairlists are\n",
       "     treated as lists, but non-vector components (such names and calls)\n",
       "     are treated as one-element lists which cannot be unlisted even if\n",
       "     ‘recursive = TRUE’.\n",
       "\n",
       "     ‘c’ is sometimes used for its side effect of removing attributes\n",
       "     except names, for example to turn an array into a vector.\n",
       "     ‘as.vector’ is a more intuitive way to do this, but also drops\n",
       "     names.  Note too that methods other than the default are not\n",
       "     required to do this (and they will almost certainly preserve a\n",
       "     class attribute).\n",
       "\n",
       "     This is a primitive function.\n",
       "\n",
       "_\bV_\ba_\bl_\bu_\be:\n",
       "\n",
       "     ‘NULL’ or an expression or a vector of an appropriate mode.  (With\n",
       "     no arguments the value is ‘NULL’.)\n",
       "\n",
       "_\bS_\b4 _\bm_\be_\bt_\bh_\bo_\bd_\bs:\n",
       "\n",
       "     This function is S4 generic, but with argument list ‘(x, ...,\n",
       "     recursive = FALSE)’.\n",
       "\n",
       "_\bR_\be_\bf_\be_\br_\be_\bn_\bc_\be_\bs:\n",
       "\n",
       "     Becker, R. A., Chambers, J. M. and Wilks, A. R. (1988) _The New S\n",
       "     Language_.  Wadsworth & Brooks/Cole.\n",
       "\n",
       "_\bS_\be_\be _\bA_\bl_\bs_\bo:\n",
       "\n",
       "     ‘unlist’ and ‘as.vector’ to produce attribute-free vectors.\n",
       "\n",
       "_\bE_\bx_\ba_\bm_\bp_\bl_\be_\bs:\n",
       "\n",
       "     c(1,7:9)\n",
       "     c(1:5, 10.5, \"next\")\n",
       "     \n",
       "     ## uses with a single argument to drop attributes\n",
       "     x <- 1:4\n",
       "     names(x) <- letters[1:4]\n",
       "     x\n",
       "     c(x)          # has names\n",
       "     as.vector(x)  # no names\n",
       "     dim(x) <- c(2,2)\n",
       "     x\n",
       "     c(x)\n",
       "     as.vector(x)\n",
       "     \n",
       "     ## append to a list:\n",
       "     ll <- list(A = 1, c = \"C\")\n",
       "     ## do *not* use\n",
       "     c(ll, d = 1:3) # which is == c(ll, as.list(c(d = 1:3))\n",
       "     ## but rather\n",
       "     c(ll, d = list(1:3))  # c() combining two lists\n",
       "     \n",
       "     c(list(A = c(B = 1)), recursive = TRUE)\n",
       "     \n",
       "     c(options(), recursive = TRUE)\n",
       "     c(list(A = c(B = 1, C = 2), B = c(E = 7)), recursive = TRUE)\n",
       "     "
      ]
     },
     "execution_count": 22,
     "metadata": {},
     "output_type": "execute_result"
    }
   ],
   "source": [
    "# utilities\n",
    "help(\"c\")  # help on a particular function"
   ]
  },
  {
   "cell_type": "code",
   "execution_count": 23,
   "metadata": {
    "collapsed": false
   },
   "outputs": [
    {
     "data": {
      "text/html": [
       "<ol class=list-inline>\n",
       "\t<li>'x'</li>\n",
       "\t<li>'y'</li>\n",
       "</ol>\n"
      ],
      "text/latex": [
       "\\begin{enumerate*}\n",
       "\\item 'x'\n",
       "\\item 'y'\n",
       "\\end{enumerate*}\n"
      ],
      "text/markdown": [
       "1. 'x'\n",
       "2. 'y'\n",
       "\n",
       "\n"
      ],
      "text/plain": [
       "[1] \"x\" \"y\""
      ]
     },
     "execution_count": 23,
     "metadata": {},
     "output_type": "execute_result"
    },
    {
     "ename": "ERROR",
     "evalue": "Error in eval(expr, envir, enclos): object 'y' not found\n",
     "output_type": "error",
     "traceback": [
      "Error in eval(expr, envir, enclos): object 'y' not found\n"
     ]
    },
    {
     "data": {
      "text/html": [
       "'x'"
      ],
      "text/latex": [
       "'x'"
      ],
      "text/markdown": [
       "'x'"
      ],
      "text/plain": [
       "[1] \"x\""
      ]
     },
     "execution_count": 23,
     "metadata": {},
     "output_type": "execute_result"
    }
   ],
   "source": [
    "# more utilities\n",
    "ls()  # what variables are in the namespace?\n",
    "rm(y) # delete the variable y\n",
    "y\n",
    "ls()"
   ]
  },
  {
   "cell_type": "code",
   "execution_count": 24,
   "metadata": {
    "collapsed": false
   },
   "outputs": [
    {
     "name": "stdout",
     "output_type": "stream",
     "text": [
      "[1] 3\n",
      "[1] 9\n",
      "[1] 27\n",
      "[1] 3\n",
      "[1] 9\n",
      "[1] 27\n",
      "[1] 81\n",
      "[1] 243\n",
      "[1] \"1 is less than 2\"\n",
      "[1] \"2 is not less than 1\"\n",
      "[1] \"2 is neither less than 1 nor less than zero\"\n"
     ]
    }
   ],
   "source": [
    "# printing and flow control\n",
    "x <- 3;\n",
    "for (i in 1:x) {  # first flow control\n",
    "    print(x^i)\n",
    "}\n",
    "\n",
    "i <- 1;\n",
    "while (i <= 5) { # second flow control\n",
    "    print(x^i)\n",
    "    i <- i+1;\n",
    "}\n",
    "\n",
    "if (1 < 2) {  # third flow control\n",
    "    print('1 is less than 2')\n",
    "}\n",
    "\n",
    "if (2 < 1) {\n",
    "    print('2 is less than 1')\n",
    "} else {\n",
    "    print('2 is not less than 1')\n",
    "}\n",
    "\n",
    "if (2 < 0) {\n",
    "    print('2 is less than 0')\n",
    "} else if (2 < 1) {\n",
    "    print('2 is less than 1')\n",
    "} else {\n",
    "    print('2 is neither less than 1 nor less than zero')\n",
    "}"
   ]
  },
  {
   "cell_type": "markdown",
   "metadata": {
    "collapsed": true
   },
   "source": [
    "Next chapter: [Mathematical Preliminaries](mathPrelim.ipynb)"
   ]
  }
 ],
 "metadata": {
  "kernelspec": {
   "display_name": "R",
   "language": "",
   "name": "ir"
  },
  "language_info": {
   "codemirror_mode": "r",
   "file_extension": ".r",
   "mimetype": "text/x-r-source",
   "name": "R",
   "pygments_lexer": "r",
   "version": "3.1.3"
  }
 },
 "nbformat": 4,
 "nbformat_minor": 0
}
