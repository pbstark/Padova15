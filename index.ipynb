{
 "cells": [
  {
   "cell_type": "markdown",
   "metadata": {
    "collapsed": true
   },
   "source": [
    "# Introduction to Probability and Statistics for Engineers\n",
    "## University of Padova\n",
    "\n",
    "## [Philip B. Stark](http://www.stat.berkeley.edu/~stark), Department of Statistics, University of California, Berkeley\n",
    "\n",
    "## 29 June&ndash;7 July 2015\n",
    "\n",
    "## Software requirements\n",
    "+ Jupyter: http://continuum.io/downloads\n",
    "+ Native R kernel for Jupyter: http://irkernel.github.io/ (\"conda install -c r r-irkernel\")\n",
    "\n",
    "## Texts\n",
    "+ Freedman, D.A., 2009. [_Statistical Models: Theory and Practice_, Revised Edition](http://www.amazon.com/Statistical-Models-Practice-David-Freedman/dp/0521743850/), Cambridge University Press.\n",
    "+ Stark, P.B., 1997--2015. [SticiGui: Statistical Tools for Internet and Classroom Instruction with a Graphical User Interface](http://www.stat.berkeley.edu/~stark/SticiGui/index.htm)."
   ]
  },
  {
   "cell_type": "markdown",
   "metadata": {},
   "source": [
    "# Course Index\n",
    "1. [Introduction to Jupyter and R](jupyter.ipynb)\n",
    "1. [Mathematical Preliminaries](mathPrelim.ipynb)\n",
    "1. [Linear Algebra](linAlg.ipynb)\n",
    "1. [Random Vectors and the multivariate Normal distribution](randVec.ipynb)\n",
    "1. [Regression Models](regress.ipynb)\n",
    "1. Experiments and Observational Studies\n",
    "1. Maximum Likelihood\n",
    "1. The Bootstrap\n",
    "1. Permutation and Randomization Methods\n",
    "1. more to come!"
   ]
  },
  {
   "cell_type": "code",
   "execution_count": null,
   "metadata": {
    "collapsed": true
   },
   "outputs": [],
   "source": []
  }
 ],
 "metadata": {
  "kernelspec": {
   "display_name": "R",
   "language": "",
   "name": "ir"
  },
  "language_info": {
   "codemirror_mode": "r",
   "file_extension": ".r",
   "mimetype": "text/x-r-source",
   "name": "R",
   "pygments_lexer": "r",
   "version": "3.1.3"
  }
 },
 "nbformat": 4,
 "nbformat_minor": 0
}
