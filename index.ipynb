{
 "cells": [
  {
   "cell_type": "markdown",
   "metadata": {},
   "source": [
    "# Course Index\n",
    "1. [Syllabus](syllabus.ipynb)\n",
    "1. [Introduction to Jupyter](jupyter,.ipynb)\n",
    "1. [Mathematical Preliminaries](mathPrelim.ipynb)\n",
    "1. [Linear Algebra](linAlg.ipynb)\n",
    "1. [Pseudorandom number generation](prng.ipynb)"
   ]
  }
 ],
 "metadata": {
  "kernelspec": {
   "display_name": "R",
   "language": "",
   "name": "ir"
  },
  "language_info": {
   "codemirror_mode": "r",
   "file_extension": ".r",
   "mimetype": "text/x-r-source",
   "name": "R",
   "pygments_lexer": "r",
   "version": "3.1.3"
  }
 },
 "nbformat": 4,
 "nbformat_minor": 0
}
