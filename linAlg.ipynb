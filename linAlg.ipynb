{
 "cells": [
  {
   "cell_type": "markdown",
   "metadata": {},
   "source": [
    "# Primer of Linear Algebra and Matrices"
   ]
  },
  {
   "cell_type": "markdown",
   "metadata": {},
   "source": [
    "## Notation\n",
    "\n",
    "${\\mathcal M}(m,n)$ will denote the set of $m$ by $n$ matrices.\n",
    "$A \\in {\\mathcal M}(m,n)$ has elements $A_{ij}$, $i \\in \\{1, \\ldots, m\\}$, $j \\in \\{1, \\ldots, n\\}$.\n",
    "\n",
    "We will identify ${\\mathcal M}(1,n)$ and ${\\mathcal M}(n,1)$ with $\\Re^n$, in a deliberate abuse\n",
    "of notation.\n",
    "Whether $x \\in \\Re^n$ should be considered a _column vector_ (an element of  ${\\mathcal M}(n,1)$)\n",
    "or a _row vector_ (an element of ${\\mathcal M}(1,n)$) should be clear from context or will be\n",
    "called out explicitly.\n",
    "For $a \\in {\\mathcal M}(1,n)$ or ${\\mathcal M}(n,1)$, we generally write only one index,\n",
    "suppressing the index that is always equal to 1\n",
    "(for instance, we would write $a_i$ in place of $a_{1i}$ or $a_{i1}$, respectively).\n",
    "\n",
    "It is convenient to write matrices as rectangular arrays, e.g.,\n",
    "\n",
    "$$\n",
    "A = (A_{ij}) = \\begin{pmatrix} A_{11} & A_{12} & \\cdots & A_{1n} \\\\\n",
    "A_{21} & A_{22} & \\cdots & A_{2n} \\\\\n",
    "\\vdots & \\vdots & \\ddots & \\vdots \\\\\n",
    "A_{m1} & A_{m2} & \\cdots & A_{mn} \n",
    "\\end{pmatrix}\n",
    ".\n",
    "$$\n",
    "\n",
    "The $i$th _row_ of the matrix $A \\in {\\mathcal M}(m,n)$ is the matrix $B \\in {\\mathcal M}(1,n)$\n",
    "with elements $B_j = A_{ij}$, $j=1, \\ldots, n$.\n",
    "\n",
    "The $j$th _column_ of the matrix $A \\in {\\mathcal M}(m,n)$, is the matrix $C \\in {\\mathcal M}(m,j)$\n",
    "with elements $C_i = A_{ij}$, i=1, \\ldots, m$.\n",
    "\n",
    "The _transpose_ of a matrix interchanges the row and column indices of the original matrix.\n",
    "If $A \\in {\\mathcal M}(m,n)$ then the transpose of $A$, denoted $A'$ or $A^T$, is an element of\n",
    "${\\mathcal M}(m,n)$ (If $A$ is an $m$ by $n$ matrix then $A'$ is an $n$ by $m$ matrix).\n",
    "If $A$ has elements $A_{ij}$, then\n",
    "$A' = A^T$ has elements $A_{ij}^T = A_{ji}$.\n",
    "\n",
    "__Scalar multiplication.__\n",
    "If $\\alpha \\in \\Re$ and $A \\in {\\mathcal M}(m,n)$, the matrix $\\alpha A \\in {\\mathcal M}(m,n)$ has elements $\\alpha A_{ij}$, $i \\in \\{1, \\ldots, m\\}$, $j \\in \\{1, \\ldots, n\\}$.\n",
    "I.e.,\n",
    "\n",
    "$$\n",
    "\\alpha A = \\begin{pmatrix} \\alpha A_{11} & \\alpha A_{12} & \\cdots & \\alpha A_{1n} \\\\\n",
    "\\alpha A_{21} & \\alpha A_{22} & \\cdots & \\alpha A_{2n} \\\\\n",
    "\\vdots & \\vdots & \\ddots & \\vdots \\\\\n",
    "\\alpha A_{m1} & \\alpha A_{m2} & \\cdots & \\alpha A_{mn} \n",
    "\\end{pmatrix}\n",
    ".\n",
    "$$\n",
    "\n",
    "Let $-A = -1\\cdot A$ be the matrix with elements $(-A)_{ij} = -A_{ij}$:\n",
    "\n",
    "$$\n",
    "-A = \\begin{pmatrix} -A_{11} & -A_{12} & \\cdots & -A_{1n} \\\\\n",
    "-A_{21} & -A_{22} & \\cdots & -A_{2n} \\\\\n",
    "\\vdots & \\vdots & \\ddots & \\vdots \\\\\n",
    "-A_{m1} & -A_{m2} & \\cdots & -A_{mn} \n",
    "\\end{pmatrix}\n",
    ".\n",
    "$$\n",
    "\n",
    "__Matrix addition.__\n",
    "If $A, B \\in {\\mathcal M}(m,n)$, then the matrix $A+B \\in {\\mathcal M}(m,n)$ has elements $A_{ij}+B_{ij}$, $i \\in \\{1, \\ldots, m\\}$, $j \\in \\{1, \\ldots, n\\}$:\n",
    "\n",
    "$$\n",
    "A+B = \\begin{pmatrix} A_{11}+B_{11} & A_{12}+B_{12} & \\cdots & A_{1n}+B_{1n} \\\\\n",
    "A_{21}+B_{21} & A_{22}+B_{22} & \\cdots & A_{2n}+B_{2n} \\\\\n",
    "\\vdots & \\vdots & \\ddots & \\vdots \\\\\n",
    "A_{m1}+B_{m1} & A_{m2}+B_{m2} & \\cdots & A_{mn}+B_{mn} \n",
    "\\end{pmatrix}\n",
    ".\n",
    "$$\n",
    "\n",
    "Let $0_{mn} \\in {\\mathcal M}(m,n)$ denote the $m$ by $n$ matrix all of whose elements are zero; i.e., \n",
    "$(0_{mn})_{ij} = 0$, $i \\in \\{1, \\ldots, m\\}$, $j \\in \\{1, \\ldots, n\\}$:\n",
    "\n",
    "$$\n",
    "0_{mn} = \\begin{pmatrix} 0 & \\cdots & 0 \\\\ \\vdots & \\ddots & \\vdots \\\\ 0 & \\cdots & 0 \\end{pmatrix}\n",
    ".\n",
    "$$\n",
    "\n",
    "With these definitions, ${\\mathcal M}(m,n)$ is a linear vector space over the reals, with scalar identity element $1$ and vector identity element $0_{mn}$.\n",
    "\n",
    "__Transposition.__\n",
    "The _transpose_ of $A \\in {\\mathcal M}(m,n)$, $A^T = A' \\in {\\mathcal M}(n,m)$ has elements\n",
    "$(A')_{ij} = A_{ji}$, $i \\in \\{1, \\ldots, n\\}$, $j \\in \\{1, \\ldots, m\\}$:\n",
    "\n",
    "$$\n",
    "A' = \\begin{pmatrix} \\alpha A_{11} & \\alpha A_{21} & \\cdots & \\alpha A_{m1} \\\\\n",
    "\\alpha A_{12} & \\alpha A_{22} & \\cdots & \\alpha A_{m2} \\\\\n",
    "\\vdots & \\vdots & \\ddots & \\vdots \\\\\n",
    "\\alpha A_{1n} & \\alpha A_{2n} & \\cdots & \\alpha A_{mn} \n",
    "\\end{pmatrix}\n",
    ".\n",
    "$$\n",
    "\n",
    "If $A = A'$, then $A$ is _symmetric_.\n",
    "\n",
    "Let ${\\mathbf 1}_{n} \\in {\\mathcal M}(n,n)$ denote the $n$ by $n$ _identity_ matrix \n",
    "with elements $(1_{n})_{ij} = 1$, $i=j \\{1, \\ldots, n\\}$, and $(1_{n})_{ij} = 0$, $i \\ne j$:\n",
    "\n",
    "$$\n",
    "1_{n} = \\begin{pmatrix} \n",
    "1 & 0 &\\cdots & \\cdots & 0 \\\\ \n",
    "0 & 1  & 0 & \\cdots & 0 \\\\  \n",
    "\\vdots & \\vdots & \\ddots & \\ddots & 0\\\\\n",
    "0 & 0 & \\cdots & \\cdots & 1 \n",
    "\\end{pmatrix}\n",
    ".\n",
    "$$\n",
    "\n",
    "The identity matrix is an example of a _diagonal matrix_. A matrix $A$ is _diagonal_ if $A_{ij}=0$ \n",
    "whenever $i \\ne j$.\n",
    "\n",
    "__Matrix multiplication.__\n",
    "If $A \\in {\\mathcal M}(m,n)$ and $B \\in {\\mathcal M}(k,m)$, then $AB \\in {\\mathcal M}(k,n)$ is the matrix with\n",
    "elements $(AB)_{ij} = \\sum_{\\ell=1}^m A_{i \\ell}B_{\\ell j}$:\n",
    "\n",
    "$$\n",
    "AB = \\begin{pmatrix} \n",
    "\\sum_{\\ell=1}^m A_{1 \\ell}B_{\\ell 1} & \\sum_{\\ell=1}^m A_{1 \\ell}B_{\\ell 2} & \\cdots & \n",
    "\\sum_{\\ell=1}^m A_{1 \\ell}B_{\\ell k} \\\\\n",
    "\\sum_{\\ell=1}^m A_{2 \\ell}B_{\\ell 1} & \\sum_{\\ell=1}^m A_{2 \\ell}B_{\\ell 2} & \\cdots & \n",
    "\\sum_{\\ell=1}^m A_{2 \\ell}B_{\\ell k} \\\\\n",
    "\\vdots & \\vdots & \\ddots & \\vdots \\\\\n",
    "\\sum_{\\ell=1}^m A_{n \\ell}B_{\\ell 1} & \\sum_{\\ell=1}^m A_{n \\ell}B_{\\ell 2} & \\cdots & \n",
    "\\sum_{\\ell=1}^m A_{n \\ell}B_{\\ell k}\n",
    "\\end{pmatrix}\n",
    ".\n",
    "$$\n",
    "\n",
    "If $A \\in {\\mathcal M}(m,n)$, then  $A {\\mathbf 1}_{n} = {\\mathbf 1}_{m} A = A$.\n",
    "\n",
    "A matrix $A$ is _square_ if it has the same number of rows and columns, that is, if $A \\in {\\mathcal M}(n,n)$\n",
    "for some $n$.\n",
    "\n",
    "__Inverses.__\n",
    "Given a square matrix $A\\in {\\mathcal M}(n,n)$, $A^{-1}$ is the _inverse_ \n",
    "of $A$ if $A^{-1}A = {\\mathbf 1}_n$.\n",
    "\n",
    "Not every square matrix has an inverse; the zero matrix ${\\mathbf 0}_n$ is an example.\n",
    "If $A$ has an inverse, $A$ is _invertible_.\n",
    "A square matrix that is not invertible is _singular_.\n",
    "\n",
    "Properties of inverses:\n",
    "+ If $A$ has an inverse, the inverse is unique\n",
    "+ $AA^{-1} = A^{-1}A = {\\mathbf 1}_n$.\n",
    "+ $(A^{-1})^{-1} = A$.\n",
    "+ $(A')^{-1} = (A^{-1})'$.\n",
    "+ If $A$ is invertible, $(\\alpha A)^{-1} = \\alpha^{-1} A^{-1}$ for all nonzero $\\alpha \\in \\Re$.\n",
    "+ If $A$ and $B$ are invertible and have the same dimension, $(AB)^{-1} = B^{-1}A^{-1}$.\n",
    "\n",
    "\n",
    "__Linear Independence and Rank.__\n",
    "Let $\\{a_j \\} \\in \\Re^n$ be a collection of vectors.\n",
    "Recall that $\\{a_j \\}$ are _linearly independent_ if\n",
    "$\\sum_j \\alpha_j a_j = {\\mathbf 0}_n$ implies that $\\alpha_j = 0$ for all $j$.\n",
    "\n",
    "The _row rank_ of a matrix $A \\in {\\mathcal M}(m,n)$ is the maximal number of linearly independent rows it has;\n",
    "equivalently, it is the dimension of the subspace of $\\Re^m$ spanned by the rows of $A$.\n",
    "The _column rank_ of $A$ is to the maximal number of linearly independent columns it has;\n",
    "equivalently, it is the dimension of the subspace of $\\Re^n$ spanned by the columns of $A$.\n",
    "The row rank and the column rank if any matrix are equal; we denote them ${\\mbox{rank}}(A)$.\n",
    "\n",
    "If $A \\in {\\mathcal M}(m,n)$ then ${\\mbox{rank}}(A) \\le \\min(m, n)$.\n",
    "\n",
    "If $A$ and $B$ can be multiplied, ${\\mbox{rank}}(AB) \\le \\min({\\mbox{rank}}(A), {\\mbox{rank}}(B))$.\n",
    "\n",
    "If $A$ and $B$ have the same dimensions, ${\\mbox{rank}}(A+B) \\le {\\mbox{rank}}(A) + {\\mbox{rank}}(B)$.\n",
    "\n",
    "A square matrix $A \\in {\\mathcal M}(n,n)$ is invertible if and only if ${\\mbox{rank}}(A) = n$.\n",
    "\n",
    "<hr />\n",
    "#### Definitions\n",
    "Let $A \\in {\\mathcal M}(n,n)$.\n",
    "\n",
    "+ If $A^{-1} = A'$, then $A$ is _orthogonal_.\n",
    "+ If $A_{ij} = 0$ for all $i \\ne j$, $A$ is _diagonal_.\n",
    "+ If $x'Ax \\ge 0$ for all $x \\in \\Re^n$, $A$ is _nonnegative definite_ (or _positive semi-definite_)\n",
    "+ If $x'Ax > 0$ for all $x \\in \\Re^n$ except $x = {\\mathbf 0}$, $A$ is _positive definite_\n",
    "+ $A$ has _full rank_ if ${\\mbox{rank}}(A) = n$. Otherwise, $A$ is _rank deficient_.\n",
    "\n",
    "\n",
    "\n",
    "<hr />"
   ]
  },
  {
   "cell_type": "markdown",
   "metadata": {},
   "source": [
    "### Exercises\n",
    "\n",
    "1. Show that if $A \\in {\\mathcal M}(m,n)$ and $B \\in {\\mathcal M}(n,p)$ then $(AB)' = B'A'$.\n",
    "1. Show that the identity matrix is its own inverse.\n",
    "1. Show that if $A$ is invertible, its inverse is unique (a matrix has at most one inverse).\n",
    "1. Show that if $A$ is invertible, then $A^{-1}A = AA^{-1}$.\n",
    "1. Show that if $A$ and $B$ are both invertible matrices with the same dimensions, then $(AB)^{-1} = B^{-1}A^{-1}$.\n",
    "1. Show that one row of a square matrix $A$ is a multiple of another row of $A$, then $A$ is rank deficient.\n",
    "1. Show that if a square matrix is rank deficient, it is not invertible.\n",
    "1. Show that if $A$ is a diagonal matrix with strictly positive diagonal elements, then $A$ is positive definite.\n",
    "1. Show that the row rank of a matrix is equal to its column rank."
   ]
  },
  {
   "cell_type": "markdown",
   "metadata": {},
   "source": [
    "__Dot (inner) Products and the Euclidean norm.__\n",
    "\n",
    "If $a, b \\in \\Re^n$ then the _dot product_ of $a$ and $b$ is\n",
    "$$a \\cdot b = a^Tb = a'b = a_1b_1 + a_2b_2 + \\cdots + a_nb_n.$$\n",
    "\n",
    "If $a \\cdot b = 0$, we say $a$ and $b$ are _orthogonal_, and we write $a \\perp b$.\n",
    "\n",
    "The _Euclidean norm_ or _2-norm_ of $a$ is\n",
    "$$ \\|a \\|_2 = \\|a \\| = |a| \\equiv \\sqrt{a \\cdot a}.$$\n",
    "(The subscript 2 is often omitted for the 2-norm.)\n",
    "\n",
    "For $1 \\le p < \\infty$, the _$p$-norm_ of $a$ is\n",
    "$$ \\|a \\|_p \\equiv \\left ( \\sum_{i=1}^n \\left |a_i \\right |^p \\right )^{1/p}.$$\n",
    "\n",
    "The _infinity norm_ of $a$ is\n",
    "$$ \\|a \\|_\\infty \\equiv \\max_{i=1}^n \\left | a_i \\right |.$$\n",
    "\n",
    "__Outer Products.__\n",
    "\n",
    "If $a, b \\in \\Re^n$ then the _outer product_ of $a$ and $b$ is the matrix\n",
    "$ab \\in {\\mathcal M}(n,n)$ with elements $(ab)_{ij} = a_ib_j$:\n",
    "$$\n",
    "ab = \n",
    "\\begin{pmatrix} \n",
    "a_1b_1 & a_1b_2 & \\cdots & a_1b_n \\\\\n",
    "a_2b_2 & a_2b_2 & \\cdots & a_2b_n \\\\\n",
    "\\vdots & \\vdots & \\ddots & \\vdots \\\\\n",
    "a_nb_1 & a_nb_2 & \\cdots & a_nb_n\n",
    "\\end{pmatrix}\n",
    ".\n",
    "$$"
   ]
  },
  {
   "cell_type": "markdown",
   "metadata": {},
   "source": [
    "### Exercises\n",
    "\n",
    "1. Show that if $R \\in {\\mathcal M}(n,n)$ is an orthogonal matrix, then for\n",
    "all $x \\in \\Re^n$, $\\|Rx\\|_2 = \\|x\\|_2$.\n",
    "1. Show that if $G\\in {\\mathcal M}(n,n) $ is positive definite, then $\\| \\cdot \\|_G$ is a norm on $\\Re^n$, \n",
    "where $\\|x\\|_G \\equiv \\sqrt{x'Gx}$.\n",
    "1. Show that the dot product is an inner product (over the real numbers) on $\\Re^n$.\n",
    "1. Show that the 2-norm $ \\|a \\| \\equiv \\sqrt{a \\cdot a}$ is a norm on $\\Re^n$.\n",
    "1. Show that the 1-norm $\\|a\\|_1 \\equiv \\sum_{i=1}^n | a_{i1} |$ is a norm on $\\Re^n$.\n",
    "1. Show that $\\lim_{p \\rightarrow \\infty} \\|a\\|_p = \\|a\\|_\\infty$."
   ]
  },
  {
   "cell_type": "markdown",
   "metadata": {
    "collapsed": true
   },
   "source": [
    "## R interlude\n",
    "Let's look at all these entities and operations in R."
   ]
  },
  {
   "cell_type": "code",
   "execution_count": 99,
   "metadata": {
    "collapsed": false
   },
   "outputs": [
    {
     "name": "stdout",
     "output_type": "stream",
     "text": [
      "[1] \"A\"\n"
     ]
    },
    {
     "data": {
      "text/html": [
       "<table>\n",
       "<tbody>\n",
       "\t<tr><td>1</td><td>5</td><td>9</td></tr>\n",
       "\t<tr><td> 2</td><td> 6</td><td>10</td></tr>\n",
       "\t<tr><td> 3</td><td> 7</td><td>11</td></tr>\n",
       "\t<tr><td> 4</td><td> 8</td><td>12</td></tr>\n",
       "</tbody>\n",
       "</table>\n"
      ],
      "text/latex": [
       "\\begin{tabular}{lll}\n",
       "\t 1 & 5 & 9\\\\\n",
       "\t  2 &  6 & 10\\\\\n",
       "\t  3 &  7 & 11\\\\\n",
       "\t  4 &  8 & 12\\\\\n",
       "\\end{tabular}\n"
      ],
      "text/markdown": [
       "1. 1\n",
       "2. 2\n",
       "3. 3\n",
       "4. 4\n",
       "5. 5\n",
       "6. 6\n",
       "7. 7\n",
       "8. 8\n",
       "9. 9\n",
       "10. 10\n",
       "11. 11\n",
       "12. 12\n",
       "\n",
       "\n"
      ],
      "text/plain": [
       "     [,1] [,2] [,3]\n",
       "[1,]    1    5    9\n",
       "[2,]    2    6   10\n",
       "[3,]    3    7   11\n",
       "[4,]    4    8   12"
      ]
     },
     "execution_count": 99,
     "metadata": {},
     "output_type": "execute_result"
    },
    {
     "data": {
      "text/html": [
       "<table>\n",
       "<tbody>\n",
       "\t<tr><td>1</td><td>5</td><td>9</td></tr>\n",
       "\t<tr><td> 2</td><td> 6</td><td>10</td></tr>\n",
       "\t<tr><td> 3</td><td> 7</td><td>11</td></tr>\n",
       "\t<tr><td> 4</td><td> 8</td><td>12</td></tr>\n",
       "</tbody>\n",
       "</table>\n"
      ],
      "text/latex": [
       "\\begin{tabular}{lll}\n",
       "\t 1 & 5 & 9\\\\\n",
       "\t  2 &  6 & 10\\\\\n",
       "\t  3 &  7 & 11\\\\\n",
       "\t  4 &  8 & 12\\\\\n",
       "\\end{tabular}\n"
      ],
      "text/markdown": [
       "1. 1\n",
       "2. 2\n",
       "3. 3\n",
       "4. 4\n",
       "5. 5\n",
       "6. 6\n",
       "7. 7\n",
       "8. 8\n",
       "9. 9\n",
       "10. 10\n",
       "11. 11\n",
       "12. 12\n",
       "\n",
       "\n"
      ],
      "text/plain": [
       "     [,1] [,2] [,3]\n",
       "[1,]    1    5    9\n",
       "[2,]    2    6   10\n",
       "[3,]    3    7   11\n",
       "[4,]    4    8   12"
      ]
     },
     "execution_count": 99,
     "metadata": {},
     "output_type": "execute_result"
    },
    {
     "data": {
      "text/html": [
       "<table>\n",
       "<tbody>\n",
       "\t<tr><td>1</td><td>5</td><td>9</td></tr>\n",
       "\t<tr><td> 2</td><td> 6</td><td>10</td></tr>\n",
       "\t<tr><td> 3</td><td> 7</td><td>11</td></tr>\n",
       "\t<tr><td> 4</td><td> 8</td><td>12</td></tr>\n",
       "</tbody>\n",
       "</table>\n"
      ],
      "text/latex": [
       "\\begin{tabular}{lll}\n",
       "\t 1 & 5 & 9\\\\\n",
       "\t  2 &  6 & 10\\\\\n",
       "\t  3 &  7 & 11\\\\\n",
       "\t  4 &  8 & 12\\\\\n",
       "\\end{tabular}\n"
      ],
      "text/markdown": [
       "1. 1\n",
       "2. 2\n",
       "3. 3\n",
       "4. 4\n",
       "5. 5\n",
       "6. 6\n",
       "7. 7\n",
       "8. 8\n",
       "9. 9\n",
       "10. 10\n",
       "11. 11\n",
       "12. 12\n",
       "\n",
       "\n"
      ],
      "text/plain": [
       "     [,1] [,2] [,3]\n",
       "[1,]    1    5    9\n",
       "[2,]    2    6   10\n",
       "[3,]    3    7   11\n",
       "[4,]    4    8   12"
      ]
     },
     "execution_count": 99,
     "metadata": {},
     "output_type": "execute_result"
    }
   ],
   "source": [
    "# Create a matrix\n",
    "A <- 1:12;  # A is a 1-dimensional array of the integers 1-12\n",
    "dim(A) <- c(4,3);  # Change the dimension of A to be 4 by 3\n",
    "print(\"A\")\n",
    "A  # the matrix A, which is 4 by 3\n",
    "# Another way to do the same thing\n",
    "A <- matrix( \n",
    "+   c(1, 2, 3, 4, 5, 6, 7, 8, 9, 10, 11, 12), # data\n",
    "    nrow=4,              # number of rows \n",
    "    ncol=3,              # number of columns \n",
    "    byrow = FALSE) ;     # read the data by column\n",
    "A\n",
    "# Another way\n",
    "A <- matrix( \n",
    "    seq(1,12), # data\n",
    "    nrow=4,              # number of rows \n",
    "    ncol=3,              # number of columns \n",
    "    byrow = FALSE) ;     # read the data by column\n",
    "A"
   ]
  },
  {
   "cell_type": "code",
   "execution_count": 100,
   "metadata": {
    "collapsed": false
   },
   "outputs": [
    {
     "name": "stdout",
     "output_type": "stream",
     "text": [
      "[1] \"Transpose of A\"\n"
     ]
    },
    {
     "data": {
      "text/html": [
       "<table>\n",
       "<tbody>\n",
       "\t<tr><td>1</td><td>2</td><td>3</td><td>4</td></tr>\n",
       "\t<tr><td>5</td><td>6</td><td>7</td><td>8</td></tr>\n",
       "\t<tr><td> 9</td><td>10</td><td>11</td><td>12</td></tr>\n",
       "</tbody>\n",
       "</table>\n"
      ],
      "text/latex": [
       "\\begin{tabular}{llll}\n",
       "\t 1 & 2 & 3 & 4\\\\\n",
       "\t 5 & 6 & 7 & 8\\\\\n",
       "\t  9 & 10 & 11 & 12\\\\\n",
       "\\end{tabular}\n"
      ],
      "text/markdown": [
       "1. 1\n",
       "2. 5\n",
       "3. 9\n",
       "4. 2\n",
       "5. 6\n",
       "6. 10\n",
       "7. 3\n",
       "8. 7\n",
       "9. 11\n",
       "10. 4\n",
       "11. 8\n",
       "12. 12\n",
       "\n",
       "\n"
      ],
      "text/plain": [
       "     [,1] [,2] [,3] [,4]\n",
       "[1,]    1    2    3    4\n",
       "[2,]    5    6    7    8\n",
       "[3,]    9   10   11   12"
      ]
     },
     "execution_count": 100,
     "metadata": {},
     "output_type": "execute_result"
    },
    {
     "data": {
      "text/html": [
       "<table>\n",
       "<tbody>\n",
       "\t<tr><td>1</td><td>2</td><td>3</td><td>4</td></tr>\n",
       "\t<tr><td>5</td><td>6</td><td>7</td><td>8</td></tr>\n",
       "\t<tr><td> 9</td><td>10</td><td>11</td><td>12</td></tr>\n",
       "</tbody>\n",
       "</table>\n"
      ],
      "text/latex": [
       "\\begin{tabular}{llll}\n",
       "\t 1 & 2 & 3 & 4\\\\\n",
       "\t 5 & 6 & 7 & 8\\\\\n",
       "\t  9 & 10 & 11 & 12\\\\\n",
       "\\end{tabular}\n"
      ],
      "text/markdown": [
       "1. 1\n",
       "2. 5\n",
       "3. 9\n",
       "4. 2\n",
       "5. 6\n",
       "6. 10\n",
       "7. 3\n",
       "8. 7\n",
       "9. 11\n",
       "10. 4\n",
       "11. 8\n",
       "12. 12\n",
       "\n",
       "\n"
      ],
      "text/plain": [
       "     [,1] [,2] [,3] [,4]\n",
       "[1,]    1    2    3    4\n",
       "[2,]    5    6    7    8\n",
       "[3,]    9   10   11   12"
      ]
     },
     "execution_count": 100,
     "metadata": {},
     "output_type": "execute_result"
    },
    {
     "data": {
      "text/html": [
       "<table>\n",
       "<tbody>\n",
       "\t<tr><td>1</td><td>2</td><td>3</td><td>4</td></tr>\n",
       "\t<tr><td>5</td><td>6</td><td>7</td><td>8</td></tr>\n",
       "\t<tr><td> 9</td><td>10</td><td>11</td><td>12</td></tr>\n",
       "</tbody>\n",
       "</table>\n"
      ],
      "text/latex": [
       "\\begin{tabular}{llll}\n",
       "\t 1 & 2 & 3 & 4\\\\\n",
       "\t 5 & 6 & 7 & 8\\\\\n",
       "\t  9 & 10 & 11 & 12\\\\\n",
       "\\end{tabular}\n"
      ],
      "text/markdown": [
       "1. 1\n",
       "2. 5\n",
       "3. 9\n",
       "4. 2\n",
       "5. 6\n",
       "6. 10\n",
       "7. 3\n",
       "8. 7\n",
       "9. 11\n",
       "10. 4\n",
       "11. 8\n",
       "12. 12\n",
       "\n",
       "\n"
      ],
      "text/plain": [
       "     [,1] [,2] [,3] [,4]\n",
       "[1,]    1    2    3    4\n",
       "[2,]    5    6    7    8\n",
       "[3,]    9   10   11   12"
      ]
     },
     "execution_count": 100,
     "metadata": {},
     "output_type": "execute_result"
    }
   ],
   "source": [
    "# Transpose A\n",
    "print(\"Transpose of A\")\n",
    "t(A) # the transpose of A, which is 3 by 4\n",
    "A <- t(A);  # overwrite A with its transpose: A is now a 3 by 4 array\n",
    "A\n",
    "# Another way to make this matrix\n",
    "A <- matrix( \n",
    "    seq(1,12), # data\n",
    "    nrow=3,              # number of rows \n",
    "    ncol=4,              # number of columns \n",
    "    byrow = TRUE) ;      # read the data by row\n",
    "A"
   ]
  },
  {
   "cell_type": "code",
   "execution_count": 101,
   "metadata": {
    "collapsed": false
   },
   "outputs": [
    {
     "data": {
      "text/html": [
       "<table>\n",
       "<tbody>\n",
       "\t<tr><td>1</td><td>2</td><td>3</td><td>4</td></tr>\n",
       "\t<tr><td>5</td><td>6</td><td>7</td><td>8</td></tr>\n",
       "\t<tr><td> 9</td><td>10</td><td>11</td><td>12</td></tr>\n",
       "</tbody>\n",
       "</table>\n"
      ],
      "text/latex": [
       "\\begin{tabular}{llll}\n",
       "\t 1 & 2 & 3 & 4\\\\\n",
       "\t 5 & 6 & 7 & 8\\\\\n",
       "\t  9 & 10 & 11 & 12\\\\\n",
       "\\end{tabular}\n"
      ],
      "text/markdown": [
       "1. 1\n",
       "2. 5\n",
       "3. 9\n",
       "4. 2\n",
       "5. 6\n",
       "6. 10\n",
       "7. 3\n",
       "8. 7\n",
       "9. 11\n",
       "10. 4\n",
       "11. 8\n",
       "12. 12\n",
       "\n",
       "\n"
      ],
      "text/plain": [
       "     [,1] [,2] [,3] [,4]\n",
       "[1,]    1    2    3    4\n",
       "[2,]    5    6    7    8\n",
       "[3,]    9   10   11   12"
      ]
     },
     "execution_count": 101,
     "metadata": {},
     "output_type": "execute_result"
    },
    {
     "data": {
      "text/html": [
       "<table>\n",
       "<tbody>\n",
       "\t<tr><td> 3</td><td> 6</td><td> 9</td><td>12</td></tr>\n",
       "\t<tr><td>15</td><td>18</td><td>21</td><td>24</td></tr>\n",
       "\t<tr><td>27</td><td>30</td><td>33</td><td>36</td></tr>\n",
       "</tbody>\n",
       "</table>\n"
      ],
      "text/latex": [
       "\\begin{tabular}{llll}\n",
       "\t  3 &  6 &  9 & 12\\\\\n",
       "\t 15 & 18 & 21 & 24\\\\\n",
       "\t 27 & 30 & 33 & 36\\\\\n",
       "\\end{tabular}\n"
      ],
      "text/markdown": [
       "1. 3\n",
       "2. 15\n",
       "3. 27\n",
       "4. 6\n",
       "5. 18\n",
       "6. 30\n",
       "7. 9\n",
       "8. 21\n",
       "9. 33\n",
       "10. 12\n",
       "11. 24\n",
       "12. 36\n",
       "\n",
       "\n"
      ],
      "text/plain": [
       "     [,1] [,2] [,3] [,4]\n",
       "[1,]    3    6    9   12\n",
       "[2,]   15   18   21   24\n",
       "[3,]   27   30   33   36"
      ]
     },
     "execution_count": 101,
     "metadata": {},
     "output_type": "execute_result"
    }
   ],
   "source": [
    "# Scalar multiplication\n",
    "alpha <- 3;\n",
    "A\n",
    "alpha*A"
   ]
  },
  {
   "cell_type": "code",
   "execution_count": 102,
   "metadata": {
    "collapsed": false
   },
   "outputs": [
    {
     "data": {
      "text/html": [
       "<table>\n",
       "<tbody>\n",
       "\t<tr><td>-1</td><td>-2</td><td>-3</td><td>-4</td></tr>\n",
       "\t<tr><td>-5</td><td>-6</td><td>-7</td><td>-8</td></tr>\n",
       "\t<tr><td> -9</td><td>-10</td><td>-11</td><td>-12</td></tr>\n",
       "</tbody>\n",
       "</table>\n"
      ],
      "text/latex": [
       "\\begin{tabular}{llll}\n",
       "\t -1 & -2 & -3 & -4\\\\\n",
       "\t -5 & -6 & -7 & -8\\\\\n",
       "\t  -9 & -10 & -11 & -12\\\\\n",
       "\\end{tabular}\n"
      ],
      "text/markdown": [
       "1. -1\n",
       "2. -5\n",
       "3. -9\n",
       "4. -2\n",
       "5. -6\n",
       "6. -10\n",
       "7. -3\n",
       "8. -7\n",
       "9. -11\n",
       "10. -4\n",
       "11. -8\n",
       "12. -12\n",
       "\n",
       "\n"
      ],
      "text/plain": [
       "     [,1] [,2] [,3] [,4]\n",
       "[1,]   -1   -2   -3   -4\n",
       "[2,]   -5   -6   -7   -8\n",
       "[3,]   -9  -10  -11  -12"
      ]
     },
     "execution_count": 102,
     "metadata": {},
     "output_type": "execute_result"
    },
    {
     "data": {
      "text/html": [
       "<table>\n",
       "<tbody>\n",
       "\t<tr><td>-1</td><td>-2</td><td>-3</td><td>-4</td></tr>\n",
       "\t<tr><td>-5</td><td>-6</td><td>-7</td><td>-8</td></tr>\n",
       "\t<tr><td> -9</td><td>-10</td><td>-11</td><td>-12</td></tr>\n",
       "</tbody>\n",
       "</table>\n"
      ],
      "text/latex": [
       "\\begin{tabular}{llll}\n",
       "\t -1 & -2 & -3 & -4\\\\\n",
       "\t -5 & -6 & -7 & -8\\\\\n",
       "\t  -9 & -10 & -11 & -12\\\\\n",
       "\\end{tabular}\n"
      ],
      "text/markdown": [
       "1. -1\n",
       "2. -5\n",
       "3. -9\n",
       "4. -2\n",
       "5. -6\n",
       "6. -10\n",
       "7. -3\n",
       "8. -7\n",
       "9. -11\n",
       "10. -4\n",
       "11. -8\n",
       "12. -12\n",
       "\n",
       "\n"
      ],
      "text/plain": [
       "     [,1] [,2] [,3] [,4]\n",
       "[1,]   -1   -2   -3   -4\n",
       "[2,]   -5   -6   -7   -8\n",
       "[3,]   -9  -10  -11  -12"
      ]
     },
     "execution_count": 102,
     "metadata": {},
     "output_type": "execute_result"
    }
   ],
   "source": [
    "# R understands matrix negation\n",
    "-A\n",
    "-1*A"
   ]
  },
  {
   "cell_type": "code",
   "execution_count": 103,
   "metadata": {
    "collapsed": false
   },
   "outputs": [
    {
     "data": {
      "text/html": [
       "<table>\n",
       "<tbody>\n",
       "\t<tr><td>0</td><td>0</td><td>0</td><td>0</td></tr>\n",
       "\t<tr><td>0</td><td>0</td><td>0</td><td>0</td></tr>\n",
       "\t<tr><td>0</td><td>0</td><td>0</td><td>0</td></tr>\n",
       "</tbody>\n",
       "</table>\n"
      ],
      "text/latex": [
       "\\begin{tabular}{llll}\n",
       "\t 0 & 0 & 0 & 0\\\\\n",
       "\t 0 & 0 & 0 & 0\\\\\n",
       "\t 0 & 0 & 0 & 0\\\\\n",
       "\\end{tabular}\n"
      ],
      "text/markdown": [
       "1. 0\n",
       "2. 0\n",
       "3. 0\n",
       "4. 0\n",
       "5. 0\n",
       "6. 0\n",
       "7. 0\n",
       "8. 0\n",
       "9. 0\n",
       "10. 0\n",
       "11. 0\n",
       "12. 0\n",
       "\n",
       "\n"
      ],
      "text/plain": [
       "     [,1] [,2] [,3] [,4]\n",
       "[1,]    0    0    0    0\n",
       "[2,]    0    0    0    0\n",
       "[3,]    0    0    0    0"
      ]
     },
     "execution_count": 103,
     "metadata": {},
     "output_type": "execute_result"
    },
    {
     "data": {
      "text/html": [
       "<table>\n",
       "<tbody>\n",
       "\t<tr><td>1</td><td>2</td><td>3</td><td>4</td></tr>\n",
       "\t<tr><td>5</td><td>6</td><td>7</td><td>8</td></tr>\n",
       "\t<tr><td> 9</td><td>10</td><td>11</td><td>12</td></tr>\n",
       "</tbody>\n",
       "</table>\n"
      ],
      "text/latex": [
       "\\begin{tabular}{llll}\n",
       "\t 1 & 2 & 3 & 4\\\\\n",
       "\t 5 & 6 & 7 & 8\\\\\n",
       "\t  9 & 10 & 11 & 12\\\\\n",
       "\\end{tabular}\n"
      ],
      "text/markdown": [
       "1. 1\n",
       "2. 5\n",
       "3. 9\n",
       "4. 2\n",
       "5. 6\n",
       "6. 10\n",
       "7. 3\n",
       "8. 7\n",
       "9. 11\n",
       "10. 4\n",
       "11. 8\n",
       "12. 12\n",
       "\n",
       "\n"
      ],
      "text/plain": [
       "     [,1] [,2] [,3] [,4]\n",
       "[1,]    1    2    3    4\n",
       "[2,]    5    6    7    8\n",
       "[3,]    9   10   11   12"
      ]
     },
     "execution_count": 103,
     "metadata": {},
     "output_type": "execute_result"
    }
   ],
   "source": [
    "# in R, you can create an m by n zero matrix as follows:\n",
    "Z <- matrix(0, 3, 4);\n",
    "Z\n",
    "A + Z"
   ]
  },
  {
   "cell_type": "code",
   "execution_count": 104,
   "metadata": {
    "collapsed": false
   },
   "outputs": [
    {
     "data": {
      "text/html": [
       "<table>\n",
       "<tbody>\n",
       "\t<tr><td>1</td><td>0</td><td>0</td></tr>\n",
       "\t<tr><td>0</td><td>1</td><td>0</td></tr>\n",
       "\t<tr><td>0</td><td>0</td><td>1</td></tr>\n",
       "</tbody>\n",
       "</table>\n"
      ],
      "text/latex": [
       "\\begin{tabular}{lll}\n",
       "\t 1 & 0 & 0\\\\\n",
       "\t 0 & 1 & 0\\\\\n",
       "\t 0 & 0 & 1\\\\\n",
       "\\end{tabular}\n"
      ],
      "text/markdown": [
       "1. 1\n",
       "2. 0\n",
       "3. 0\n",
       "4. 0\n",
       "5. 1\n",
       "6. 0\n",
       "7. 0\n",
       "8. 0\n",
       "9. 1\n",
       "\n",
       "\n"
      ],
      "text/plain": [
       "     [,1] [,2] [,3]\n",
       "[1,]    1    0    0\n",
       "[2,]    0    1    0\n",
       "[3,]    0    0    1"
      ]
     },
     "execution_count": 104,
     "metadata": {},
     "output_type": "execute_result"
    },
    {
     "data": {
      "text/html": [
       "<table>\n",
       "<tbody>\n",
       "\t<tr><td>1</td><td>0</td><td>0</td></tr>\n",
       "\t<tr><td>0</td><td>1</td><td>0</td></tr>\n",
       "\t<tr><td>0</td><td>0</td><td>1</td></tr>\n",
       "</tbody>\n",
       "</table>\n"
      ],
      "text/latex": [
       "\\begin{tabular}{lll}\n",
       "\t 1 & 0 & 0\\\\\n",
       "\t 0 & 1 & 0\\\\\n",
       "\t 0 & 0 & 1\\\\\n",
       "\\end{tabular}\n"
      ],
      "text/markdown": [
       "1. 1\n",
       "2. 0\n",
       "3. 0\n",
       "4. 0\n",
       "5. 1\n",
       "6. 0\n",
       "7. 0\n",
       "8. 0\n",
       "9. 1\n",
       "\n",
       "\n"
      ],
      "text/plain": [
       "     [,1] [,2] [,3]\n",
       "[1,]    1    0    0\n",
       "[2,]    0    1    0\n",
       "[3,]    0    0    1"
      ]
     },
     "execution_count": 104,
     "metadata": {},
     "output_type": "execute_result"
    }
   ],
   "source": [
    "# To create an n by n identity matrix in R, make a diagonal matrix of ones:\n",
    "I = diag(1,3) # a diagonal matrix of 1s, with dimension 3 by 3\n",
    "I\n",
    "I2 = diag(c(1,1,1)) # a diagonal matrix with the vector (1,1,1) along the diagonal\n",
    "I2"
   ]
  },
  {
   "cell_type": "code",
   "execution_count": 105,
   "metadata": {
    "collapsed": false
   },
   "outputs": [
    {
     "data": {
      "text/html": [
       "<table>\n",
       "<tbody>\n",
       "\t<tr><td>4</td><td>5</td><td>6</td><td>7</td></tr>\n",
       "\t<tr><td> 8</td><td> 9</td><td>10</td><td>11</td></tr>\n",
       "\t<tr><td>12</td><td>13</td><td>14</td><td>15</td></tr>\n",
       "</tbody>\n",
       "</table>\n"
      ],
      "text/latex": [
       "\\begin{tabular}{llll}\n",
       "\t 4 & 5 & 6 & 7\\\\\n",
       "\t  8 &  9 & 10 & 11\\\\\n",
       "\t 12 & 13 & 14 & 15\\\\\n",
       "\\end{tabular}\n"
      ],
      "text/markdown": [
       "1. 4\n",
       "2. 8\n",
       "3. 12\n",
       "4. 5\n",
       "5. 9\n",
       "6. 13\n",
       "7. 6\n",
       "8. 10\n",
       "9. 14\n",
       "10. 7\n",
       "11. 11\n",
       "12. 15\n",
       "\n",
       "\n"
      ],
      "text/plain": [
       "     [,1] [,2] [,3] [,4]\n",
       "[1,]    4    5    6    7\n",
       "[2,]    8    9   10   11\n",
       "[3,]   12   13   14   15"
      ]
     },
     "execution_count": 105,
     "metadata": {},
     "output_type": "execute_result"
    }
   ],
   "source": [
    "# R supports scalar addition; this is not a formal operation in linear algebra\n",
    "alpha + A;"
   ]
  },
  {
   "cell_type": "code",
   "execution_count": 106,
   "metadata": {
    "collapsed": false
   },
   "outputs": [
    {
     "data": {
      "text/html": [
       "<table>\n",
       "<tbody>\n",
       "\t<tr><td>1</td><td>2</td><td>3</td><td>4</td></tr>\n",
       "\t<tr><td>5</td><td>6</td><td>7</td><td>8</td></tr>\n",
       "\t<tr><td> 9</td><td>10</td><td>11</td><td>12</td></tr>\n",
       "</tbody>\n",
       "</table>\n"
      ],
      "text/latex": [
       "\\begin{tabular}{llll}\n",
       "\t 1 & 2 & 3 & 4\\\\\n",
       "\t 5 & 6 & 7 & 8\\\\\n",
       "\t  9 & 10 & 11 & 12\\\\\n",
       "\\end{tabular}\n"
      ],
      "text/markdown": [
       "1. 1\n",
       "2. 5\n",
       "3. 9\n",
       "4. 2\n",
       "5. 6\n",
       "6. 10\n",
       "7. 3\n",
       "8. 7\n",
       "9. 11\n",
       "10. 4\n",
       "11. 8\n",
       "12. 12\n",
       "\n",
       "\n"
      ],
      "text/plain": [
       "     [,1] [,2] [,3] [,4]\n",
       "[1,]    1    2    3    4\n",
       "[2,]    5    6    7    8\n",
       "[3,]    9   10   11   12"
      ]
     },
     "execution_count": 106,
     "metadata": {},
     "output_type": "execute_result"
    },
    {
     "data": {
      "text/html": [
       "<table>\n",
       "<tbody>\n",
       "\t<tr><td>24</td><td>23</td><td>22</td><td>21</td></tr>\n",
       "\t<tr><td>20</td><td>19</td><td>18</td><td>17</td></tr>\n",
       "\t<tr><td>16</td><td>15</td><td>14</td><td>13</td></tr>\n",
       "</tbody>\n",
       "</table>\n"
      ],
      "text/latex": [
       "\\begin{tabular}{llll}\n",
       "\t 24 & 23 & 22 & 21\\\\\n",
       "\t 20 & 19 & 18 & 17\\\\\n",
       "\t 16 & 15 & 14 & 13\\\\\n",
       "\\end{tabular}\n"
      ],
      "text/markdown": [
       "1. 24\n",
       "2. 20\n",
       "3. 16\n",
       "4. 23\n",
       "5. 19\n",
       "6. 15\n",
       "7. 22\n",
       "8. 18\n",
       "9. 14\n",
       "10. 21\n",
       "11. 17\n",
       "12. 13\n",
       "\n",
       "\n"
      ],
      "text/plain": [
       "     [,1] [,2] [,3] [,4]\n",
       "[1,]   24   23   22   21\n",
       "[2,]   20   19   18   17\n",
       "[3,]   16   15   14   13"
      ]
     },
     "execution_count": 106,
     "metadata": {},
     "output_type": "execute_result"
    },
    {
     "data": {
      "text/html": [
       "<table>\n",
       "<tbody>\n",
       "\t<tr><td>25</td><td>25</td><td>25</td><td>25</td></tr>\n",
       "\t<tr><td>25</td><td>25</td><td>25</td><td>25</td></tr>\n",
       "\t<tr><td>25</td><td>25</td><td>25</td><td>25</td></tr>\n",
       "</tbody>\n",
       "</table>\n"
      ],
      "text/latex": [
       "\\begin{tabular}{llll}\n",
       "\t 25 & 25 & 25 & 25\\\\\n",
       "\t 25 & 25 & 25 & 25\\\\\n",
       "\t 25 & 25 & 25 & 25\\\\\n",
       "\\end{tabular}\n"
      ],
      "text/markdown": [
       "1. 25\n",
       "2. 25\n",
       "3. 25\n",
       "4. 25\n",
       "5. 25\n",
       "6. 25\n",
       "7. 25\n",
       "8. 25\n",
       "9. 25\n",
       "10. 25\n",
       "11. 25\n",
       "12. 25\n",
       "\n",
       "\n"
      ],
      "text/plain": [
       "     [,1] [,2] [,3] [,4]\n",
       "[1,]   25   25   25   25\n",
       "[2,]   25   25   25   25\n",
       "[3,]   25   25   25   25"
      ]
     },
     "execution_count": 106,
     "metadata": {},
     "output_type": "execute_result"
    }
   ],
   "source": [
    "# Matrix addition\n",
    "B <- 24:13;  # B is an array with the integers 24 to 13 in descending order \n",
    "dim(B) = c(4,3); # B is now a 4 by 3 array\n",
    "B <- t(B); # B is now a 3 by 4 array\n",
    "A # 1:12\n",
    "B # 24:13\n",
    "A+B # a 3 by 4 array; all entries are 25"
   ]
  },
  {
   "cell_type": "code",
   "execution_count": 107,
   "metadata": {
    "collapsed": false
   },
   "outputs": [
    {
     "data": {
      "text/html": [
       "<ol class=list-inline>\n",
       "\t<li>1</li>\n",
       "\t<li>2</li>\n",
       "\t<li>3</li>\n",
       "\t<li>4</li>\n",
       "</ol>\n"
      ],
      "text/latex": [
       "\\begin{enumerate*}\n",
       "\\item 1\n",
       "\\item 2\n",
       "\\item 3\n",
       "\\item 4\n",
       "\\end{enumerate*}\n"
      ],
      "text/markdown": [
       "1. 1\n",
       "2. 2\n",
       "3. 3\n",
       "4. 4\n",
       "\n",
       "\n"
      ],
      "text/plain": [
       "[1] 1 2 3 4"
      ]
     },
     "execution_count": 107,
     "metadata": {},
     "output_type": "execute_result"
    },
    {
     "data": {
      "text/html": [
       "<table>\n",
       "<tbody>\n",
       "\t<tr><td>30</td></tr>\n",
       "\t<tr><td>70</td></tr>\n",
       "\t<tr><td>110</td></tr>\n",
       "</tbody>\n",
       "</table>\n"
      ],
      "text/latex": [
       "\\begin{tabular}{l}\n",
       "\t 30\\\\\n",
       "\t 70\\\\\n",
       "\t 110\\\\\n",
       "\\end{tabular}\n"
      ],
      "text/markdown": [
       "1. 30\n",
       "2. 70\n",
       "3. 110\n",
       "\n",
       "\n"
      ],
      "text/plain": [
       "     [,1]\n",
       "[1,]   30\n",
       "[2,]   70\n",
       "[3,]  110"
      ]
     },
     "execution_count": 107,
     "metadata": {},
     "output_type": "execute_result"
    },
    {
     "name": "stdout",
     "output_type": "stream",
     "text": [
      "the (3,1) entry should be 110"
     ]
    }
   ],
   "source": [
    "# Matrix multiplication\n",
    "C <- 1:4;\n",
    "C\n",
    "A%*%C  # a 3 by 2 matrix\n",
    "cat(\"the (3,1) entry should be\", 9*1+10*2+11*3+12*4)  # Check the (3,1) entry"
   ]
  },
  {
   "cell_type": "code",
   "execution_count": 108,
   "metadata": {
    "collapsed": false
   },
   "outputs": [
    {
     "data": {
      "text/html": [
       "<table>\n",
       "<tbody>\n",
       "\t<tr><td>220</td><td>180</td><td>140</td></tr>\n",
       "\t<tr><td>580</td><td>476</td><td>372</td></tr>\n",
       "\t<tr><td>940</td><td>772</td><td>604</td></tr>\n",
       "</tbody>\n",
       "</table>\n"
      ],
      "text/latex": [
       "\\begin{tabular}{lll}\n",
       "\t 220 & 180 & 140\\\\\n",
       "\t 580 & 476 & 372\\\\\n",
       "\t 940 & 772 & 604\\\\\n",
       "\\end{tabular}\n"
      ],
      "text/markdown": [
       "1. 220\n",
       "2. 580\n",
       "3. 940\n",
       "4. 180\n",
       "5. 476\n",
       "6. 772\n",
       "7. 140\n",
       "8. 372\n",
       "9. 604\n",
       "\n",
       "\n"
      ],
      "text/plain": [
       "     [,1] [,2] [,3]\n",
       "[1,]  220  180  140\n",
       "[2,]  580  476  372\n",
       "[3,]  940  772  604"
      ]
     },
     "execution_count": 108,
     "metadata": {},
     "output_type": "execute_result"
    },
    {
     "data": {
      "text/html": [
       "<table>\n",
       "<tbody>\n",
       "\t<tr><td>268</td><td>253</td><td>238</td><td>223</td></tr>\n",
       "\t<tr><td>328</td><td>310</td><td>292</td><td>274</td></tr>\n",
       "\t<tr><td>388</td><td>367</td><td>346</td><td>325</td></tr>\n",
       "\t<tr><td>448</td><td>424</td><td>400</td><td>376</td></tr>\n",
       "</tbody>\n",
       "</table>\n"
      ],
      "text/latex": [
       "\\begin{tabular}{llll}\n",
       "\t 268 & 253 & 238 & 223\\\\\n",
       "\t 328 & 310 & 292 & 274\\\\\n",
       "\t 388 & 367 & 346 & 325\\\\\n",
       "\t 448 & 424 & 400 & 376\\\\\n",
       "\\end{tabular}\n"
      ],
      "text/markdown": [
       "1. 268\n",
       "2. 328\n",
       "3. 388\n",
       "4. 448\n",
       "5. 253\n",
       "6. 310\n",
       "7. 367\n",
       "8. 424\n",
       "9. 238\n",
       "10. 292\n",
       "11. 346\n",
       "12. 400\n",
       "13. 223\n",
       "14. 274\n",
       "15. 325\n",
       "16. 376\n",
       "\n",
       "\n"
      ],
      "text/plain": [
       "     [,1] [,2] [,3] [,4]\n",
       "[1,]  268  253  238  223\n",
       "[2,]  328  310  292  274\n",
       "[3,]  388  367  346  325\n",
       "[4,]  448  424  400  376"
      ]
     },
     "execution_count": 108,
     "metadata": {},
     "output_type": "execute_result"
    }
   ],
   "source": [
    "# now multiplying a matrix by a matrix  The matrix multiplication operator is %*%\n",
    "A %*% t(B)  # a 3 by 3 matrix\n",
    "t(A) %*% B  # a 4 by 4 matrix"
   ]
  },
  {
   "cell_type": "code",
   "execution_count": 109,
   "metadata": {
    "collapsed": false
   },
   "outputs": [
    {
     "data": {
      "text/html": [
       "<table>\n",
       "<tbody>\n",
       "\t<tr><td>1</td><td>2</td><td>3</td><td>4</td></tr>\n",
       "\t<tr><td>5</td><td>6</td><td>7</td><td>8</td></tr>\n",
       "\t<tr><td> 9</td><td>10</td><td>11</td><td>12</td></tr>\n",
       "</tbody>\n",
       "</table>\n"
      ],
      "text/latex": [
       "\\begin{tabular}{llll}\n",
       "\t 1 & 2 & 3 & 4\\\\\n",
       "\t 5 & 6 & 7 & 8\\\\\n",
       "\t  9 & 10 & 11 & 12\\\\\n",
       "\\end{tabular}\n"
      ],
      "text/markdown": [
       "1. 1\n",
       "2. 5\n",
       "3. 9\n",
       "4. 2\n",
       "5. 6\n",
       "6. 10\n",
       "7. 3\n",
       "8. 7\n",
       "9. 11\n",
       "10. 4\n",
       "11. 8\n",
       "12. 12\n",
       "\n",
       "\n"
      ],
      "text/plain": [
       "     [,1] [,2] [,3] [,4]\n",
       "[1,]    1    2    3    4\n",
       "[2,]    5    6    7    8\n",
       "[3,]    9   10   11   12"
      ]
     },
     "execution_count": 109,
     "metadata": {},
     "output_type": "execute_result"
    },
    {
     "data": {
      "text/html": [
       "<table>\n",
       "<tbody>\n",
       "\t<tr><td>1</td><td>2</td><td>3</td><td>4</td></tr>\n",
       "\t<tr><td>5</td><td>6</td><td>7</td><td>8</td></tr>\n",
       "\t<tr><td> 9</td><td>10</td><td>11</td><td>12</td></tr>\n",
       "</tbody>\n",
       "</table>\n"
      ],
      "text/latex": [
       "\\begin{tabular}{llll}\n",
       "\t 1 & 2 & 3 & 4\\\\\n",
       "\t 5 & 6 & 7 & 8\\\\\n",
       "\t  9 & 10 & 11 & 12\\\\\n",
       "\\end{tabular}\n"
      ],
      "text/markdown": [
       "1. 1\n",
       "2. 5\n",
       "3. 9\n",
       "4. 2\n",
       "5. 6\n",
       "6. 10\n",
       "7. 3\n",
       "8. 7\n",
       "9. 11\n",
       "10. 4\n",
       "11. 8\n",
       "12. 12\n",
       "\n",
       "\n"
      ],
      "text/plain": [
       "     [,1] [,2] [,3] [,4]\n",
       "[1,]    1    2    3    4\n",
       "[2,]    5    6    7    8\n",
       "[3,]    9   10   11   12"
      ]
     },
     "execution_count": 109,
     "metadata": {},
     "output_type": "execute_result"
    }
   ],
   "source": [
    "# Multiplication by the identity matrix\n",
    "I3 <- diag(1,3); # I3 is the 3 by 3 identity matrix\n",
    "I3 %*% A  # multiplying from the left by the 3 by 3 identity matrix gives us back A\n",
    "#\n",
    "I4 <- diag(1,4); # I4 is the 4 by 4 identity matrix\n",
    "A %*% I4 # multiplying from the right by the 4 by 4 identity matrix gives us back A"
   ]
  },
  {
   "cell_type": "code",
   "execution_count": 110,
   "metadata": {
    "collapsed": false
   },
   "outputs": [
    {
     "data": {
      "text/html": [
       "<table>\n",
       "<tbody>\n",
       "\t<tr><td>1</td><td>8</td><td>9</td><td>8</td></tr>\n",
       "\t<tr><td>10</td><td> 6</td><td>28</td><td>24</td></tr>\n",
       "\t<tr><td>27</td><td>20</td><td>11</td><td>48</td></tr>\n",
       "</tbody>\n",
       "</table>\n"
      ],
      "text/latex": [
       "\\begin{tabular}{llll}\n",
       "\t 1 & 8 & 9 & 8\\\\\n",
       "\t 10 &  6 & 28 & 24\\\\\n",
       "\t 27 & 20 & 11 & 48\\\\\n",
       "\\end{tabular}\n"
      ],
      "text/markdown": [
       "1. 1\n",
       "2. 10\n",
       "3. 27\n",
       "4. 8\n",
       "5. 6\n",
       "6. 20\n",
       "7. 9\n",
       "8. 28\n",
       "9. 11\n",
       "10. 8\n",
       "11. 24\n",
       "12. 48\n",
       "\n",
       "\n"
      ],
      "text/plain": [
       "     [,1] [,2] [,3] [,4]\n",
       "[1,]    1    8    9    8\n",
       "[2,]   10    6   28   24\n",
       "[3,]   27   20   11   48"
      ]
     },
     "execution_count": 110,
     "metadata": {},
     "output_type": "execute_result"
    }
   ],
   "source": [
    "# R also does elementwise multiplication; again, this is not a formal operation in linear algebra\n",
    "A*C  # R copies C repeatedly to fill out the dimension of A, \n",
    "     # then multiplies elements of A by the corresponding element"
   ]
  },
  {
   "cell_type": "code",
   "execution_count": 111,
   "metadata": {
    "collapsed": false
   },
   "outputs": [
    {
     "data": {
      "text/html": [
       "<ol class=list-inline>\n",
       "\t<li>1</li>\n",
       "\t<li>1</li>\n",
       "\t<li>1</li>\n",
       "\t<li>2</li>\n",
       "\t<li>2</li>\n",
       "</ol>\n"
      ],
      "text/latex": [
       "\\begin{enumerate*}\n",
       "\\item 1\n",
       "\\item 1\n",
       "\\item 1\n",
       "\\item 2\n",
       "\\item 2\n",
       "\\end{enumerate*}\n"
      ],
      "text/markdown": [
       "1. 1\n",
       "2. 1\n",
       "3. 1\n",
       "4. 2\n",
       "5. 2\n",
       "\n",
       "\n"
      ],
      "text/plain": [
       "[1] 1 1 1 2 2"
      ]
     },
     "execution_count": 111,
     "metadata": {},
     "output_type": "execute_result"
    },
    {
     "data": {
      "text/html": [
       "<table>\n",
       "<tbody>\n",
       "\t<tr><td>24</td></tr>\n",
       "</tbody>\n",
       "</table>\n"
      ],
      "text/latex": [
       "\\begin{tabular}{l}\n",
       "\t 24\\\\\n",
       "\\end{tabular}\n"
      ],
      "text/markdown": [
       "24"
      ],
      "text/plain": [
       "     [,1]\n",
       "[1,]   24"
      ]
     },
     "execution_count": 111,
     "metadata": {},
     "output_type": "execute_result"
    },
    {
     "data": {
      "text/html": [
       "24"
      ],
      "text/latex": [
       "24"
      ],
      "text/markdown": [
       "24"
      ],
      "text/plain": [
       "[1] 24"
      ]
     },
     "execution_count": 111,
     "metadata": {},
     "output_type": "execute_result"
    }
   ],
   "source": [
    "# The dot product\n",
    "a <- 1:5;\n",
    "b <- c(rep(1,3), rep(2,2));  # new function: define a vector by repeating values\n",
    "b\n",
    "t(a) %*% b\n",
    "# another way to do it\n",
    "sum(a*b)"
   ]
  },
  {
   "cell_type": "code",
   "execution_count": 112,
   "metadata": {
    "collapsed": false
   },
   "outputs": [
    {
     "data": {
      "text/html": [
       "7.41619848709566"
      ],
      "text/latex": [
       "7.41619848709566"
      ],
      "text/markdown": [
       "7.41619848709566"
      ],
      "text/plain": [
       "[1] 7.416198"
      ]
     },
     "execution_count": 112,
     "metadata": {},
     "output_type": "execute_result"
    },
    {
     "data": {
      "text/html": [
       "7.41619848709566"
      ],
      "text/latex": [
       "7.41619848709566"
      ],
      "text/markdown": [
       "7.41619848709566"
      ],
      "text/plain": [
       "[1] 7.416198"
      ]
     },
     "execution_count": 112,
     "metadata": {},
     "output_type": "execute_result"
    },
    {
     "data": {
      "text/html": [
       "<table>\n",
       "<tbody>\n",
       "\t<tr><td>7.416198</td></tr>\n",
       "</tbody>\n",
       "</table>\n"
      ],
      "text/latex": [
       "\\begin{tabular}{l}\n",
       "\t 7.416198\\\\\n",
       "\\end{tabular}\n"
      ],
      "text/markdown": [
       "7.41619848709566"
      ],
      "text/plain": [
       "         [,1]\n",
       "[1,] 7.416198"
      ]
     },
     "execution_count": 112,
     "metadata": {},
     "output_type": "execute_result"
    },
    {
     "data": {
      "text/html": [
       "7.41619848709566"
      ],
      "text/latex": [
       "7.41619848709566"
      ],
      "text/markdown": [
       "7.41619848709566"
      ],
      "text/plain": [
       "[1] 7.416198"
      ]
     },
     "execution_count": 112,
     "metadata": {},
     "output_type": "execute_result"
    }
   ],
   "source": [
    "# the 2-norm\n",
    "norm(as.matrix(a), type=\"2\")  # the \"norm\" function operates on matrices--not lists. \n",
    "                              # The function \"as.matrix()\" turns the list a into a matrix.\n",
    "# alternative 1\n",
    "sqrt(sum(a*a))\n",
    "# alternative 2\n",
    "sqrt(t(a) %*% a)\n",
    "# check:\n",
    "sqrt(1^2+2^2+3^2+4^2+5^2)"
   ]
  },
  {
   "cell_type": "code",
   "execution_count": 113,
   "metadata": {
    "collapsed": false
   },
   "outputs": [
    {
     "data": {
      "text/html": [
       "15"
      ],
      "text/latex": [
       "15"
      ],
      "text/markdown": [
       "15"
      ],
      "text/plain": [
       "[1] 15"
      ]
     },
     "execution_count": 113,
     "metadata": {},
     "output_type": "execute_result"
    },
    {
     "data": {
      "text/html": [
       "15"
      ],
      "text/latex": [
       "15"
      ],
      "text/markdown": [
       "15"
      ],
      "text/plain": [
       "[1] 15"
      ]
     },
     "execution_count": 113,
     "metadata": {},
     "output_type": "execute_result"
    },
    {
     "data": {
      "text/html": [
       "15"
      ],
      "text/latex": [
       "15"
      ],
      "text/markdown": [
       "15"
      ],
      "text/plain": [
       "[1] 15"
      ]
     },
     "execution_count": 113,
     "metadata": {},
     "output_type": "execute_result"
    }
   ],
   "source": [
    "# the 1-norm\n",
    "norm(as.matrix(a), type=\"o\")\n",
    "# alternative \n",
    "sum(abs(a))\n",
    "# check:\n",
    "1+2+3+4+5"
   ]
  },
  {
   "cell_type": "markdown",
   "metadata": {},
   "source": [
    "## Interlude: a bit more computation and R\n",
    "\n",
    "The notation $X \\sim P$ means that the random variable $X$ has the probability distribution $P$.\n",
    "Recall that $U[a, b]$ denotes the uniform distribution on the interval $[a, b]$.\n",
    "\n",
    "Recall that the R function <tt>runif()</tt> generates uniformly distributed pseudo-random numbers between 0 and 1.\n",
    "To generate pseudo-random numbers that are uniformly distributed on the interval $[a, b]$, we can re-scale\n",
    "numbers from the interval $[0,1]$ as follows:\n",
    "\n",
    "If $X \\sim U[0,1]$, then $a+(b-a)X \\sim U[a,b]$.\n",
    "\n",
    "Example: to generate pseudo-random numbers on the interval $[-1, 2]$, we can generate pseudo-random numbers\n",
    "on the interval $[0,1]$, multiply them by 3, and subtract 1 from the result.\n",
    "\n",
    "The R function <tt>runif()</tt> takes options <tt>min</tt> and <tt>max</tt> to set the range in this way."
   ]
  },
  {
   "cell_type": "code",
   "execution_count": 114,
   "metadata": {
    "collapsed": false
   },
   "outputs": [
    {
     "data": {
      "application/pdf": "[encoded data removed]",
      "image/jpeg": "[encoded data removed]",
      "image/png": "[encoded data removed]",
      "text/plain": [
       "Plot with title “Histogram of x”"
      ]
     },
     "metadata": {
      "image/svg+xml": {
       "isolated": true
      }
     },
     "output_type": "display_data"
    }
   ],
   "source": [
    "# Here's how to plot a histogram in R. You will need this for the exercise below.\n",
    "x <- runif(1000, min=-1, max=2)  # generate pseudorandom numbers uniformly distributed between -1 and 2.\n",
    "hist(x)  # plot a histogram of the results"
   ]
  },
  {
   "cell_type": "markdown",
   "metadata": {},
   "source": [
    "#### Exercises\n",
    "\n",
    "+ Write an R script that computes the $p$-norm for general $p$, two different ways, from scratch. Do not use the \"norm\" function.\n",
    "+ Let $A$ be the 2 by 2 rotation matrix:\n",
    "$$\n",
    "A(\\theta) = \\begin{pmatrix}\n",
    "\\cos \\theta & -\\sin \\theta \\\\\n",
    "\\sin \\theta & \\cos \\theta\n",
    "\\end{pmatrix}\n",
    ".\n",
    "$$\n",
    "\n",
    "    - Prove algebraically that $A(\\theta)$ is an orthogonal matrix.\n",
    "    - Write an R script that checks whether $A(\\theta)$ is orthogonal by computing $A(\\theta)A'(\\theta)$ numerically for 1,000 values of $\\theta$ selected at random, uniformly from $[0, 2\\pi]$:\n",
    "        - For each randomly selected value of $\\theta$, calculate $\\sum_{i=1}^2 \\sum_{j=1}^2 \\left ( (A(\\theta)A'(\\theta))_{ij} - ({\\mathbf 1}_2)_{ij} \\right )^2$. (Note: this is the square of the Frobenius matrix norm of the difference between $AA'$ and $\\mathbf 1$. You can code it from scratch or use the R function <tt>norm()</tt> by setting <tt>type=\"F\"</tt> in the call to <tt>norm</tt>.)\n",
    "        - Find the maximum value of those 1,000 sums of squares.\n",
    "        - Plot a histogram of those 1,000 sums of squares."
   ]
  },
  {
   "cell_type": "markdown",
   "metadata": {},
   "source": [
    "## Trace, Determinant, Inverse\n",
    "\n",
    "### Trace\n",
    "If $A \\in {\\mathcal M}(n,n)$, the _trace_ of $A$ is the sum of the _diagonal elements_ of $A$:\n",
    "$$ {\\mbox{trace}}(A) = \\sum_{i=1}^n A_{ii}.$$\n",
    "\n",
    "### Determinants\n",
    "\n",
    "The _determinant_ of a square matrix is a real number; how to compute the determinant\n",
    "of a matrix is described below.\n",
    "\n",
    "Properties of determinants: \n",
    "\n",
    "+ $|A| = |A'|$. \n",
    "+ If $A$ and $B$ can be multiplied, $|AB| = |A|\\cdot |B|$.\n",
    "+ $|{\\mathbf 1}_n| = 1$. \n",
    "+ If $A$ is invertible, $|A^{-1}| = |A|^{-1}$.\n",
    "+ $A$ is invertible if and only if its determinant is nonzero.\n",
    "\n",
    "#### Computing the determinant\n",
    "\n",
    "The determinant of a matrix $A \\in {\\mathcal M}(2,2)$ is\n",
    "$$\n",
    "|A| = A_{11}A_{22} - A_{12}A_{21}.\n",
    "$$\n",
    "\n",
    "The determinant of a matrix $A \\in {\\mathcal M}(3,3)$ is\n",
    "$$\n",
    "|A| = \n",
    "A_{11}(A_{22}A_{33} - A_{23}A_{32})\n",
    "- A_{12}(A_{21}A_{33}-A_{23}A_{31}) \n",
    "+ A_{13}(A_{21}A_{32}-A_{22}A_{31}).\n",
    "$$\n",
    "\n",
    "Let $S_n$ be the set of all permutations of ${1, \\ldots, n}$.\n",
    "Define the _signature_ of the permutation $\\pi \\in S_n$, $\\mbox{sgn}(\\pi)$ to be $+1$ if\n",
    "$\\pi$ can be derived from $(1, \\ldots, n)$ by interchanging an even number of pairs of elements\n",
    "and $-1$ if $\\pi$ can be derived from $(1, \\ldots, n)$ by interchanging an even number of \n",
    "pairs of elements.\n",
    "\n",
    "E.g., for $n=4$, $\\mbox{sgn}(1,3,2,4) = -1$, since this permutation can be derived from $(1,2,3,4)$ by swapping\n",
    "$3$ and $2$.\n",
    "\n",
    "The determinant of a matrix $A \\in {\\mathcal M}(n,n)$ is then given by\n",
    "$$\n",
    "\\left |A \\right | \\equiv \\sum_{\\pi \\in S_n} \\mbox{sgn}(\\pi) \\prod_{i=1}^n A_{i,\\pi_i}.\n",
    "$$\n",
    "\n",
    "\n",
    "### Inverses\n",
    "\n",
    "If $A \\in {\\mathcal M}(n,n)$ is invertible, its inverse is\n",
    "$$\n",
    "A^{-1} = \\frac{\\mbox{adj}(A)}{|A|},\n",
    "$$\n",
    "where $\\mbox{adj}(A)$ is the _adjugate_ of $A$, the transpose of the _matrix of co-factors_.\n",
    "The $(i,j)$ element of the co-factor matrix of $A$ is the determinant of the matrix that\n",
    "results from deleting the $i$th row and $j$th column of $A$, multiplied by $(-1)^{i+j}$.\n",
    "\n",
    "For instance, if $A \\in {\\mathcal M}(2,2)$, its adjugate is\n",
    "$$\n",
    "\\mbox{adj}(A) \\equiv \n",
    "\\begin{pmatrix}\n",
    "A_{22} & -A_{12} \\\\\n",
    "-A_{21} & A_{11}\n",
    "\\end{pmatrix}\n",
    ".\n",
    "$$\n",
    "If $A \\in {\\mathcal M}(3,3)$, its adjugate is\n",
    "$$\n",
    "\\mbox{adj}(A) \\equiv \n",
    "\\begin{pmatrix}\n",
    " + \\begin{vmatrix} \n",
    "   A_{22} & A_{23} \\\\\n",
    "   A_{32} & A_{33}\n",
    " \\end{vmatrix}\n",
    " &\n",
    " - \\begin{vmatrix}\n",
    "   A_{21} & A_{23} \\\\\n",
    "   A_{31} & A_{33}\n",
    " \\end{vmatrix}\n",
    " &\n",
    " + \\begin{vmatrix}\n",
    "   A_{21} & A_{22} \\\\\n",
    "   A_{31} & A_{32}\n",
    " \\end{vmatrix}\n",
    " \\\\\n",
    " - \\begin{vmatrix} \n",
    "   A_{12} & A_{13} \\\\\n",
    "   A_{32} & A_{33}\n",
    " \\end{vmatrix}\n",
    " &\n",
    " + \\begin{vmatrix}\n",
    "   A_{11} & A_{13} \\\\\n",
    "   A_{31} & A_{33}\n",
    " \\end{vmatrix}\n",
    " &\n",
    " - \\begin{vmatrix}\n",
    "   A_{11} & A_{12} \\\\\n",
    "   A_{31} & A_{32}\n",
    " \\end{vmatrix}\n",
    " \\\\\n",
    " + \\begin{vmatrix} \n",
    "   A_{12} & A_{13} \\\\\n",
    "   A_{22} & A_{23}\n",
    " \\end{vmatrix}\n",
    " &\n",
    " - \\begin{vmatrix}\n",
    "   A_{11} & A_{13} \\\\\n",
    "   A_{21} & A_{23}\n",
    " \\end{vmatrix}\n",
    " &\n",
    " + \\begin{vmatrix}\n",
    "   A_{11} & A_{12} \\\\\n",
    "   A_{21} & A_{22}\n",
    " \\end{vmatrix}\n",
    "\\end{pmatrix}\n",
    ".\n",
    "$$\n",
    "\n",
    "#### Examples of computing inverses\n",
    "\n",
    "Let\n",
    "$$\n",
    "A =\n",
    "\\begin{pmatrix}\n",
    "1 & 2 \\\\\n",
    "6 & 7\n",
    "\\end{pmatrix}\n",
    ".\n",
    "$$\n",
    "Then\n",
    "$$\n",
    "\\mbox{adj}(A) =\n",
    "\\begin{pmatrix}\n",
    "7 & -2 \\\\\n",
    "-6 & 1\n",
    "\\end{pmatrix}\n",
    ",\n",
    "$$\n",
    "and $|A| = 1\\cdot7 - 6\\cdot2 = 7-12 = -5 \\ne 0$, so $A$ is invertible.\n",
    "$$\n",
    "A^{-1} = \\frac{\\mbox{adj}(A)}{|A|} =\n",
    "-\\frac{1}{5} \n",
    "\\begin{pmatrix}\n",
    "7 & -2 \\\\\n",
    "-6 & 1\n",
    "\\end{pmatrix}\n",
    ".\n",
    "$$\n",
    "\n",
    "Let's check the result:\n",
    "$$\n",
    "AA^{-1} =\n",
    "\\begin{pmatrix}\n",
    "1 & 2 \\\\\n",
    "6 & 7\n",
    "\\end{pmatrix}\n",
    "\\cdot\n",
    "-\\frac{1}{5}\n",
    "\\begin{pmatrix}\n",
    "7 & -2 \\\\\n",
    "-6 & 1\n",
    "\\end{pmatrix}\n",
    "= \n",
    "\\frac{1}{5}\\begin{pmatrix}\n",
    "-7+12 & 2-2 \\\\\n",
    "-42 + 42 & 12-7\n",
    "\\end{pmatrix}\n",
    "=\n",
    "\\frac{1}{5}\n",
    "\\begin{pmatrix}\n",
    "5 & 0 \\\\\n",
    "0 & 5\n",
    "\\end{pmatrix}\n",
    "= {\\mathbf 1}_2.\n",
    "$$\n",
    "\n",
    "Let's compute another: take\n",
    "$$\n",
    "A = \\begin{pmatrix}\n",
    "1 & 2 & 3 \\\\\n",
    "2 & 4 & 6 \\\\\n",
    "3 & 4 & 5\n",
    "\\end{pmatrix}\n",
    ".\n",
    "$$\n",
    "Then\n",
    "$$ \\left |A \\right | = 1 (4 \\cdot 5 - 4 \\cdot 6) -2(2 \\cdot 5 - 3 \\cdot 6) + 3(2 \\cdot 4 - 3 \\cdot 4) = -4 + 16 - 12 = 0.\n",
    "$$\n",
    "Hence, $A$ is not full rank and is not invertible.\n",
    "(The second row is a multiple of the first row, so the rows are linearly dependent.)\n"
   ]
  },
  {
   "cell_type": "code",
   "execution_count": 115,
   "metadata": {
    "collapsed": false
   },
   "outputs": [
    {
     "data": {
      "text/html": [
       "<table>\n",
       "<tbody>\n",
       "\t<tr><td>1</td><td>1</td><td>1</td><td>1</td><td>1</td></tr>\n",
       "\t<tr><td>2</td><td>2</td><td>2</td><td>2</td><td>2</td></tr>\n",
       "\t<tr><td>3</td><td>3</td><td>3</td><td>3</td><td>3</td></tr>\n",
       "\t<tr><td>4</td><td>4</td><td>4</td><td>4</td><td>4</td></tr>\n",
       "\t<tr><td>5</td><td>5</td><td>5</td><td>5</td><td>5</td></tr>\n",
       "</tbody>\n",
       "</table>\n"
      ],
      "text/latex": [
       "\\begin{tabular}{lllll}\n",
       "\t 1 & 1 & 1 & 1 & 1\\\\\n",
       "\t 2 & 2 & 2 & 2 & 2\\\\\n",
       "\t 3 & 3 & 3 & 3 & 3\\\\\n",
       "\t 4 & 4 & 4 & 4 & 4\\\\\n",
       "\t 5 & 5 & 5 & 5 & 5\\\\\n",
       "\\end{tabular}\n"
      ],
      "text/markdown": [
       "1. 1\n",
       "2. 2\n",
       "3. 3\n",
       "4. 4\n",
       "5. 5\n",
       "6. 1\n",
       "7. 2\n",
       "8. 3\n",
       "9. 4\n",
       "10. 5\n",
       "11. 1\n",
       "12. 2\n",
       "13. 3\n",
       "14. 4\n",
       "15. 5\n",
       "16. 1\n",
       "17. 2\n",
       "18. 3\n",
       "19. 4\n",
       "20. 5\n",
       "21. 1\n",
       "22. 2\n",
       "23. 3\n",
       "24. 4\n",
       "25. 5\n",
       "\n",
       "\n"
      ],
      "text/plain": [
       "     [,1] [,2] [,3] [,4] [,5]\n",
       "[1,]    1    1    1    1    1\n",
       "[2,]    2    2    2    2    2\n",
       "[3,]    3    3    3    3    3\n",
       "[4,]    4    4    4    4    4\n",
       "[5,]    5    5    5    5    5"
      ]
     },
     "execution_count": 115,
     "metadata": {},
     "output_type": "execute_result"
    },
    {
     "data": {
      "text/html": [
       "15"
      ],
      "text/latex": [
       "15"
      ],
      "text/markdown": [
       "15"
      ],
      "text/plain": [
       "[1] 15"
      ]
     },
     "execution_count": 115,
     "metadata": {},
     "output_type": "execute_result"
    }
   ],
   "source": [
    "# Trace in R\n",
    "A <- array(1:5,dim=c(5,5))\n",
    "A\n",
    "sum(diag(A))  # diag() extracts the diagonal of a matrix; sum() adds the elements of a list"
   ]
  },
  {
   "cell_type": "code",
   "execution_count": 116,
   "metadata": {
    "collapsed": false
   },
   "outputs": [
    {
     "data": {
      "text/html": [
       "<table>\n",
       "<tbody>\n",
       "\t<tr><td>1</td><td>1</td><td>1</td><td>1</td><td>1</td></tr>\n",
       "\t<tr><td>2</td><td>2</td><td>2</td><td>2</td><td>2</td></tr>\n",
       "\t<tr><td>3</td><td>3</td><td>3</td><td>3</td><td>3</td></tr>\n",
       "\t<tr><td>4</td><td>4</td><td>4</td><td>4</td><td>4</td></tr>\n",
       "\t<tr><td>5</td><td>5</td><td>5</td><td>5</td><td>5</td></tr>\n",
       "</tbody>\n",
       "</table>\n"
      ],
      "text/latex": [
       "\\begin{tabular}{lllll}\n",
       "\t 1 & 1 & 1 & 1 & 1\\\\\n",
       "\t 2 & 2 & 2 & 2 & 2\\\\\n",
       "\t 3 & 3 & 3 & 3 & 3\\\\\n",
       "\t 4 & 4 & 4 & 4 & 4\\\\\n",
       "\t 5 & 5 & 5 & 5 & 5\\\\\n",
       "\\end{tabular}\n"
      ],
      "text/markdown": [
       "1. 1\n",
       "2. 2\n",
       "3. 3\n",
       "4. 4\n",
       "5. 5\n",
       "6. 1\n",
       "7. 2\n",
       "8. 3\n",
       "9. 4\n",
       "10. 5\n",
       "11. 1\n",
       "12. 2\n",
       "13. 3\n",
       "14. 4\n",
       "15. 5\n",
       "16. 1\n",
       "17. 2\n",
       "18. 3\n",
       "19. 4\n",
       "20. 5\n",
       "21. 1\n",
       "22. 2\n",
       "23. 3\n",
       "24. 4\n",
       "25. 5\n",
       "\n",
       "\n"
      ],
      "text/plain": [
       "     [,1] [,2] [,3] [,4] [,5]\n",
       "[1,]    1    1    1    1    1\n",
       "[2,]    2    2    2    2    2\n",
       "[3,]    3    3    3    3    3\n",
       "[4,]    4    4    4    4    4\n",
       "[5,]    5    5    5    5    5"
      ]
     },
     "execution_count": 116,
     "metadata": {},
     "output_type": "execute_result"
    },
    {
     "data": {
      "text/html": [
       "0"
      ],
      "text/latex": [
       "0"
      ],
      "text/markdown": [
       "0"
      ],
      "text/plain": [
       "[1] 0"
      ]
     },
     "execution_count": 116,
     "metadata": {},
     "output_type": "execute_result"
    },
    {
     "data": {
      "text/html": [
       "<table>\n",
       "<tbody>\n",
       "\t<tr><td>0.7911044</td><td>0.5111847</td><td>0.8834198</td><td>0.3332640</td><td>0.2030251</td></tr>\n",
       "\t<tr><td>0.9413788</td><td>0.8508601</td><td>0.5881971</td><td>0.8727170</td><td>0.4400455</td></tr>\n",
       "\t<tr><td>0.5554631623</td><td>0.7189790651</td><td>0.3615236080</td><td>0.0009930532</td><td>0.3638975814</td></tr>\n",
       "\t<tr><td>0.91045085</td><td>0.65562581</td><td>0.50991276</td><td>0.93258828</td><td>0.05294425</td></tr>\n",
       "\t<tr><td>0.31172996</td><td>0.01112403</td><td>0.69235692</td><td>0.12725290</td><td>0.16893148</td></tr>\n",
       "</tbody>\n",
       "</table>\n"
      ],
      "text/latex": [
       "\\begin{tabular}{lllll}\n",
       "\t 0.7911044 & 0.5111847 & 0.8834198 & 0.3332640 & 0.2030251\\\\\n",
       "\t 0.9413788 & 0.8508601 & 0.5881971 & 0.8727170 & 0.4400455\\\\\n",
       "\t 0.5554631623 & 0.7189790651 & 0.3615236080 & 0.0009930532 & 0.3638975814\\\\\n",
       "\t 0.91045085 & 0.65562581 & 0.50991276 & 0.93258828 & 0.05294425\\\\\n",
       "\t 0.31172996 & 0.01112403 & 0.69235692 & 0.12725290 & 0.16893148\\\\\n",
       "\\end{tabular}\n"
      ],
      "text/markdown": [
       "1. 0.791104398667812\n",
       "2. 0.94137883069925\n",
       "3. 0.555463162250817\n",
       "4. 0.910450847819448\n",
       "5. 0.311729964800179\n",
       "6. 0.511184652103111\n",
       "7. 0.850860107922927\n",
       "8. 0.718979065073654\n",
       "9. 0.655625813640654\n",
       "10. 0.0111240320838988\n",
       "11. 0.883419764460996\n",
       "12. 0.588197063421831\n",
       "13. 0.361523607978597\n",
       "14. 0.509912761626765\n",
       "15. 0.69235692312941\n",
       "16. 0.33326400956139\n",
       "17. 0.872717049671337\n",
       "18. 0.000993053195998073\n",
       "19. 0.932588279712945\n",
       "20. 0.12725290376693\n",
       "21. 0.203025139402598\n",
       "22. 0.440045504830778\n",
       "23. 0.363897581351921\n",
       "24. 0.0529442527331412\n",
       "25. 0.168931481195614\n",
       "\n",
       "\n"
      ],
      "text/plain": [
       "          [,1]       [,2]      [,3]         [,4]       [,5]\n",
       "[1,] 0.7911044 0.51118465 0.8834198 0.3332640096 0.20302514\n",
       "[2,] 0.9413788 0.85086011 0.5881971 0.8727170497 0.44004550\n",
       "[3,] 0.5554632 0.71897907 0.3615236 0.0009930532 0.36389758\n",
       "[4,] 0.9104508 0.65562581 0.5099128 0.9325882797 0.05294425\n",
       "[5,] 0.3117300 0.01112403 0.6923569 0.1272529038 0.16893148"
      ]
     },
     "execution_count": 116,
     "metadata": {},
     "output_type": "execute_result"
    },
    {
     "data": {
      "text/html": [
       "-9.23919730938867e-05"
      ],
      "text/latex": [
       "-9.23919730938867e-05"
      ],
      "text/markdown": [
       "-9.23919730938867e-05"
      ],
      "text/plain": [
       "[1] -9.239197e-05"
      ]
     },
     "execution_count": 116,
     "metadata": {},
     "output_type": "execute_result"
    }
   ],
   "source": [
    "# Determinant\n",
    "A <- array(1:5,dim=c(5,5))\n",
    "A  # the rows and columns are multiples of each other, so A is singular (not invertible)\n",
    "det(A) # 0\n",
    "\n",
    "# The set of singular matrices has Lebesgue measure 0, so a random matrix is nonsingular with probability 1\n",
    "A <- array(runif(25), dim=c(5,5)) # 5 by 5 matrix with uniformly distributed elements\n",
    "A\n",
    "det(A)"
   ]
  },
  {
   "cell_type": "code",
   "execution_count": 117,
   "metadata": {
    "collapsed": false
   },
   "outputs": [
    {
     "data": {
      "text/html": [
       "<table>\n",
       "<tbody>\n",
       "\t<tr><td>-1309.6031</td><td> -610.1517</td><td>  826.8503</td><td>  887.4476</td><td> 1104.0142</td></tr>\n",
       "\t<tr><td> 918.5771</td><td> 426.6738</td><td>-578.2303</td><td>-621.1531</td><td>-775.1489</td></tr>\n",
       "\t<tr><td> 622.9323</td><td> 289.1129</td><td>-392.7722</td><td>-421.2891</td><td>-523.6446</td></tr>\n",
       "\t<tr><td> 316.8695</td><td> 148.9443</td><td>-201.5060</td><td>-214.8427</td><td>-267.4013</td></tr>\n",
       "\t<tr><td>-435.6194</td><td>-199.2918</td><td> 273.8329</td><td> 291.7605</td><td> 367.2791</td></tr>\n",
       "</tbody>\n",
       "</table>\n"
      ],
      "text/latex": [
       "\\begin{tabular}{lllll}\n",
       "\t -1309.6031 &  -610.1517 &   826.8503 &   887.4476 &  1104.0142\\\\\n",
       "\t  918.5771 &  426.6738 & -578.2303 & -621.1531 & -775.1489\\\\\n",
       "\t  622.9323 &  289.1129 & -392.7722 & -421.2891 & -523.6446\\\\\n",
       "\t  316.8695 &  148.9443 & -201.5060 & -214.8427 & -267.4013\\\\\n",
       "\t -435.6194 & -199.2918 &  273.8329 &  291.7605 &  367.2791\\\\\n",
       "\\end{tabular}\n"
      ],
      "text/markdown": [
       "1. -1309.60308038924\n",
       "2. 918.57711352076\n",
       "3. 622.932337211029\n",
       "4. 316.869481567684\n",
       "5. -435.619439096918\n",
       "6. -610.151662170099\n",
       "7. 426.673840550586\n",
       "8. 289.112862348804\n",
       "9. 148.944327583391\n",
       "10. -199.291849452023\n",
       "11. 826.850327850026\n",
       "12. -578.230336614658\n",
       "13. -392.772181779219\n",
       "14. -201.506046949133\n",
       "15. 273.832904096024\n",
       "16. 887.447575351876\n",
       "17. -621.15306638566\n",
       "18. -421.289141545474\n",
       "19. -214.842657222389\n",
       "20. 291.760485594607\n",
       "21. 1104.0142410378\n",
       "22. -775.148866687902\n",
       "23. -523.644578763194\n",
       "24. -267.401345898914\n",
       "25. 367.279130146753\n",
       "\n",
       "\n"
      ],
      "text/plain": [
       "           [,1]      [,2]      [,3]      [,4]      [,5]\n",
       "[1,] -1309.6031 -610.1517  826.8503  887.4476 1104.0142\n",
       "[2,]   918.5771  426.6738 -578.2303 -621.1531 -775.1489\n",
       "[3,]   622.9323  289.1129 -392.7722 -421.2891 -523.6446\n",
       "[4,]   316.8695  148.9443 -201.5060 -214.8427 -267.4013\n",
       "[5,]  -435.6194 -199.2918  273.8329  291.7605  367.2791"
      ]
     },
     "execution_count": 117,
     "metadata": {},
     "output_type": "execute_result"
    }
   ],
   "source": [
    "# Inverse\n",
    "solve(A)  # this is almost never the right thing to do"
   ]
  },
  {
   "cell_type": "markdown",
   "metadata": {},
   "source": [
    "## Eigenvalue / Eigenvector decompositions\n",
    "\n",
    "Let $A \\in {\\mathcal M}(n,n)$ be a square matrix.\n",
    "An _eigenvector_ of $A$ is a non-zero vector $v \\in \\Re^n$ such that, for some scalar $\\lambda \\in \\Re$, $\\lambda \\ne 0$,\n",
    "$Av = \\lambda v$.\n",
    "That is, the effect of multiplying $v$ by the matrix $A$ is to \"stretch or shrink\" $v$ by the scalar\n",
    "$\\lambda$, without changing the direction of $v$ (except perhaps to change its sign).\n",
    "The scalar $\\lambda$ is the _eigenvalue_ associated with the eigenvector $v$.\n",
    "\n",
    "If $A$ is a diagonal matrix, its eigenvectors are the coordinate vectors $e_1 = (1, 0, \\ldots, 0)$, \n",
    "$e_2 = (0, 1, \\ldots, 0)$,\n",
    "$e_n = (0, 0, \\ldots, 1)$, and the associated eigenvalues are the diagonal elements of $A$.\n",
    "That is, the eigenvalue associated with the eigenvector $e_j$ is $A_{jj}$.\n",
    "\n",
    "If $Av = \\lambda v$, then $(A- \\lambda {\\mathbf 1}_n)v = 0$.\n",
    "For that to occur with $v \\ne {\\mathbf 0}_n$, it is necessary that the determinant of $A - \\lambda {\\mathbf 1}_n$\n",
    "be zero.\n",
    "That condition, $\\left |A - \\lambda {\\mathbf 1}_n \\right | = 0$ means that any eigenvalue \n",
    "must be a root of an $n$th degree polynomial in $\\lambda$ \n",
    "called the _characteristic polynomial_ of the matrix $A$.\n",
    "(The leading term in the polynomial is $(-1)^n \\lambda^n$.)\n",
    "It follows that $A$ has at most $n$ real eigenvalues and always has $n$ complex eigenvalues (counting\n",
    "multiple roots as often as they occur).\n",
    "\n",
    "Suppose that $A$ has the $n$ complex eigenvalues $\\{\\lambda_i \\}$\n",
    "(counting multiples as often as they occur).\n",
    "\n",
    "Then:\n",
    "+ $\\mbox{trace}(A) = \\sum_{i=1}^n \\lambda_i$: the trace of $A$ is the sum of its eigenvalues.\n",
    "+ $\\left | A \\right | = \\prod_{i=1}^n \\lambda_i$: the determinant of $A$ is the product of its eigenvalues.\n",
    "+ The eigenvalues of $A^k$ are $\\{\\lambda_i^k\\}_{k=1}^n$.\n",
    "+ If all $\\{\\lambda_i\\}$ are real and non-negative, $A$ is positive semi-definite.\n",
    "+ If all $\\{\\lambda_i\\}$ are real and positive, then $A$ is positive definite.\n",
    "+ If all $\\{\\lambda_i\\}$ are real and nonzero, then $A$ is invertible, and the eigenvalues of $A^{-1}$ are\n",
    "$\\{\\lambda_i^{-1}\\}$.\n",
    "\n",
    "Let $V \\in {\\mathcal M}(n,n)$ be the matrix whose columns are the eigenvectors of a matrix $A$,\n",
    "and let $\\Lambda$ be the diagonal matrix of the corresponding eigenvalues of $A$. Then\n",
    "$A = V \\Lambda V^{-1}$.\n",
    "This factorization is the _eigen-decomposition_ of $A$.\n",
    "\n",
    "Suppose $A$ is positive semi-definite. Then $A$ can be written\n",
    "$$\n",
    "  A = R \\Lambda R',\n",
    "$$\n",
    "where $R$ is an orthogonal matrix and $\\Lambda$ is the diagonal matrix whose diagonal elements are\n",
    "the eigenvalues of $A$, all of which are non-negative.\n",
    "The columns of $R$ are the eigenvectors of $A$.\n",
    "If $A$ is positive definite, then the diagonal elements of $\\Lambda$ are strictly positive.\n",
    "\n",
    "\n",
    "### Matrix square-roots\n",
    "\n",
    "Suppose that $\\Lambda$ is a diagonal matrix with all non-negative elements.\n",
    "\n",
    "Define the matrix $\\Lambda^{1/2}$ by $(\\Lambda^{1/2})_{ij} = \\sqrt{\\Lambda_{ij}}$:\n",
    "$$\n",
    "\\Lambda^{1/2} \\equiv \n",
    "\\begin{pmatrix}\n",
    "\\sqrt{\\Lambda_{11}} & 0 & \\cdots & 0 \\\\\n",
    "0 & \\sqrt{\\Lambda_{22}} & \\cdots & 0 \\\\\n",
    "\\vdots & \\vdots & \\ddots & 0 \\\\\n",
    "0 & 0 & \\cdots & \\sqrt{\\Lambda_{nn}}\n",
    "\\end{pmatrix}\n",
    ".\n",
    "$$\n",
    "\n",
    "Then $\\Lambda^{1/2}$ is the _matrix square root_ of \n",
    "$\\Lambda$, in the sense that $\\Lambda^{1/2}\\Lambda^{1/2} = \\Lambda$.\n",
    "\n",
    "Suppose $A \\in {\\mathcal M}(n,n)$ is positive semi-definite, with the eigen-decomposition $R\\Lambda R'$,\n",
    "$R$ orthogonal, $\\Lambda$ diagonal with non-negative elements.\n",
    "Define the matrix \n",
    "$$\n",
    "A^{1/2} \\equiv R \\Lambda^{1/2} R'.\n",
    "$$\n",
    "Then $A^{1/2}$ is the matrix square root of $A$, in the sense that $A^{1/2}A^{1/2} = A$.\n",
    "\n",
    "### Inverses of Positive-Definite Matrices\n",
    "\n",
    "Suppose that $\\Lambda \\in {\\mathcal M}(n,n)$ is a diagonal matrix with strictly positive\n",
    "diagonal elements (i.e., $\\Lambda$ is a diagonal, positive definite matrix).\n",
    "Then the inverse of $\\Lambda$ has elements\n",
    "$$\n",
    "(\\Lambda^{-1})_{ij} = \n",
    "\\left \\{ \n",
    "\\begin{array}{ll} \n",
    "0, & i \\ne j \\\\ \n",
    "\\Lambda_{ij}^{-1}, & i=j. \n",
    "\\end{array} \n",
    "\\right . \n",
    "$$\n",
    "\n",
    "We can verify this by direct multiplication:\n",
    "$$\n",
    "(\\Lambda \\Lambda^{-1})_{ij} = \n",
    "\\sum_{\\ell=1}^n \\Lambda_{i\\ell} (\\Lambda^{-1})_{\\ell j}\n",
    "= \\left \\{ \\begin{array}{ll} 0, & i \\ne j \\\\ 1, & i=j. \\end{array} \\right .\n",
    "$$\n",
    "\n",
    "Suppose that $A \\in {\\mathcal M}(n,n)$ is positive definite, with the eigen-decomposition $R\\Lambda R'$.\n",
    "Then $A^{-1} = R \\Lambda^{-1} R'$."
   ]
  },
  {
   "cell_type": "markdown",
   "metadata": {},
   "source": [
    "### Exercises\n",
    "\n",
    "+ Show that if $\\Lambda \\in {\\mathcal M}(n,n)$ is a diagonal matrix with non-negative elements, then \n",
    "the matrix with elements $(\\Lambda^{1/2})_{ij} = \\sqrt{\\Lambda_{ij}}$ is its matrix square root.\n",
    "+ Show that if $A \\in {\\mathcal M}(n,n)$ is positive definite with the eigen-decomposition $R\\Lambda R'$, then\n",
    "$A^{1/2} \\equiv R\\Lambda^{1/2}R'$ is the matrix square root of $A$.\n"
   ]
  },
  {
   "cell_type": "code",
   "execution_count": 128,
   "metadata": {
    "collapsed": false
   },
   "outputs": [
    {
     "data": {
      "text/html": [
       "<dl>\n",
       "\t<dt>$values</dt>\n",
       "\t\t<dd><ol class=list-inline>\n",
       "\t<li>3.65109340893717</li>\n",
       "\t<li>0.726109445035784</li>\n",
       "\t<li>-0.377202853972958</li>\n",
       "</ol>\n",
       "</dd>\n",
       "\t<dt>$vectors</dt>\n",
       "\t\t<dd><table>\n",
       "<tbody>\n",
       "\t<tr><td>-0.2268408</td><td>-0.8167856</td><td> 0.3520763</td></tr>\n",
       "\t<tr><td>-0.6013762</td><td> 0.2237099</td><td>-0.4848805</td></tr>\n",
       "\t<tr><td>-0.7660874</td><td> 0.5318037</td><td> 0.8005830</td></tr>\n",
       "</tbody>\n",
       "</table>\n",
       "</dd>\n",
       "</dl>\n"
      ],
      "text/latex": [
       "\\begin{description}\n",
       "\\item[\\$values] \\begin{enumerate*}\n",
       "\\item 3.65109340893717\n",
       "\\item 0.726109445035784\n",
       "\\item -0.377202853972958\n",
       "\\end{enumerate*}\n",
       "\n",
       "\\item[\\$vectors] \\begin{tabular}{lll}\n",
       "\t -0.2268408 & -0.8167856 &  0.3520763\\\\\n",
       "\t -0.6013762 &  0.2237099 & -0.4848805\\\\\n",
       "\t -0.7660874 &  0.5318037 &  0.8005830\\\\\n",
       "\\end{tabular}\n",
       "\n",
       "\\end{description}\n"
      ],
      "text/markdown": [
       "$values\n",
       ":   1. 3.65109340893717\n",
       "2. 0.726109445035784\n",
       "3. -0.377202853972958\n",
       "\n",
       "\n",
       "\n",
       "$vectors\n",
       ":   1. -0.2268408088325\n",
       "2. -0.601376173173819\n",
       "3. -0.766087426986653\n",
       "4. -0.816785593579776\n",
       "5. 0.223709859512343\n",
       "6. 0.531803716494631\n",
       "7. 0.352076317093485\n",
       "8. -0.484880508717436\n",
       "9. 0.800583012065463\n",
       "\n",
       "\n",
       "\n",
       "\n",
       "\n"
      ],
      "text/plain": [
       "$values\n",
       "[1]  3.6510934  0.7261094 -0.3772029\n",
       "\n",
       "$vectors\n",
       "           [,1]       [,2]       [,3]\n",
       "[1,] -0.2268408 -0.8167856  0.3520763\n",
       "[2,] -0.6013762  0.2237099 -0.4848805\n",
       "[3,] -0.7660874  0.5318037  0.8005830\n"
      ]
     },
     "execution_count": 128,
     "metadata": {},
     "output_type": "execute_result"
    },
    {
     "data": {
      "text/html": [
       "<ol class=list-inline>\n",
       "\t<li>3.65109340893717</li>\n",
       "\t<li>0.726109445035784</li>\n",
       "\t<li>-0.377202853972958</li>\n",
       "</ol>\n"
      ],
      "text/latex": [
       "\\begin{enumerate*}\n",
       "\\item 3.65109340893717\n",
       "\\item 0.726109445035784\n",
       "\\item -0.377202853972958\n",
       "\\end{enumerate*}\n"
      ],
      "text/markdown": [
       "1. 3.65109340893717\n",
       "2. 0.726109445035784\n",
       "3. -0.377202853972958\n",
       "\n",
       "\n"
      ],
      "text/plain": [
       "[1]  3.6510934  0.7261094 -0.3772029"
      ]
     },
     "execution_count": 128,
     "metadata": {},
     "output_type": "execute_result"
    },
    {
     "data": {
      "text/html": [
       "<table>\n",
       "<tbody>\n",
       "\t<tr><td>-0.2268408</td><td>-0.8167856</td><td> 0.3520763</td></tr>\n",
       "\t<tr><td>-0.6013762</td><td> 0.2237099</td><td>-0.4848805</td></tr>\n",
       "\t<tr><td>-0.7660874</td><td> 0.5318037</td><td> 0.8005830</td></tr>\n",
       "</tbody>\n",
       "</table>\n"
      ],
      "text/latex": [
       "\\begin{tabular}{lll}\n",
       "\t -0.2268408 & -0.8167856 &  0.3520763\\\\\n",
       "\t -0.6013762 &  0.2237099 & -0.4848805\\\\\n",
       "\t -0.7660874 &  0.5318037 &  0.8005830\\\\\n",
       "\\end{tabular}\n"
      ],
      "text/markdown": [
       "1. -0.2268408088325\n",
       "2. -0.601376173173819\n",
       "3. -0.766087426986653\n",
       "4. -0.816785593579776\n",
       "5. 0.223709859512343\n",
       "6. 0.531803716494631\n",
       "7. 0.352076317093485\n",
       "8. -0.484880508717436\n",
       "9. 0.800583012065463\n",
       "\n",
       "\n"
      ],
      "text/plain": [
       "           [,1]       [,2]       [,3]\n",
       "[1,] -0.2268408 -0.8167856  0.3520763\n",
       "[2,] -0.6013762  0.2237099 -0.4848805\n",
       "[3,] -0.7660874  0.5318037  0.8005830"
      ]
     },
     "execution_count": 128,
     "metadata": {},
     "output_type": "execute_result"
    }
   ],
   "source": [
    "# Eigen decompositions in R\n",
    "A <- array(c(1,1,1,1,2,3,0,1,1), dim=c(3,3));\n",
    "eigen(A)\n",
    "\n",
    "# eigen() is an example of a function that returns more than one variable. Here's how you access them:\n",
    "decomp <- eigen(A);\n",
    "decomp$values\n",
    "decomp$vectors"
   ]
  },
  {
   "cell_type": "code",
   "execution_count": 129,
   "metadata": {
    "collapsed": false
   },
   "outputs": [
    {
     "data": {
      "text/html": [
       "<ol class=list-inline>\n",
       "\t<li>-0.2268408088325</li>\n",
       "\t<li>-0.601376173173819</li>\n",
       "\t<li>-0.766087426986653</li>\n",
       "</ol>\n"
      ],
      "text/latex": [
       "\\begin{enumerate*}\n",
       "\\item -0.2268408088325\n",
       "\\item -0.601376173173819\n",
       "\\item -0.766087426986653\n",
       "\\end{enumerate*}\n"
      ],
      "text/markdown": [
       "1. -0.2268408088325\n",
       "2. -0.601376173173819\n",
       "3. -0.766087426986653\n",
       "\n",
       "\n"
      ],
      "text/plain": [
       "[1] -0.2268408 -0.6013762 -0.7660874"
      ]
     },
     "execution_count": 129,
     "metadata": {},
     "output_type": "execute_result"
    },
    {
     "data": {
      "text/html": [
       "<table>\n",
       "<tbody>\n",
       "\t<tr><td>-0.2268408</td></tr>\n",
       "\t<tr><td>-0.6013762</td></tr>\n",
       "\t<tr><td>-0.7660874</td></tr>\n",
       "</tbody>\n",
       "</table>\n"
      ],
      "text/latex": [
       "\\begin{tabular}{l}\n",
       "\t -0.2268408\\\\\n",
       "\t -0.6013762\\\\\n",
       "\t -0.7660874\\\\\n",
       "\\end{tabular}\n"
      ],
      "text/markdown": [
       "1. -0.2268408088325\n",
       "2. -0.601376173173819\n",
       "3. -0.766087426986653\n",
       "\n",
       "\n"
      ],
      "text/plain": [
       "           [,1]\n",
       "[1,] -0.2268408\n",
       "[2,] -0.6013762\n",
       "[3,] -0.7660874"
      ]
     },
     "execution_count": 129,
     "metadata": {},
     "output_type": "execute_result"
    }
   ],
   "source": [
    "# let's check whether these really are eigenvectors!\n",
    "ev1 <- decomp$vectors[,1];  # the first column of the eigenvector matrix: an eigenvector\n",
    "ev1\n",
    "A %*% ev1 / decomp$values[1]  # this should give us back the first eigenvector"
   ]
  },
  {
   "cell_type": "code",
   "execution_count": 130,
   "metadata": {
    "collapsed": false
   },
   "outputs": [
    {
     "data": {
      "text/html": [
       "<table>\n",
       "<tbody>\n",
       "\t<tr><td>1</td><td>1</td><td>0</td></tr>\n",
       "\t<tr><td>1</td><td>2</td><td>1</td></tr>\n",
       "\t<tr><td>1</td><td>3</td><td>1</td></tr>\n",
       "</tbody>\n",
       "</table>\n"
      ],
      "text/latex": [
       "\\begin{tabular}{lll}\n",
       "\t 1 & 1 & 0\\\\\n",
       "\t 1 & 2 & 1\\\\\n",
       "\t 1 & 3 & 1\\\\\n",
       "\\end{tabular}\n"
      ],
      "text/markdown": [
       "1. 1\n",
       "2. 1\n",
       "3. 1\n",
       "4. 1\n",
       "5. 2\n",
       "6. 3\n",
       "7. 0\n",
       "8. 1\n",
       "9. 1\n",
       "\n",
       "\n"
      ],
      "text/plain": [
       "     [,1] [,2] [,3]\n",
       "[1,]    1    1    0\n",
       "[2,]    1    2    1\n",
       "[3,]    1    3    1"
      ]
     },
     "execution_count": 130,
     "metadata": {},
     "output_type": "execute_result"
    },
    {
     "data": {
      "text/html": [
       "<table>\n",
       "<tbody>\n",
       "\t<tr><td> 1.000000e+00</td><td> 1.000000e+00</td><td>-5.551115e-16</td></tr>\n",
       "\t<tr><td>1</td><td>2</td><td>1</td></tr>\n",
       "\t<tr><td>1</td><td>3</td><td>1</td></tr>\n",
       "</tbody>\n",
       "</table>\n"
      ],
      "text/latex": [
       "\\begin{tabular}{lll}\n",
       "\t  1.000000e+00 &  1.000000e+00 & -5.551115e-16\\\\\n",
       "\t 1 & 2 & 1\\\\\n",
       "\t 1 & 3 & 1\\\\\n",
       "\\end{tabular}\n"
      ],
      "text/markdown": [
       "1. 1\n",
       "2. 1\n",
       "3. 0.999999999999999\n",
       "4. 0.999999999999999\n",
       "5. 2\n",
       "6. 3\n",
       "7. -5.55111512312578e-16\n",
       "8. 0.999999999999999\n",
       "9. 0.999999999999999\n",
       "\n",
       "\n"
      ],
      "text/plain": [
       "     [,1] [,2]          [,3]\n",
       "[1,]    1    1 -5.551115e-16\n",
       "[2,]    1    2  1.000000e+00\n",
       "[3,]    1    3  1.000000e+00"
      ]
     },
     "execution_count": 130,
     "metadata": {},
     "output_type": "execute_result"
    }
   ],
   "source": [
    "# check that the eigen-decomposition of A actually holds\n",
    "A\n",
    "decomp$vectors %*% diag(decomp$values) %*% solve(decomp$vectors)"
   ]
  },
  {
   "cell_type": "code",
   "execution_count": 132,
   "metadata": {
    "collapsed": false
   },
   "outputs": [
    {
     "data": {
      "text/html": [
       "4"
      ],
      "text/latex": [
       "4"
      ],
      "text/markdown": [
       "4"
      ],
      "text/plain": [
       "[1] 4"
      ]
     },
     "execution_count": 132,
     "metadata": {},
     "output_type": "execute_result"
    },
    {
     "data": {
      "text/html": [
       "4"
      ],
      "text/latex": [
       "4"
      ],
      "text/markdown": [
       "4"
      ],
      "text/plain": [
       "[1] 4"
      ]
     },
     "execution_count": 132,
     "metadata": {},
     "output_type": "execute_result"
    }
   ],
   "source": [
    "# check that the sum of the eigenvalues is the trace\n",
    "sum(diag(A))\n",
    "sum(decomp$values)"
   ]
  },
  {
   "cell_type": "code",
   "execution_count": 133,
   "metadata": {
    "collapsed": false
   },
   "outputs": [
    {
     "data": {
      "text/html": [
       "-1"
      ],
      "text/latex": [
       "-1"
      ],
      "text/markdown": [
       "-1"
      ],
      "text/plain": [
       "[1] -1"
      ]
     },
     "execution_count": 133,
     "metadata": {},
     "output_type": "execute_result"
    },
    {
     "data": {
      "text/html": [
       "-1"
      ],
      "text/latex": [
       "-1"
      ],
      "text/markdown": [
       "-1"
      ],
      "text/plain": [
       "[1] -1"
      ]
     },
     "execution_count": 133,
     "metadata": {},
     "output_type": "execute_result"
    }
   ],
   "source": [
    "# check that the product of the eigenvalues is the determinant\n",
    "det(A)\n",
    "prod(decomp$values)"
   ]
  },
  {
   "cell_type": "code",
   "execution_count": 121,
   "metadata": {
    "collapsed": false
   },
   "outputs": [
    {
     "data": {
      "text/html": [
       "<table>\n",
       "<tbody>\n",
       "\t<tr><td> 1</td><td> 1</td><td>-1</td></tr>\n",
       "\t<tr><td> 1.026956e-15</td><td>-1.000000e+00</td><td> 1.000000e+00</td></tr>\n",
       "\t<tr><td>-1</td><td> 2</td><td>-1</td></tr>\n",
       "</tbody>\n",
       "</table>\n"
      ],
      "text/latex": [
       "\\begin{tabular}{lll}\n",
       "\t  1 &  1 & -1\\\\\n",
       "\t  1.026956e-15 & -1.000000e+00 &  1.000000e+00\\\\\n",
       "\t -1 &  2 & -1\\\\\n",
       "\\end{tabular}\n"
      ],
      "text/markdown": [
       "1. 0.999999999999998\n",
       "2. 1.02695629777827e-15\n",
       "3. -1\n",
       "4. 0.999999999999999\n",
       "5. -1\n",
       "6. 2\n",
       "7. -0.999999999999999\n",
       "8. 1\n",
       "9. -1\n",
       "\n",
       "\n"
      ],
      "text/plain": [
       "              [,1] [,2] [,3]\n",
       "[1,]  1.000000e+00    1   -1\n",
       "[2,]  1.026956e-15   -1    1\n",
       "[3,] -1.000000e+00    2   -1"
      ]
     },
     "execution_count": 121,
     "metadata": {},
     "output_type": "execute_result"
    },
    {
     "data": {
      "text/html": [
       "<table>\n",
       "<tbody>\n",
       "\t<tr><td> 1.000000e+00</td><td>-6.661338e-16</td><td> 1.221245e-15</td></tr>\n",
       "\t<tr><td>-1.110223e-16</td><td> 1.000000e+00</td><td>-4.440892e-16</td></tr>\n",
       "\t<tr><td>8.881784e-16</td><td>1.110223e-15</td><td>1.000000e+00</td></tr>\n",
       "</tbody>\n",
       "</table>\n"
      ],
      "text/latex": [
       "\\begin{tabular}{lll}\n",
       "\t  1.000000e+00 & -6.661338e-16 &  1.221245e-15\\\\\n",
       "\t -1.110223e-16 &  1.000000e+00 & -4.440892e-16\\\\\n",
       "\t 8.881784e-16 & 1.110223e-15 & 1.000000e+00\\\\\n",
       "\\end{tabular}\n"
      ],
      "text/markdown": [
       "1. 0.999999999999999\n",
       "2. -1.11022302462516e-16\n",
       "3. 8.88178419700125e-16\n",
       "4. -6.66133814775094e-16\n",
       "5. 1\n",
       "6. 1.11022302462516e-15\n",
       "7. 1.22124532708767e-15\n",
       "8. -4.44089209850063e-16\n",
       "9. 0.999999999999999\n",
       "\n",
       "\n"
      ],
      "text/plain": [
       "              [,1]          [,2]          [,3]\n",
       "[1,]  1.000000e+00 -6.661338e-16  1.221245e-15\n",
       "[2,] -1.110223e-16  1.000000e+00 -4.440892e-16\n",
       "[3,]  8.881784e-16  1.110223e-15  1.000000e+00"
      ]
     },
     "execution_count": 121,
     "metadata": {},
     "output_type": "execute_result"
    }
   ],
   "source": [
    "# check whether we can invert A using its eigen-decomposition\n",
    "Ainv <- decomp$vectors %*% diag(1/decomp$values) %*% solve(decomp$vectors);\n",
    "Ainv\n",
    "A %*% Ainv  # this should be the identity matrix"
   ]
  },
  {
   "cell_type": "code",
   "execution_count": 122,
   "metadata": {
    "collapsed": false
   },
   "outputs": [
    {
     "data": {
      "text/html": [
       "<table>\n",
       "<tbody>\n",
       "\t<tr><td>3</td><td>6</td><td>2</td></tr>\n",
       "\t<tr><td> 6</td><td>14</td><td> 5</td></tr>\n",
       "\t<tr><td>2</td><td>5</td><td>2</td></tr>\n",
       "</tbody>\n",
       "</table>\n"
      ],
      "text/latex": [
       "\\begin{tabular}{lll}\n",
       "\t 3 & 6 & 2\\\\\n",
       "\t  6 & 14 &  5\\\\\n",
       "\t 2 & 5 & 2\\\\\n",
       "\\end{tabular}\n"
      ],
      "text/markdown": [
       "1. 3\n",
       "2. 6\n",
       "3. 2\n",
       "4. 6\n",
       "5. 14\n",
       "6. 5\n",
       "7. 2\n",
       "8. 5\n",
       "9. 2\n",
       "\n",
       "\n"
      ],
      "text/plain": [
       "     [,1] [,2] [,3]\n",
       "[1,]    3    6    2\n",
       "[2,]    6   14    5\n",
       "[3,]    2    5    2"
      ]
     },
     "execution_count": 122,
     "metadata": {},
     "output_type": "execute_result"
    },
    {
     "data": {
      "text/html": [
       "<ol class=list-inline>\n",
       "\t<li>18.4052979838975</li>\n",
       "\t<li>0.481973433502735</li>\n",
       "\t<li>0.11272858259973</li>\n",
       "</ol>\n"
      ],
      "text/latex": [
       "\\begin{enumerate*}\n",
       "\\item 18.4052979838975\n",
       "\\item 0.481973433502735\n",
       "\\item 0.11272858259973\n",
       "\\end{enumerate*}\n"
      ],
      "text/markdown": [
       "1. 18.4052979838975\n",
       "2. 0.481973433502735\n",
       "3. 0.11272858259973\n",
       "\n",
       "\n"
      ],
      "text/plain": [
       "[1] 18.4052980  0.4819734  0.1127286"
      ]
     },
     "execution_count": 122,
     "metadata": {},
     "output_type": "execute_result"
    },
    {
     "data": {
      "text/html": [
       "<table>\n",
       "<tbody>\n",
       "\t<tr><td> 1.000000e+00</td><td>-1.110223e-16</td><td>-1.665335e-16</td></tr>\n",
       "\t<tr><td>-1.110223e-16</td><td> 1.000000e+00</td><td>-5.551115e-17</td></tr>\n",
       "\t<tr><td>-1.387779e-16</td><td>-5.551115e-17</td><td> 1.000000e+00</td></tr>\n",
       "</tbody>\n",
       "</table>\n"
      ],
      "text/latex": [
       "\\begin{tabular}{lll}\n",
       "\t  1.000000e+00 & -1.110223e-16 & -1.665335e-16\\\\\n",
       "\t -1.110223e-16 &  1.000000e+00 & -5.551115e-17\\\\\n",
       "\t -1.387779e-16 & -5.551115e-17 &  1.000000e+00\\\\\n",
       "\\end{tabular}\n"
      ],
      "text/markdown": [
       "1. 1\n",
       "2. -1.11022302462516e-16\n",
       "3. -1.38777878078145e-16\n",
       "4. -1.11022302462516e-16\n",
       "5. 1\n",
       "6. -5.55111512312578e-17\n",
       "7. -1.66533453693773e-16\n",
       "8. -5.55111512312578e-17\n",
       "9. 1\n",
       "\n",
       "\n"
      ],
      "text/plain": [
       "              [,1]          [,2]          [,3]\n",
       "[1,]  1.000000e+00 -1.110223e-16 -1.665335e-16\n",
       "[2,] -1.110223e-16  1.000000e+00 -5.551115e-17\n",
       "[3,] -1.387779e-16 -5.551115e-17  1.000000e+00"
      ]
     },
     "execution_count": 122,
     "metadata": {},
     "output_type": "execute_result"
    }
   ],
   "source": [
    "# Now let's try it with a positive-definite matrix. We can make a positive definite matrix from a nonsingular matrix\n",
    "Apd <- t(A) %*% A;\n",
    "Apd\n",
    "decomp <- eigen(Apd);\n",
    "decomp$values  # the eigenvalues should be non-negative\n",
    "decomp$vectors %*% t(decomp$vectors) # and the matrix of eigenvectors should be orthogonal"
   ]
  },
  {
   "cell_type": "code",
   "execution_count": 123,
   "metadata": {
    "collapsed": false
   },
   "outputs": [
    {
     "data": {
      "text/html": [
       "<table>\n",
       "<tbody>\n",
       "\t<tr><td>1.148516</td><td>1.259494</td><td>0.307545</td></tr>\n",
       "\t<tr><td>1.259494</td><td>3.345303</td><td>1.105722</td></tr>\n",
       "\t<tr><td>0.3075450</td><td>1.1057220</td><td>0.8263141</td></tr>\n",
       "</tbody>\n",
       "</table>\n"
      ],
      "text/latex": [
       "\\begin{tabular}{lll}\n",
       "\t 1.148516 & 1.259494 & 0.307545\\\\\n",
       "\t 1.259494 & 3.345303 & 1.105722\\\\\n",
       "\t 0.3075450 & 1.1057220 & 0.8263141\\\\\n",
       "\\end{tabular}\n"
      ],
      "text/markdown": [
       "1. 1.14851630310121\n",
       "2. 1.25949448307611\n",
       "3. 0.307545035094985\n",
       "4. 1.25949448307611\n",
       "5. 3.34530306281036\n",
       "6. 1.10572196552862\n",
       "7. 0.307545035094985\n",
       "8. 1.10572196552862\n",
       "9. 0.826314096658137\n",
       "\n",
       "\n"
      ],
      "text/plain": [
       "         [,1]     [,2]      [,3]\n",
       "[1,] 1.148516 1.259494 0.3075450\n",
       "[2,] 1.259494 3.345303 1.1057220\n",
       "[3,] 0.307545 1.105722 0.8263141"
      ]
     },
     "execution_count": 123,
     "metadata": {},
     "output_type": "execute_result"
    },
    {
     "data": {
      "text/html": [
       "<table>\n",
       "<tbody>\n",
       "\t<tr><td>3</td><td>6</td><td>2</td></tr>\n",
       "\t<tr><td> 6</td><td>14</td><td> 5</td></tr>\n",
       "\t<tr><td>2</td><td>5</td><td>2</td></tr>\n",
       "</tbody>\n",
       "</table>\n"
      ],
      "text/latex": [
       "\\begin{tabular}{lll}\n",
       "\t 3 & 6 & 2\\\\\n",
       "\t  6 & 14 &  5\\\\\n",
       "\t 2 & 5 & 2\\\\\n",
       "\\end{tabular}\n"
      ],
      "text/markdown": [
       "1. 3\n",
       "2. 6\n",
       "3. 2\n",
       "4. 6\n",
       "5. 14\n",
       "6. 5\n",
       "7. 2\n",
       "8. 5\n",
       "9. 2\n",
       "\n",
       "\n"
      ],
      "text/plain": [
       "     [,1] [,2] [,3]\n",
       "[1,]    3    6    2\n",
       "[2,]    6   14    5\n",
       "[3,]    2    5    2"
      ]
     },
     "execution_count": 123,
     "metadata": {},
     "output_type": "execute_result"
    }
   ],
   "source": [
    "# lets make the matrix square root of Apd\n",
    "ApdHalf <- decomp$vectors %*% diag(sqrt(decomp$values)) %*% t(decomp$vectors);\n",
    "ApdHalf\n",
    "ApdHalf %*% ApdHalf"
   ]
  },
  {
   "cell_type": "code",
   "execution_count": 124,
   "metadata": {
    "collapsed": false
   },
   "outputs": [
    {
     "ename": "ERROR",
     "evalue": "Error in eval(expr, envir, enclos): could not find function \"sqrtm\"\n",
     "output_type": "error",
     "traceback": [
      "Error in eval(expr, envir, enclos): could not find function \"sqrtm\"\n"
     ]
    }
   ],
   "source": [
    "# R has a matrix square root function\n",
    "sqrtm(Apd)"
   ]
  },
  {
   "cell_type": "markdown",
   "metadata": {},
   "source": [
    "## Solving Linear Systems\n",
    "\n",
    "We will often need to solve linear equations of the form $Ax = b$, where $A \\in {\\mathcal M}(m,n)$ and\n",
    "$b \\in {\\mathcal M}(1,m)$ are known, and $x \\in {\\mathcal M}(n,1)$ is the unknown vector we seek.\n",
    "\n",
    "If the rows of $A$ are linearly independent and $n \\ge m$, there is at least one solution.\n",
    "If $n < m$, there may be no solution.\n",
    "\n",
    "For the moment, suppose $A$ is an invertible square matrix with dimension $n$.\n",
    "Then, formally, we can find $x$ by multiplying both sides by the inverse of $A$:\n",
    "\n",
    "$$\n",
    "  A^{-1} A x = A^{-1} b.\n",
    "$$\n",
    "Since $A^{-1}A = {\\mathbf 1}_n$, this becomes\n",
    "$$\n",
    "  {\\mathbf 1}_n x = x = A^{-1} b.\n",
    "$$\n",
    "\n",
    "However, this is not a good way to find $x$: it is unnecessarily numerically unstable (ill conditioned) compared\n",
    "with other ways of solving the linear system.\n",
    "\n",
    "Better methods include matrix factorizations or decompositions (LU, QR, Cholesky), Gaussian elimination, etc.\n",
    "We won't study those methods in detail, but will present Gaussian elimination briefly.\n",
    "\n",
    "__Gaussian elimination.__ \n",
    "Gaussian elimination is a method that can be used to find the rank of a matrix and to solve a linear system.\n",
    "Gaussian elimination involves three operations:\n",
    "\n",
    "+ swap two rows\n",
    "+ multiply a row by a nonzero scalar \n",
    "+ add a scalar times one row to another row\n",
    "\n",
    "All of those operations preserves the linear system:\n",
    "a vector $x$ solves the original system if and only if it solves the transformed system.\n",
    "\n",
    "The goal of Gaussian elimination is to use those operations to transform \n",
    "$A$ into _upper triangular form_, in which all elements \"below\" the diagonal are zero.\n",
    "More specifically, it transforms to _row eschelon form_, in which the first non-zero element of each row is\n",
    "to the right of the first non-zero element of the row above it.\n",
    "It is trivial to solve a linear system (using _back substitution_)\n",
    "once it is in upper-triangular form, as we shall see.\n",
    "\n",
    "Here's an illustration.  Let\n",
    "$$\n",
    "A = \\begin{pmatrix} \n",
    "2 & 4 & 4 \\\\\n",
    "6 & 1 & 5 \\\\\n",
    "3 & 4 & 3\n",
    "\\end{pmatrix}\n",
    "$$\n",
    "and\n",
    "$$\n",
    "b = \n",
    "\\begin{pmatrix} \n",
    "2 \\\\\n",
    "1 \\\\\n",
    "1\n",
    "\\end{pmatrix}.\n",
    "$$\n",
    "\n",
    "We start by forming the \"augmented\" matrix that consists of appending $b$ as an additional column of $A$:\n",
    "$$\n",
    "\\begin{pmatrix} \n",
    "2 & 4 & 4 & 2\\\\\n",
    "6 & 1 & 5 & 1\\\\\n",
    "3 & 4 & 3 & 1\n",
    "\\end{pmatrix}\n",
    "$$\n",
    "Divide the first row by 2\n",
    "$$\n",
    "\\begin{pmatrix} \n",
    "1 & 2 & 2 & 1\\\\\n",
    "6 & 1 & 5 & 1\\\\\n",
    "3 & 4 & 3 & 1\n",
    "\\end{pmatrix}.\n",
    "$$\n",
    "Subtract 6 times the first row from the second row:\n",
    "$$\n",
    "\\begin{pmatrix} \n",
    "1 & 2   & 2  &  1\\\\\n",
    "0 & -11 & -7 & -5\\\\\n",
    "3 & 4 & 3 & 1\n",
    "\\end{pmatrix}.\n",
    "$$\n",
    "Subtract three times the first row from the third row:\n",
    "$$\n",
    "\\begin{pmatrix} \n",
    "1 & 2   & 2  &  1\\\\\n",
    "0 & -11 & -7 & -5\\\\\n",
    "0 & -2 & -3 & -2\n",
    "\\end{pmatrix}.\n",
    "$$\n",
    "Multiply the second and third rows by -1 and swap them:\n",
    "$$\n",
    "\\begin{pmatrix} \n",
    "1 & 2   & 2  &  1\\\\\n",
    "0 & 2 & 3 &  2  \\\\\n",
    "0 & 11 & 7 & 5\n",
    "\\end{pmatrix}.\n",
    "$$\n",
    "Divide the second row by 2:\n",
    "$$\n",
    "\\begin{pmatrix} \n",
    "1 & 2 & 2   &  1\\\\\n",
    "0 & 1 & 1.5 &  1  \\\\\n",
    "0 & 11 & 7 & 5\n",
    "\\end{pmatrix}.\n",
    "$$\n",
    "Subtract 11 times the second row from the third row:\n",
    "$$\n",
    "\\begin{pmatrix} \n",
    "1 & 2 & 2   &  1\\\\\n",
    "0 & 1 & 1.5 &  1  \\\\\n",
    "0 & 0 & -9.5 & -6\n",
    "\\end{pmatrix}.\n",
    "$$\n",
    "Multiply the last row by -1/9.5:\n",
    "$$\n",
    "\\begin{pmatrix} \n",
    "1 & 2 & 2   &  1\\\\\n",
    "0 & 1 & 1.5 &  1  \\\\\n",
    "0 & 0 & 1  & 0.63158\n",
    "\\end{pmatrix}.\n",
    "$$\n",
    "We now use _back substitution_ to find $x$: \n",
    "\n",
    "+ $x_3 = 0.63158$.\n",
    "+ $x_2 + 1.5\\times 0.63158 = 1$, so $x_2 = 0.05263$.\n",
    "+ $x_1 + 2\\times 0.05263 + 2\\times0.63158 = 1$, so $x_1 = -0.36842$.\n",
    "\n",
    "This gives \n",
    "$$\n",
    "x = \\begin{pmatrix}\n",
    "-0.36842 \\\\\n",
    " 0.05263 \\\\\n",
    " 0.63158\n",
    "\\end{pmatrix}\n",
    ".\n",
    "$$\n",
    "Multiplying by $A$ gives \n",
    "$$\n",
    "Ax = \\begin{pmatrix} \n",
    "2 & 3 & 4 \\\\\n",
    "6 & 1 & 5 \\\\\n",
    "3 & 4 & 3\n",
    "\\end{pmatrix}\n",
    "\\begin{pmatrix}\n",
    "-0.36842 \\\\\n",
    " 0.05263 \\\\\n",
    " 0.63158\n",
    "\\end{pmatrix}\n",
    "=\n",
    "\\begin{pmatrix}\n",
    "2 \\\\\n",
    "1.00001 \\\\\n",
    "1\n",
    "\\end{pmatrix}\n",
    ".\n",
    "$$"
   ]
  },
  {
   "cell_type": "code",
   "execution_count": 125,
   "metadata": {
    "collapsed": false
   },
   "outputs": [
    {
     "data": {
      "text/html": [
       "<table>\n",
       "<tbody>\n",
       "\t<tr><td>2</td><td>4</td><td>4</td></tr>\n",
       "\t<tr><td>6</td><td>1</td><td>5</td></tr>\n",
       "\t<tr><td>3</td><td>4</td><td>3</td></tr>\n",
       "</tbody>\n",
       "</table>\n"
      ],
      "text/latex": [
       "\\begin{tabular}{lll}\n",
       "\t 2 & 4 & 4\\\\\n",
       "\t 6 & 1 & 5\\\\\n",
       "\t 3 & 4 & 3\\\\\n",
       "\\end{tabular}\n"
      ],
      "text/markdown": [
       "1. 2\n",
       "2. 6\n",
       "3. 3\n",
       "4. 4\n",
       "5. 1\n",
       "6. 4\n",
       "7. 4\n",
       "8. 5\n",
       "9. 3\n",
       "\n",
       "\n"
      ],
      "text/plain": [
       "     [,1] [,2] [,3]\n",
       "[1,]    2    4    4\n",
       "[2,]    6    1    5\n",
       "[3,]    3    4    3"
      ]
     },
     "execution_count": 125,
     "metadata": {},
     "output_type": "execute_result"
    },
    {
     "data": {
      "text/html": [
       "<ol class=list-inline>\n",
       "\t<li>2</li>\n",
       "\t<li>1</li>\n",
       "\t<li>1</li>\n",
       "</ol>\n"
      ],
      "text/latex": [
       "\\begin{enumerate*}\n",
       "\\item 2\n",
       "\\item 1\n",
       "\\item 1\n",
       "\\end{enumerate*}\n"
      ],
      "text/markdown": [
       "1. 2\n",
       "2. 1\n",
       "3. 1\n",
       "\n",
       "\n"
      ],
      "text/plain": [
       "[1] 2 1 1"
      ]
     },
     "execution_count": 125,
     "metadata": {},
     "output_type": "execute_result"
    },
    {
     "data": {
      "text/html": [
       "<ol class=list-inline>\n",
       "\t<li>-0.368421052631579</li>\n",
       "\t<li>0.0526315789473685</li>\n",
       "\t<li>0.631578947368421</li>\n",
       "</ol>\n"
      ],
      "text/latex": [
       "\\begin{enumerate*}\n",
       "\\item -0.368421052631579\n",
       "\\item 0.0526315789473685\n",
       "\\item 0.631578947368421\n",
       "\\end{enumerate*}\n"
      ],
      "text/markdown": [
       "1. -0.368421052631579\n",
       "2. 0.0526315789473685\n",
       "3. 0.631578947368421\n",
       "\n",
       "\n"
      ],
      "text/plain": [
       "[1] -0.36842105  0.05263158  0.63157895"
      ]
     },
     "execution_count": 125,
     "metadata": {},
     "output_type": "execute_result"
    }
   ],
   "source": [
    "# Let's try this in R\n",
    "A <- array(c(2,6,3,4,1,4,4,5,3), dim=c(3,3));\n",
    "A\n",
    "b <- c(2,1,1);\n",
    "b\n",
    "solve(A,b)"
   ]
  },
  {
   "cell_type": "markdown",
   "metadata": {},
   "source": [
    "### Gaussian elimination, continued.\n",
    "What happens if $A$ is rank deficient?\n",
    "\n",
    "Consider the matrix \n",
    "$$\n",
    "A = \\begin{pmatrix} \n",
    "2 & 4 & 4 \\\\\n",
    "6 & 1 & 5 \\\\\n",
    "10 & 9 & 13\n",
    "\\end{pmatrix}\n",
    ".\n",
    "$$\n",
    "Let's perform Gaussian elimination on it.\n",
    "Divide the first row by 2\n",
    "$$\n",
    "\\begin{pmatrix} \n",
    "1 & 2 & 2 \\\\\n",
    "6 & 1 & 5 \\\\\n",
    "10 & 9 & 13 \n",
    "\\end{pmatrix}.\n",
    "$$\n",
    "Subtract 6 times the first row from the second row:\n",
    "$$\n",
    "\\begin{pmatrix} \n",
    "1 & 2   & 2  \\\\\n",
    "0 & -11 & -7 \\\\\n",
    "10 & 9 & 13 \n",
    "\\end{pmatrix}.\n",
    "$$\n",
    "Subtract ten times the first row from the third row:\n",
    "$$\n",
    "\\begin{pmatrix} \n",
    "1 & 2   & 2  \\\\\n",
    "0 & -11 & -7\\\\ \n",
    "0 & -11 & -7 \n",
    "\\end{pmatrix}.\n",
    "$$\n",
    "Subtract the 2nd row from the third row:\n",
    "$$\n",
    "\\begin{pmatrix} \n",
    "1 & 2   & 2  \\\\\n",
    "0 & -11 & -7\\\\ \n",
    "0 & 0 & 0\n",
    "\\end{pmatrix}.\n",
    "$$\n",
    "The third row is now zero: there are only two nonzero rows once we transform to upper-triangular form.\n",
    "The rank of the matrix $A$ is therefore 2, not 3 (it is rank deficient).\n",
    "This matrix $A$ is not invertible."
   ]
  },
  {
   "cell_type": "code",
   "execution_count": 126,
   "metadata": {
    "collapsed": false
   },
   "outputs": [
    {
     "data": {
      "text/html": [
       "<ol class=list-inline>\n",
       "\t<li>0.447292422560367</li>\n",
       "\t<li>-0.089059994953181</li>\n",
       "\t<li>0.657784121457505</li>\n",
       "\t<li>0.41436728535724</li>\n",
       "\t<li>0.522814507565219</li>\n",
       "</ol>\n"
      ],
      "text/latex": [
       "\\begin{enumerate*}\n",
       "\\item 0.447292422560367\n",
       "\\item -0.089059994953181\n",
       "\\item 0.657784121457505\n",
       "\\item 0.41436728535724\n",
       "\\item 0.522814507565219\n",
       "\\end{enumerate*}\n"
      ],
      "text/markdown": [
       "1. 0.447292422560367\n",
       "2. -0.089059994953181\n",
       "3. 0.657784121457505\n",
       "4. 0.41436728535724\n",
       "5. 0.522814507565219\n",
       "\n",
       "\n"
      ],
      "text/plain": [
       "[1]  0.44729242 -0.08905999  0.65778412  0.41436729  0.52281451"
      ]
     },
     "execution_count": 126,
     "metadata": {},
     "output_type": "execute_result"
    },
    {
     "data": {
      "text/html": [
       "<table>\n",
       "<tbody>\n",
       "\t<tr><td>1</td></tr>\n",
       "\t<tr><td>1</td></tr>\n",
       "\t<tr><td>1</td></tr>\n",
       "\t<tr><td>1</td></tr>\n",
       "\t<tr><td>1</td></tr>\n",
       "</tbody>\n",
       "</table>\n"
      ],
      "text/latex": [
       "\\begin{tabular}{l}\n",
       "\t 1\\\\\n",
       "\t 1\\\\\n",
       "\t 1\\\\\n",
       "\t 1\\\\\n",
       "\t 1\\\\\n",
       "\\end{tabular}\n"
      ],
      "text/markdown": [
       "1. 1\n",
       "2. 1\n",
       "3. 1\n",
       "4. 1\n",
       "5. 1\n",
       "\n",
       "\n"
      ],
      "text/plain": [
       "     [,1]\n",
       "[1,]    1\n",
       "[2,]    1\n",
       "[3,]    1\n",
       "[4,]    1\n",
       "[5,]    1"
      ]
     },
     "execution_count": 126,
     "metadata": {},
     "output_type": "execute_result"
    }
   ],
   "source": [
    "# solve a linear system using R\n",
    "A <- array(runif(25), dim=c(5,5)) # 5 by 5 matrix with uniformly distributed elements\n",
    "b <- rep(1,5);\n",
    "x <- solve(A,b);\n",
    "x\n",
    "A %*% x   # check that x solves the linear system"
   ]
  },
  {
   "cell_type": "code",
   "execution_count": 127,
   "metadata": {
    "collapsed": false
   },
   "outputs": [
    {
     "data": {
      "text/html": [
       "<table>\n",
       "<tbody>\n",
       "\t<tr><td>-0.2611379</td><td>-1.1814099</td><td> 0.9290346</td><td> 0.3093838</td><td> 0.6514218</td></tr>\n",
       "\t<tr><td>-0.69852832</td><td> 0.75184020</td><td>-1.16106253</td><td> 1.04384873</td><td>-0.02515807</td></tr>\n",
       "\t<tr><td>-1.3288078</td><td> 0.3415801</td><td> 1.2135703</td><td>-1.3494607</td><td> 1.7809023</td></tr>\n",
       "\t<tr><td> 0.4657582</td><td> 0.6124584</td><td> 0.1410625</td><td> 0.2031134</td><td>-1.0080252</td></tr>\n",
       "\t<tr><td> 1.77600998</td><td>-0.20118665</td><td>-0.51749356</td><td>-0.02779224</td><td>-0.50672302</td></tr>\n",
       "</tbody>\n",
       "</table>\n"
      ],
      "text/latex": [
       "\\begin{tabular}{lllll}\n",
       "\t -0.2611379 & -1.1814099 &  0.9290346 &  0.3093838 &  0.6514218\\\\\n",
       "\t -0.69852832 &  0.75184020 & -1.16106253 &  1.04384873 & -0.02515807\\\\\n",
       "\t -1.3288078 &  0.3415801 &  1.2135703 & -1.3494607 &  1.7809023\\\\\n",
       "\t  0.4657582 &  0.6124584 &  0.1410625 &  0.2031134 & -1.0080252\\\\\n",
       "\t  1.77600998 & -0.20118665 & -0.51749356 & -0.02779224 & -0.50672302\\\\\n",
       "\\end{tabular}\n"
      ],
      "text/markdown": [
       "1. -0.261137929375212\n",
       "2. -0.698528324482637\n",
       "3. -1.32880780837129\n",
       "4. 0.465758191766203\n",
       "5. 1.77600997822543\n",
       "6. -1.18140989343867\n",
       "7. 0.751840204544136\n",
       "8. 0.341580053624254\n",
       "9. 0.612458388629249\n",
       "10. -0.201186653159791\n",
       "11. 0.929034594242783\n",
       "12. -1.16106253077927\n",
       "13. 1.21357028489755\n",
       "14. 0.141062501587241\n",
       "15. -0.517493557796686\n",
       "16. 0.309383827568741\n",
       "17. 1.04384872663791\n",
       "18. -1.34946072892666\n",
       "19. 0.203113386696068\n",
       "20. -0.0277922359808465\n",
       "21. 0.651421823562725\n",
       "22. -0.0251580708733204\n",
       "23. 1.78090232023365\n",
       "24. -1.00802518332152\n",
       "25. -0.50672302372289\n",
       "\n",
       "\n"
      ],
      "text/plain": [
       "           [,1]       [,2]       [,3]        [,4]        [,5]\n",
       "[1,] -0.2611379 -1.1814099  0.9290346  0.30938383  0.65142182\n",
       "[2,] -0.6985283  0.7518402 -1.1610625  1.04384873 -0.02515807\n",
       "[3,] -1.3288078  0.3415801  1.2135703 -1.34946073  1.78090232\n",
       "[4,]  0.4657582  0.6124584  0.1410625  0.20311339 -1.00802518\n",
       "[5,]  1.7760100 -0.2011867 -0.5174936 -0.02779224 -0.50672302"
      ]
     },
     "execution_count": 127,
     "metadata": {},
     "output_type": "execute_result"
    },
    {
     "data": {
      "text/html": [
       "<table>\n",
       "<tbody>\n",
       "\t<tr><td>0.4472924</td></tr>\n",
       "\t<tr><td>-0.08905999</td></tr>\n",
       "\t<tr><td>0.6577841</td></tr>\n",
       "\t<tr><td>0.4143673</td></tr>\n",
       "\t<tr><td>0.5228145</td></tr>\n",
       "</tbody>\n",
       "</table>\n"
      ],
      "text/latex": [
       "\\begin{tabular}{l}\n",
       "\t 0.4472924\\\\\n",
       "\t -0.08905999\\\\\n",
       "\t 0.6577841\\\\\n",
       "\t 0.4143673\\\\\n",
       "\t 0.5228145\\\\\n",
       "\\end{tabular}\n"
      ],
      "text/markdown": [
       "1. 0.447292422560367\n",
       "2. -0.0890599949531817\n",
       "3. 0.657784121457505\n",
       "4. 0.41436728535724\n",
       "5. 0.522814507565219\n",
       "\n",
       "\n"
      ],
      "text/plain": [
       "            [,1]\n",
       "[1,]  0.44729242\n",
       "[2,] -0.08905999\n",
       "[3,]  0.65778412\n",
       "[4,]  0.41436729\n",
       "[5,]  0.52281451"
      ]
     },
     "execution_count": 127,
     "metadata": {},
     "output_type": "execute_result"
    },
    {
     "data": {
      "text/html": [
       "<table>\n",
       "<tbody>\n",
       "\t<tr><td>1</td></tr>\n",
       "\t<tr><td>1</td></tr>\n",
       "\t<tr><td>1</td></tr>\n",
       "\t<tr><td>1</td></tr>\n",
       "\t<tr><td>1</td></tr>\n",
       "</tbody>\n",
       "</table>\n"
      ],
      "text/latex": [
       "\\begin{tabular}{l}\n",
       "\t 1\\\\\n",
       "\t 1\\\\\n",
       "\t 1\\\\\n",
       "\t 1\\\\\n",
       "\t 1\\\\\n",
       "\\end{tabular}\n"
      ],
      "text/markdown": [
       "1. 1\n",
       "2. 1\n",
       "3. 1\n",
       "4. 1\n",
       "5. 1\n",
       "\n",
       "\n"
      ],
      "text/plain": [
       "     [,1]\n",
       "[1,]    1\n",
       "[2,]    1\n",
       "[3,]    1\n",
       "[4,]    1\n",
       "[5,]    1"
      ]
     },
     "execution_count": 127,
     "metadata": {},
     "output_type": "execute_result"
    }
   ],
   "source": [
    "Ainv = solve(A);\n",
    "Ainv\n",
    "x <- Ainv %*% b;\n",
    "x\n",
    "A %*% x"
   ]
  },
  {
   "cell_type": "markdown",
   "metadata": {},
   "source": [
    "Next chapter: [Random Vectors and the Multivariate Normal Distribution](randVec.ipynb)"
   ]
  }
 ],
 "metadata": {
  "kernelspec": {
   "display_name": "R",
   "language": "",
   "name": "ir"
  },
  "language_info": {
   "codemirror_mode": "r",
   "file_extension": ".r",
   "mimetype": "text/x-r-source",
   "name": "R",
   "pygments_lexer": "r",
   "version": "3.1.3"
  }
 },
 "nbformat": 4,
 "nbformat_minor": 0
}
