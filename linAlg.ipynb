{
 "cells": [
  {
   "cell_type": "markdown",
   "metadata": {},
   "source": [
    "# Primer of Linear Algebra and Matrix Arithmetic"
   ]
  },
  {
   "cell_type": "markdown",
   "metadata": {},
   "source": [
    "## Notation\n",
    "\n",
    "${\\mathcal M}(m,n)$ will denote the set of $m$ by $n$ matrices.\n",
    "$A \\in {\\mathcal M}(m,n)$ has elements $A_{ij}$, $i \\in \\{1, \\ldots, m\\}$, $j \\in \\{1, \\ldots, n\\}$.\n",
    "\n",
    "It is convenient to write matrices as rectangular arrays, e.g.,\n",
    "\n",
    "$$\n",
    "A = (A_{ij}) = \\begin{pmatrix} A_{11} & A_{12} & \\cdots & A_{1n} \\\\\n",
    "A_{21} & A_{22} & \\cdots & A_{2n} \\\\\n",
    "\\vdots & \\vdots & \\ddots & \\vdots \\\\\n",
    "A_{m1} & A_{m2} & \\cdots & A_{mn} \n",
    "\\end{pmatrix}\n",
    ".\n",
    "$$\n",
    "\n",
    "The _transpose_ of a matrix interchanges the row and column indices of the original matrix.\n",
    "If $A \\in {\\mathcal M}(m,n)$ then the transpose of $A$, denoted $A'$ or $A^T$, is an element of\n",
    "${\\mathcal M}(m,n)$ (If $A$ is an $m$ by $n$ matrix then $A'$ is an $n$ by $m$ matrix).\n",
    "If $A$ has elements $A_{ij}$, then\n",
    "$A' = A^T$ has elements $A_{ij}^T = A_{ji}$.\n",
    "\n",
    "__Scalar multiplication.__\n",
    "If $\\alpha \\in \\Re$ and $A \\in {\\mathcal M}(m,n)$, the matrix $\\alpha A \\in {\\mathcal M}(m,n)$ has elements $\\alpha A_{ij}$, $i \\in \\{1, \\ldots, m\\}$, $j \\in \\{1, \\ldots, n\\}$.\n",
    "I.e.,\n",
    "\n",
    "$$\n",
    "\\alpha A = \\begin{pmatrix} \\alpha A_{11} & \\alpha A_{12} & \\cdots & \\alpha A_{1n} \\\\\n",
    "\\alpha A_{21} & \\alpha A_{22} & \\cdots & \\alpha A_{2n} \\\\\n",
    "\\vdots & \\vdots & \\ddots & \\vdots \\\\\n",
    "\\alpha A_{m1} & \\alpha A_{m2} & \\cdots & \\alpha A_{mn} \n",
    "\\end{pmatrix}\n",
    ".\n",
    "$$\n",
    "\n",
    "Let $-A = -1\\cdot A$ be the matrix with elements $(-A)_{ij} = -A_{ij}$:\n",
    "\n",
    "$$\n",
    "-A = \\begin{pmatrix} -A_{11} & -A_{12} & \\cdots & -A_{1n} \\\\\n",
    "-A_{21} & -A_{22} & \\cdots & -A_{2n} \\\\\n",
    "\\vdots & \\vdots & \\ddots & \\vdots \\\\\n",
    "-A_{m1} & -A_{m2} & \\cdots & -A_{mn} \n",
    "\\end{pmatrix}\n",
    ".\n",
    "$$\n",
    "\n",
    "__Matrix addition.__\n",
    "If $A, B \\in {\\mathcal M}(m,n)$, then the matrix $A+B \\in {\\mathcal M}(m,n)$ has elements $A_{ij}+B_{ij}$, $i \\in \\{1, \\ldots, m\\}$, $j \\in \\{1, \\ldots, n\\}$:\n",
    "\n",
    "$$\n",
    "A+B = \\begin{pmatrix} A_{11}+B_{11} & A_{12}+B_{12} & \\cdots & A_{1n}+B_{1n} \\\\\n",
    "A_{21}+B_{21} & A_{22}+B_{22} & \\cdots & A_{2n}+B_{2n} \\\\\n",
    "\\vdots & \\vdots & \\ddots & \\vdots \\\\\n",
    "A_{m1}+B_{m1} & A_{m2}+B_{m2} & \\cdots & A_{mn}+B_{mn} \n",
    "\\end{pmatrix}\n",
    ".\n",
    "$$\n",
    "\n",
    "Let $0_{mn} \\in {\\mathcal M}(m,n)$ denote the $m$ by $n$ matrix all of whose elements are zero; i.e., \n",
    "$(0_{mn})_{ij} = 0$, $i \\in \\{1, \\ldots, m\\}$, $j \\in \\{1, \\ldots, n\\}$:\n",
    "\n",
    "$$\n",
    "0_{mn} = \\begin{pmatrix} 0 & \\cdots & 0 \\\\ \\vdots & \\ddots & \\vdots \\\\ 0 & \\cdots & 0 \\end{pmatrix}\n",
    ".\n",
    "$$\n",
    "\n",
    "With these definitions, ${\\mathcal M}(m,n)$ is a linear vector space over the reals, with scalar identity element $1$ and vector identity element $0_{mn}$.\n",
    "\n",
    "__Transposition.__\n",
    "The _transpose_ of $A \\in {\\mathcal M}(m,n)$, $A^T = A' \\in {\\mathcal M}(n,m)$ has elements\n",
    "$(A')_{ij} = A_{ji}$, $i \\in \\{1, \\ldots, n\\}$, $j \\in \\{1, \\ldots, m\\}$:\n",
    "\n",
    "$$\n",
    "A' = \\begin{pmatrix} \\alpha A_{11} & \\alpha A_{21} & \\cdots & \\alpha A_{m1} \\\\\n",
    "\\alpha A_{12} & \\alpha A_{22} & \\cdots & \\alpha A_{m2} \\\\\n",
    "\\vdots & \\vdots & \\ddots & \\vdots \\\\\n",
    "\\alpha A_{1n} & \\alpha A_{2n} & \\cdots & \\alpha A_{mn} \n",
    "\\end{pmatrix}\n",
    ".\n",
    "$$\n",
    "\n",
    "If $A = A'$, then $A$ is _symmetric_.\n",
    "\n",
    "Let ${\\mathbf 1}_{n} \\in {\\mathcal M}(n,n)$ denote the $n$ by $n$ _identity_ matrix \n",
    "with elements $(1_{n})_{ij} = 1$, $i=j \\{1, \\ldots, n\\}$, and $(1_{n})_{ij} = 0$, $i \\ne j$:\n",
    "\n",
    "$$\n",
    "1_{n} = \\begin{pmatrix} \n",
    "1 & 0 &\\cdots & \\cdots & 0 \\\\ \n",
    "0 & 1  & 0 & \\cdots & 0 \\\\  \n",
    "\\vdots & \\vdots & \\ddots & \\ddots & 0\\\\\n",
    "0 & 0 & \\cdots & \\cdots & 1 \n",
    "\\end{pmatrix}\n",
    ".\n",
    "$$\n",
    "\n",
    "The identity matrix is an example of a _diagonal matrix_. A matrix $A$ is _diagonal_ if $A_{ij}=0$ \n",
    "whenever $i \\ne j$.\n",
    "\n",
    "__Matrix multiplication.__\n",
    "If $A \\in {\\mathcal M}(m,n)$ and $B \\in {\\mathcal M}(k,m)$, then $AB \\in {\\mathcal M}(k,n)$ is the matrix with\n",
    "elements $(AB)_{ij} = \\sum_{\\ell=1}^m A_{i \\ell}B_{\\ell j}$:\n",
    "\n",
    "$$\n",
    "AB = \\begin{pmatrix} \n",
    "\\sum_{\\ell=1}^m A_{1 \\ell}B_{\\ell 1} & \\sum_{\\ell=1}^m A_{1 \\ell}B_{\\ell 2} & \\cdots & \n",
    "\\sum_{\\ell=1}^m A_{1 \\ell}B_{\\ell k} \\\\\n",
    "\\sum_{\\ell=1}^m A_{2 \\ell}B_{\\ell 1} & \\sum_{\\ell=1}^m A_{2 \\ell}B_{\\ell 2} & \\cdots & \n",
    "\\sum_{\\ell=1}^m A_{2 \\ell}B_{\\ell k} \\\\\n",
    "\\vdots & \\vdots & \\ddots & \\vdots \\\\\n",
    "\\sum_{\\ell=1}^m A_{n \\ell}B_{\\ell 1} & \\sum_{\\ell=1}^m A_{n \\ell}B_{\\ell 2} & \\cdots & \n",
    "\\sum_{\\ell=1}^m A_{n \\ell}B_{\\ell k}\n",
    "\\end{pmatrix}\n",
    ".\n",
    "$$\n",
    "\n",
    "If $A \\in {\\mathcal M}(m,n)$, then  $A {\\mathbf 1}_{n} = {\\mathbf 1}_{m} A = A$.\n",
    "\n",
    "__Dot products and the Euclidean norm.__\n",
    "\n",
    "If $a, b \\in {\\mathcal M}(n,1)$ then the _dot product_ of $a$ and $b$ is\n",
    "$$a \\cdot b = a^Tb = a'b = a_{11}b_{11} + a_{21}b_{21} + \\cdots + a_{n1}b_{n1}.$$\n",
    "\n",
    "If $a \\cdot b = 0$, we say $a$ and $b$ are _orthogonal_, and we write $a \\perp b$.\n",
    "\n",
    "The _Euclidean norm_ or _2-norm_ of $a$ is\n",
    "$$ \\|a \\|_2 = \\|a \\| = |a| \\equiv \\sqrt{a \\cdot a}.$$\n",
    "\n",
    "For $1 \\le p < \\infty$, the _$p$-norm_ of $a$ is\n",
    "$$ \\|a \\|_p \\equiv \\left ( \\sum_{i=1}^n |a_{i1}|^p \\right )^{1/p}.$$\n",
    "\n",
    "The _infinity norm_ of $a$ is\n",
    "$$ \\|a \\|_\\infty \\equiv \\max_{i=1}^n | a_{i1}|.$$"
   ]
  },
  {
   "cell_type": "markdown",
   "metadata": {},
   "source": [
    "### Exercise\n",
    "\n",
    "1. Show that the dot product is an inner product (over the real numbers) on ${\\mathcal M}(n,1)$.\n",
    "2. Show that the 2-norm $ \\|a \\| \\equiv \\sqrt{a \\cdot a}$ is a norm on ${\\mathcal M}(n,1)$.\n",
    "3. Show that the 1-norm $\\|a\\|_1 \\equiv \\sum_{i=1}^n | a_{i1} |$ is a norm on ${\\mathcal M}(n,1)$.\n",
    "4. Show that $\\lim_{p \\rightarrow \\infty} \\|a\\|_p = \\|a\\|_\\infty$."
   ]
  },
  {
   "cell_type": "markdown",
   "metadata": {
    "collapsed": true
   },
   "source": [
    "## R interlude\n",
    "Let's look at all these entities and operations in R."
   ]
  },
  {
   "cell_type": "code",
   "execution_count": 47,
   "metadata": {
    "collapsed": false
   },
   "outputs": [
    {
     "name": "stdout",
     "output_type": "stream",
     "text": [
      "[1] \"A\"\n"
     ]
    },
    {
     "data": {
      "text/html": [
       "<table>\n",
       "<tbody>\n",
       "\t<tr><td>1</td><td>5</td><td>9</td></tr>\n",
       "\t<tr><td>2</td><td>6</td><td>10</td></tr>\n",
       "\t<tr><td>3</td><td>7</td><td>11</td></tr>\n",
       "\t<tr><td>4</td><td>8</td><td>12</td></tr>\n",
       "</tbody>\n",
       "</table>\n"
      ],
      "text/latex": [
       "\\begin{tabular}{lll}\n",
       "\t 1 & 5 & 9\\\\\n",
       "\t 2 & 6 & 10\\\\\n",
       "\t 3 & 7 & 11\\\\\n",
       "\t 4 & 8 & 12\\\\\n",
       "\\end{tabular}\n"
      ],
      "text/markdown": [
       "1. 1\n",
       "2. 2\n",
       "3. 3\n",
       "4. 4\n",
       "5. 5\n",
       "6. 6\n",
       "7. 7\n",
       "8. 8\n",
       "9. 9\n",
       "10. 10\n",
       "11. 11\n",
       "12. 12\n",
       "\n",
       "\n"
      ],
      "text/plain": [
       "     [,1] [,2] [,3]\n",
       "[1,]    1    5    9\n",
       "[2,]    2    6   10\n",
       "[3,]    3    7   11\n",
       "[4,]    4    8   12"
      ]
     },
     "execution_count": 47,
     "metadata": {},
     "output_type": "execute_result"
    },
    {
     "data": {
      "text/html": [
       "<table>\n",
       "<tbody>\n",
       "\t<tr><td>1</td><td>5</td><td>9</td></tr>\n",
       "\t<tr><td>2</td><td>6</td><td>10</td></tr>\n",
       "\t<tr><td>3</td><td>7</td><td>11</td></tr>\n",
       "\t<tr><td>4</td><td>8</td><td>12</td></tr>\n",
       "</tbody>\n",
       "</table>\n"
      ],
      "text/latex": [
       "\\begin{tabular}{lll}\n",
       "\t 1 & 5 & 9\\\\\n",
       "\t 2 & 6 & 10\\\\\n",
       "\t 3 & 7 & 11\\\\\n",
       "\t 4 & 8 & 12\\\\\n",
       "\\end{tabular}\n"
      ],
      "text/markdown": [
       "1. 1\n",
       "2. 2\n",
       "3. 3\n",
       "4. 4\n",
       "5. 5\n",
       "6. 6\n",
       "7. 7\n",
       "8. 8\n",
       "9. 9\n",
       "10. 10\n",
       "11. 11\n",
       "12. 12\n",
       "\n",
       "\n"
      ],
      "text/plain": [
       "     [,1] [,2] [,3]\n",
       "[1,]    1    5    9\n",
       "[2,]    2    6   10\n",
       "[3,]    3    7   11\n",
       "[4,]    4    8   12"
      ]
     },
     "execution_count": 47,
     "metadata": {},
     "output_type": "execute_result"
    },
    {
     "data": {
      "text/html": [
       "<table>\n",
       "<tbody>\n",
       "\t<tr><td>1</td><td>5</td><td>9</td></tr>\n",
       "\t<tr><td>2</td><td>6</td><td>10</td></tr>\n",
       "\t<tr><td>3</td><td>7</td><td>11</td></tr>\n",
       "\t<tr><td>4</td><td>8</td><td>12</td></tr>\n",
       "</tbody>\n",
       "</table>\n"
      ],
      "text/latex": [
       "\\begin{tabular}{lll}\n",
       "\t 1 & 5 & 9\\\\\n",
       "\t 2 & 6 & 10\\\\\n",
       "\t 3 & 7 & 11\\\\\n",
       "\t 4 & 8 & 12\\\\\n",
       "\\end{tabular}\n"
      ],
      "text/markdown": [
       "1. 1\n",
       "2. 2\n",
       "3. 3\n",
       "4. 4\n",
       "5. 5\n",
       "6. 6\n",
       "7. 7\n",
       "8. 8\n",
       "9. 9\n",
       "10. 10\n",
       "11. 11\n",
       "12. 12\n",
       "\n",
       "\n"
      ],
      "text/plain": [
       "     [,1] [,2] [,3]\n",
       "[1,]    1    5    9\n",
       "[2,]    2    6   10\n",
       "[3,]    3    7   11\n",
       "[4,]    4    8   12"
      ]
     },
     "execution_count": 47,
     "metadata": {},
     "output_type": "execute_result"
    },
    {
     "name": "stdout",
     "output_type": "stream",
     "text": [
      "[1] \"Transpose of A\"\n"
     ]
    },
    {
     "data": {
      "text/html": [
       "<table>\n",
       "<tbody>\n",
       "\t<tr><td>1</td><td>2</td><td>3</td><td>4</td></tr>\n",
       "\t<tr><td>5</td><td>6</td><td>7</td><td>8</td></tr>\n",
       "\t<tr><td>9</td><td>10</td><td>11</td><td>12</td></tr>\n",
       "</tbody>\n",
       "</table>\n"
      ],
      "text/latex": [
       "\\begin{tabular}{llll}\n",
       "\t 1 & 2 & 3 & 4\\\\\n",
       "\t 5 & 6 & 7 & 8\\\\\n",
       "\t 9 & 10 & 11 & 12\\\\\n",
       "\\end{tabular}\n"
      ],
      "text/markdown": [
       "1. 1\n",
       "2. 5\n",
       "3. 9\n",
       "4. 2\n",
       "5. 6\n",
       "6. 10\n",
       "7. 3\n",
       "8. 7\n",
       "9. 11\n",
       "10. 4\n",
       "11. 8\n",
       "12. 12\n",
       "\n",
       "\n"
      ],
      "text/plain": [
       "     [,1] [,2] [,3] [,4]\n",
       "[1,]    1    2    3    4\n",
       "[2,]    5    6    7    8\n",
       "[3,]    9   10   11   12"
      ]
     },
     "execution_count": 47,
     "metadata": {},
     "output_type": "execute_result"
    },
    {
     "name": "stdout",
     "output_type": "stream",
     "text": [
      "[1] \"new A\"\n"
     ]
    },
    {
     "data": {
      "text/html": [
       "<table>\n",
       "<tbody>\n",
       "\t<tr><td>1</td><td>2</td><td>3</td><td>4</td></tr>\n",
       "\t<tr><td>5</td><td>6</td><td>7</td><td>8</td></tr>\n",
       "\t<tr><td>9</td><td>10</td><td>11</td><td>12</td></tr>\n",
       "</tbody>\n",
       "</table>\n"
      ],
      "text/latex": [
       "\\begin{tabular}{llll}\n",
       "\t 1 & 2 & 3 & 4\\\\\n",
       "\t 5 & 6 & 7 & 8\\\\\n",
       "\t 9 & 10 & 11 & 12\\\\\n",
       "\\end{tabular}\n"
      ],
      "text/markdown": [
       "1. 1\n",
       "2. 5\n",
       "3. 9\n",
       "4. 2\n",
       "5. 6\n",
       "6. 10\n",
       "7. 3\n",
       "8. 7\n",
       "9. 11\n",
       "10. 4\n",
       "11. 8\n",
       "12. 12\n",
       "\n",
       "\n"
      ],
      "text/plain": [
       "     [,1] [,2] [,3] [,4]\n",
       "[1,]    1    2    3    4\n",
       "[2,]    5    6    7    8\n",
       "[3,]    9   10   11   12"
      ]
     },
     "execution_count": 47,
     "metadata": {},
     "output_type": "execute_result"
    },
    {
     "data": {
      "text/html": [
       "<table>\n",
       "<tbody>\n",
       "\t<tr><td>1</td><td>2</td><td>3</td><td>4</td></tr>\n",
       "\t<tr><td>5</td><td>6</td><td>7</td><td>8</td></tr>\n",
       "\t<tr><td>9</td><td>10</td><td>11</td><td>12</td></tr>\n",
       "</tbody>\n",
       "</table>\n"
      ],
      "text/latex": [
       "\\begin{tabular}{llll}\n",
       "\t 1 & 2 & 3 & 4\\\\\n",
       "\t 5 & 6 & 7 & 8\\\\\n",
       "\t 9 & 10 & 11 & 12\\\\\n",
       "\\end{tabular}\n"
      ],
      "text/markdown": [
       "1. 1\n",
       "2. 5\n",
       "3. 9\n",
       "4. 2\n",
       "5. 6\n",
       "6. 10\n",
       "7. 3\n",
       "8. 7\n",
       "9. 11\n",
       "10. 4\n",
       "11. 8\n",
       "12. 12\n",
       "\n",
       "\n"
      ],
      "text/plain": [
       "     [,1] [,2] [,3] [,4]\n",
       "[1,]    1    2    3    4\n",
       "[2,]    5    6    7    8\n",
       "[3,]    9   10   11   12"
      ]
     },
     "execution_count": 47,
     "metadata": {},
     "output_type": "execute_result"
    }
   ],
   "source": [
    "# Create a matrix\n",
    "A <- 1:12;  # A is a 1-dimensional array of the integers 1-12\n",
    "dim(A) <- c(4,3);  # Change the dimension of A to be 4 by 3\n",
    "print(\"A\")\n",
    "A  # the matrix A, which is 4 by 3\n",
    "# Another way to do the same thing\n",
    "A <- matrix( \n",
    "+   c(1, 2, 3, 4, 5, 6, 7, 8, 9, 10, 11, 12), # data\n",
    "    nrow=4,              # number of rows \n",
    "    ncol=3,              # number of columns \n",
    "    byrow = FALSE) ;     # read the data by column\n",
    "A\n",
    "# Another way\n",
    "A <- matrix( \n",
    "    seq(1,12), # data\n",
    "    nrow=4,              # number of rows \n",
    "    ncol=3,              # number of columns \n",
    "    byrow = FALSE) ;     # read the data by column\n",
    "A\n",
    "# Transpose A\n",
    "print(\"Transpose of A\")\n",
    "t(A) # the transpose of A, which is 3 by 4\n",
    "A <- t(A);  # overwrite A with its transpose: A is now a 3 by 4 array\n",
    "A\n",
    "# Another way to make this matrix\n",
    "A <- matrix( \n",
    "    seq(1,12), # data\n",
    "    nrow=3,              # number of rows \n",
    "    ncol=4,              # number of columns \n",
    "    byrow = TRUE) ;      # read the data by row\n",
    "A"
   ]
  },
  {
   "cell_type": "code",
   "execution_count": 48,
   "metadata": {
    "collapsed": false
   },
   "outputs": [
    {
     "data": {
      "text/html": [
       "<table>\n",
       "<tbody>\n",
       "\t<tr><td>1</td><td>2</td><td>3</td><td>4</td></tr>\n",
       "\t<tr><td>5</td><td>6</td><td>7</td><td>8</td></tr>\n",
       "\t<tr><td>9</td><td>10</td><td>11</td><td>12</td></tr>\n",
       "</tbody>\n",
       "</table>\n"
      ],
      "text/latex": [
       "\\begin{tabular}{llll}\n",
       "\t 1 & 2 & 3 & 4\\\\\n",
       "\t 5 & 6 & 7 & 8\\\\\n",
       "\t 9 & 10 & 11 & 12\\\\\n",
       "\\end{tabular}\n"
      ],
      "text/markdown": [
       "1. 1\n",
       "2. 5\n",
       "3. 9\n",
       "4. 2\n",
       "5. 6\n",
       "6. 10\n",
       "7. 3\n",
       "8. 7\n",
       "9. 11\n",
       "10. 4\n",
       "11. 8\n",
       "12. 12\n",
       "\n",
       "\n"
      ],
      "text/plain": [
       "     [,1] [,2] [,3] [,4]\n",
       "[1,]    1    2    3    4\n",
       "[2,]    5    6    7    8\n",
       "[3,]    9   10   11   12"
      ]
     },
     "execution_count": 48,
     "metadata": {},
     "output_type": "execute_result"
    },
    {
     "data": {
      "text/html": [
       "<table>\n",
       "<tbody>\n",
       "\t<tr><td>3</td><td>6</td><td>9</td><td>12</td></tr>\n",
       "\t<tr><td>15</td><td>18</td><td>21</td><td>24</td></tr>\n",
       "\t<tr><td>27</td><td>30</td><td>33</td><td>36</td></tr>\n",
       "</tbody>\n",
       "</table>\n"
      ],
      "text/latex": [
       "\\begin{tabular}{llll}\n",
       "\t 3 & 6 & 9 & 12\\\\\n",
       "\t 15 & 18 & 21 & 24\\\\\n",
       "\t 27 & 30 & 33 & 36\\\\\n",
       "\\end{tabular}\n"
      ],
      "text/markdown": [
       "1. 3\n",
       "2. 15\n",
       "3. 27\n",
       "4. 6\n",
       "5. 18\n",
       "6. 30\n",
       "7. 9\n",
       "8. 21\n",
       "9. 33\n",
       "10. 12\n",
       "11. 24\n",
       "12. 36\n",
       "\n",
       "\n"
      ],
      "text/plain": [
       "     [,1] [,2] [,3] [,4]\n",
       "[1,]    3    6    9   12\n",
       "[2,]   15   18   21   24\n",
       "[3,]   27   30   33   36"
      ]
     },
     "execution_count": 48,
     "metadata": {},
     "output_type": "execute_result"
    }
   ],
   "source": [
    "# Scalar multiplication\n",
    "alpha <- 3;\n",
    "A\n",
    "alpha*A"
   ]
  },
  {
   "cell_type": "code",
   "execution_count": 49,
   "metadata": {
    "collapsed": false
   },
   "outputs": [
    {
     "data": {
      "text/html": [
       "<table>\n",
       "<tbody>\n",
       "\t<tr><td>-1</td><td>-2</td><td>-3</td><td>-4</td></tr>\n",
       "\t<tr><td>-5</td><td>-6</td><td>-7</td><td>-8</td></tr>\n",
       "\t<tr><td>-9</td><td>-10</td><td>-11</td><td>-12</td></tr>\n",
       "</tbody>\n",
       "</table>\n"
      ],
      "text/latex": [
       "\\begin{tabular}{llll}\n",
       "\t -1 & -2 & -3 & -4\\\\\n",
       "\t -5 & -6 & -7 & -8\\\\\n",
       "\t -9 & -10 & -11 & -12\\\\\n",
       "\\end{tabular}\n"
      ],
      "text/markdown": [
       "1. -1\n",
       "2. -5\n",
       "3. -9\n",
       "4. -2\n",
       "5. -6\n",
       "6. -10\n",
       "7. -3\n",
       "8. -7\n",
       "9. -11\n",
       "10. -4\n",
       "11. -8\n",
       "12. -12\n",
       "\n",
       "\n"
      ],
      "text/plain": [
       "     [,1] [,2] [,3] [,4]\n",
       "[1,]   -1   -2   -3   -4\n",
       "[2,]   -5   -6   -7   -8\n",
       "[3,]   -9  -10  -11  -12"
      ]
     },
     "execution_count": 49,
     "metadata": {},
     "output_type": "execute_result"
    },
    {
     "data": {
      "text/html": [
       "<table>\n",
       "<tbody>\n",
       "\t<tr><td>-1</td><td>-2</td><td>-3</td><td>-4</td></tr>\n",
       "\t<tr><td>-5</td><td>-6</td><td>-7</td><td>-8</td></tr>\n",
       "\t<tr><td>-9</td><td>-10</td><td>-11</td><td>-12</td></tr>\n",
       "</tbody>\n",
       "</table>\n"
      ],
      "text/latex": [
       "\\begin{tabular}{llll}\n",
       "\t -1 & -2 & -3 & -4\\\\\n",
       "\t -5 & -6 & -7 & -8\\\\\n",
       "\t -9 & -10 & -11 & -12\\\\\n",
       "\\end{tabular}\n"
      ],
      "text/markdown": [
       "1. -1\n",
       "2. -5\n",
       "3. -9\n",
       "4. -2\n",
       "5. -6\n",
       "6. -10\n",
       "7. -3\n",
       "8. -7\n",
       "9. -11\n",
       "10. -4\n",
       "11. -8\n",
       "12. -12\n",
       "\n",
       "\n"
      ],
      "text/plain": [
       "     [,1] [,2] [,3] [,4]\n",
       "[1,]   -1   -2   -3   -4\n",
       "[2,]   -5   -6   -7   -8\n",
       "[3,]   -9  -10  -11  -12"
      ]
     },
     "execution_count": 49,
     "metadata": {},
     "output_type": "execute_result"
    }
   ],
   "source": [
    "# R understands matrix negation\n",
    "-A\n",
    "-1*A"
   ]
  },
  {
   "cell_type": "code",
   "execution_count": 29,
   "metadata": {
    "collapsed": false
   },
   "outputs": [
    {
     "data": {
      "text/html": [
       "<table>\n",
       "<tbody>\n",
       "\t<tr><td>0</td><td>0</td><td>0</td><td>0</td></tr>\n",
       "\t<tr><td>0</td><td>0</td><td>0</td><td>0</td></tr>\n",
       "\t<tr><td>0</td><td>0</td><td>0</td><td>0</td></tr>\n",
       "</tbody>\n",
       "</table>\n"
      ],
      "text/latex": [
       "\\begin{tabular}{llll}\n",
       "\t 0 & 0 & 0 & 0\\\\\n",
       "\t 0 & 0 & 0 & 0\\\\\n",
       "\t 0 & 0 & 0 & 0\\\\\n",
       "\\end{tabular}\n"
      ],
      "text/markdown": [
       "1. 0\n",
       "2. 0\n",
       "3. 0\n",
       "4. 0\n",
       "5. 0\n",
       "6. 0\n",
       "7. 0\n",
       "8. 0\n",
       "9. 0\n",
       "10. 0\n",
       "11. 0\n",
       "12. 0\n",
       "\n",
       "\n"
      ],
      "text/plain": [
       "     [,1] [,2] [,3] [,4]\n",
       "[1,]    0    0    0    0\n",
       "[2,]    0    0    0    0\n",
       "[3,]    0    0    0    0"
      ]
     },
     "execution_count": 29,
     "metadata": {},
     "output_type": "execute_result"
    },
    {
     "data": {
      "text/html": [
       "<table>\n",
       "<tbody>\n",
       "\t<tr><td>1</td><td>2</td><td>3</td><td>4</td></tr>\n",
       "\t<tr><td>5</td><td>6</td><td>7</td><td>8</td></tr>\n",
       "\t<tr><td>9</td><td>10</td><td>11</td><td>12</td></tr>\n",
       "</tbody>\n",
       "</table>\n"
      ],
      "text/latex": [
       "\\begin{tabular}{llll}\n",
       "\t 1 & 2 & 3 & 4\\\\\n",
       "\t 5 & 6 & 7 & 8\\\\\n",
       "\t 9 & 10 & 11 & 12\\\\\n",
       "\\end{tabular}\n"
      ],
      "text/markdown": [
       "1. 1\n",
       "2. 5\n",
       "3. 9\n",
       "4. 2\n",
       "5. 6\n",
       "6. 10\n",
       "7. 3\n",
       "8. 7\n",
       "9. 11\n",
       "10. 4\n",
       "11. 8\n",
       "12. 12\n",
       "\n",
       "\n"
      ],
      "text/plain": [
       "     [,1] [,2] [,3] [,4]\n",
       "[1,]    1    2    3    4\n",
       "[2,]    5    6    7    8\n",
       "[3,]    9   10   11   12"
      ]
     },
     "execution_count": 29,
     "metadata": {},
     "output_type": "execute_result"
    }
   ],
   "source": [
    "# in R, you can create an m by n zero matrix as follows:\n",
    "Z <- matrix(0, 3, 4);\n",
    "Z\n",
    "A + Z"
   ]
  },
  {
   "cell_type": "code",
   "execution_count": 30,
   "metadata": {
    "collapsed": false
   },
   "outputs": [
    {
     "data": {
      "text/html": [
       "<table>\n",
       "<tbody>\n",
       "\t<tr><td>1</td><td>0</td><td>0</td></tr>\n",
       "\t<tr><td>0</td><td>1</td><td>0</td></tr>\n",
       "\t<tr><td>0</td><td>0</td><td>1</td></tr>\n",
       "</tbody>\n",
       "</table>\n"
      ],
      "text/latex": [
       "\\begin{tabular}{lll}\n",
       "\t 1 & 0 & 0\\\\\n",
       "\t 0 & 1 & 0\\\\\n",
       "\t 0 & 0 & 1\\\\\n",
       "\\end{tabular}\n"
      ],
      "text/markdown": [
       "1. 1\n",
       "2. 0\n",
       "3. 0\n",
       "4. 0\n",
       "5. 1\n",
       "6. 0\n",
       "7. 0\n",
       "8. 0\n",
       "9. 1\n",
       "\n",
       "\n"
      ],
      "text/plain": [
       "     [,1] [,2] [,3]\n",
       "[1,]    1    0    0\n",
       "[2,]    0    1    0\n",
       "[3,]    0    0    1"
      ]
     },
     "execution_count": 30,
     "metadata": {},
     "output_type": "execute_result"
    },
    {
     "data": {
      "text/html": [
       "<table>\n",
       "<tbody>\n",
       "\t<tr><td>1</td><td>0</td><td>0</td></tr>\n",
       "\t<tr><td>0</td><td>1</td><td>0</td></tr>\n",
       "\t<tr><td>0</td><td>0</td><td>1</td></tr>\n",
       "</tbody>\n",
       "</table>\n"
      ],
      "text/latex": [
       "\\begin{tabular}{lll}\n",
       "\t 1 & 0 & 0\\\\\n",
       "\t 0 & 1 & 0\\\\\n",
       "\t 0 & 0 & 1\\\\\n",
       "\\end{tabular}\n"
      ],
      "text/markdown": [
       "1. 1\n",
       "2. 0\n",
       "3. 0\n",
       "4. 0\n",
       "5. 1\n",
       "6. 0\n",
       "7. 0\n",
       "8. 0\n",
       "9. 1\n",
       "\n",
       "\n"
      ],
      "text/plain": [
       "     [,1] [,2] [,3]\n",
       "[1,]    1    0    0\n",
       "[2,]    0    1    0\n",
       "[3,]    0    0    1"
      ]
     },
     "execution_count": 30,
     "metadata": {},
     "output_type": "execute_result"
    }
   ],
   "source": [
    "# To create an n by n identity matrix in R, make a diagonal matrix of ones:\n",
    "I = diag(1,3) # a diagonal matrix of 1s, with dimension 3 by 3\n",
    "I\n",
    "I2 = diag(c(1,1,1)) # a diagonal matrix with the vector (1,1,1) along the diagonal\n",
    "I2"
   ]
  },
  {
   "cell_type": "code",
   "execution_count": 9,
   "metadata": {
    "collapsed": false
   },
   "outputs": [
    {
     "data": {
      "text/html": [
       "<table>\n",
       "<tbody>\n",
       "\t<tr><td>4</td><td>5</td><td>6</td><td>7</td></tr>\n",
       "\t<tr><td>8</td><td>9</td><td>10</td><td>11</td></tr>\n",
       "\t<tr><td>12</td><td>13</td><td>14</td><td>15</td></tr>\n",
       "</tbody>\n",
       "</table>\n"
      ],
      "text/latex": [
       "\\begin{tabular}{llll}\n",
       "\t 4 & 5 & 6 & 7\\\\\n",
       "\t 8 & 9 & 10 & 11\\\\\n",
       "\t 12 & 13 & 14 & 15\\\\\n",
       "\\end{tabular}\n"
      ],
      "text/markdown": [
       "1. 4\n",
       "2. 8\n",
       "3. 12\n",
       "4. 5\n",
       "5. 9\n",
       "6. 13\n",
       "7. 6\n",
       "8. 10\n",
       "9. 14\n",
       "10. 7\n",
       "11. 11\n",
       "12. 15\n",
       "\n",
       "\n"
      ],
      "text/plain": [
       "     [,1] [,2] [,3] [,4]\n",
       "[1,]    4    5    6    7\n",
       "[2,]    8    9   10   11\n",
       "[3,]   12   13   14   15"
      ]
     },
     "execution_count": 9,
     "metadata": {},
     "output_type": "execute_result"
    }
   ],
   "source": [
    "# R supports scalar addition; this is not a formal operation in linear algebra\n",
    "alpha + A;"
   ]
  },
  {
   "cell_type": "code",
   "execution_count": 17,
   "metadata": {
    "collapsed": false
   },
   "outputs": [
    {
     "data": {
      "text/html": [
       "<table>\n",
       "<tbody>\n",
       "\t<tr><td>1</td><td>2</td><td>3</td><td>4</td></tr>\n",
       "\t<tr><td>5</td><td>6</td><td>7</td><td>8</td></tr>\n",
       "\t<tr><td>9</td><td>10</td><td>11</td><td>12</td></tr>\n",
       "</tbody>\n",
       "</table>\n"
      ],
      "text/latex": [
       "\\begin{tabular}{llll}\n",
       "\t 1 & 2 & 3 & 4\\\\\n",
       "\t 5 & 6 & 7 & 8\\\\\n",
       "\t 9 & 10 & 11 & 12\\\\\n",
       "\\end{tabular}\n"
      ],
      "text/markdown": [
       "1. 1\n",
       "2. 5\n",
       "3. 9\n",
       "4. 2\n",
       "5. 6\n",
       "6. 10\n",
       "7. 3\n",
       "8. 7\n",
       "9. 11\n",
       "10. 4\n",
       "11. 8\n",
       "12. 12\n",
       "\n",
       "\n"
      ],
      "text/plain": [
       "     [,1] [,2] [,3] [,4]\n",
       "[1,]    1    2    3    4\n",
       "[2,]    5    6    7    8\n",
       "[3,]    9   10   11   12"
      ]
     },
     "execution_count": 17,
     "metadata": {},
     "output_type": "execute_result"
    },
    {
     "data": {
      "text/html": [
       "<table>\n",
       "<tbody>\n",
       "\t<tr><td>24</td><td>23</td><td>22</td><td>21</td></tr>\n",
       "\t<tr><td>20</td><td>19</td><td>18</td><td>17</td></tr>\n",
       "\t<tr><td>16</td><td>15</td><td>14</td><td>13</td></tr>\n",
       "</tbody>\n",
       "</table>\n"
      ],
      "text/latex": [
       "\\begin{tabular}{llll}\n",
       "\t 24 & 23 & 22 & 21\\\\\n",
       "\t 20 & 19 & 18 & 17\\\\\n",
       "\t 16 & 15 & 14 & 13\\\\\n",
       "\\end{tabular}\n"
      ],
      "text/markdown": [
       "1. 24\n",
       "2. 20\n",
       "3. 16\n",
       "4. 23\n",
       "5. 19\n",
       "6. 15\n",
       "7. 22\n",
       "8. 18\n",
       "9. 14\n",
       "10. 21\n",
       "11. 17\n",
       "12. 13\n",
       "\n",
       "\n"
      ],
      "text/plain": [
       "     [,1] [,2] [,3] [,4]\n",
       "[1,]   24   23   22   21\n",
       "[2,]   20   19   18   17\n",
       "[3,]   16   15   14   13"
      ]
     },
     "execution_count": 17,
     "metadata": {},
     "output_type": "execute_result"
    },
    {
     "data": {
      "text/html": [
       "<table>\n",
       "<tbody>\n",
       "\t<tr><td>25</td><td>25</td><td>25</td><td>25</td></tr>\n",
       "\t<tr><td>25</td><td>25</td><td>25</td><td>25</td></tr>\n",
       "\t<tr><td>25</td><td>25</td><td>25</td><td>25</td></tr>\n",
       "</tbody>\n",
       "</table>\n"
      ],
      "text/latex": [
       "\\begin{tabular}{llll}\n",
       "\t 25 & 25 & 25 & 25\\\\\n",
       "\t 25 & 25 & 25 & 25\\\\\n",
       "\t 25 & 25 & 25 & 25\\\\\n",
       "\\end{tabular}\n"
      ],
      "text/markdown": [
       "1. 25\n",
       "2. 25\n",
       "3. 25\n",
       "4. 25\n",
       "5. 25\n",
       "6. 25\n",
       "7. 25\n",
       "8. 25\n",
       "9. 25\n",
       "10. 25\n",
       "11. 25\n",
       "12. 25\n",
       "\n",
       "\n"
      ],
      "text/plain": [
       "     [,1] [,2] [,3] [,4]\n",
       "[1,]   25   25   25   25\n",
       "[2,]   25   25   25   25\n",
       "[3,]   25   25   25   25"
      ]
     },
     "execution_count": 17,
     "metadata": {},
     "output_type": "execute_result"
    }
   ],
   "source": [
    "# Matrix addition\n",
    "B <- 24:13;  # B is an array with the integers 24 to 13 in descending order \n",
    "dim(B) = c(4,3); # B is now a 4 by 3 array\n",
    "B <- t(B); # B is now a 3 by 4 array\n",
    "A # 1:12\n",
    "B # 24:13\n",
    "A+B # a 3 by 4 array; all entries are 25"
   ]
  },
  {
   "cell_type": "code",
   "execution_count": 50,
   "metadata": {
    "collapsed": false
   },
   "outputs": [
    {
     "data": {
      "text/html": [
       "<ol class=list-inline>\n",
       "\t<li>1</li>\n",
       "\t<li>2</li>\n",
       "\t<li>3</li>\n",
       "\t<li>4</li>\n",
       "</ol>\n"
      ],
      "text/latex": [
       "\\begin{enumerate*}\n",
       "\\item 1\n",
       "\\item 2\n",
       "\\item 3\n",
       "\\item 4\n",
       "\\end{enumerate*}\n"
      ],
      "text/markdown": [
       "1. 1\n",
       "2. 2\n",
       "3. 3\n",
       "4. 4\n",
       "\n",
       "\n"
      ],
      "text/plain": [
       "[1] 1 2 3 4"
      ]
     },
     "execution_count": 50,
     "metadata": {},
     "output_type": "execute_result"
    },
    {
     "data": {
      "text/html": [
       "<table>\n",
       "<tbody>\n",
       "\t<tr><td>30</td></tr>\n",
       "\t<tr><td>70</td></tr>\n",
       "\t<tr><td>110</td></tr>\n",
       "</tbody>\n",
       "</table>\n"
      ],
      "text/latex": [
       "\\begin{tabular}{l}\n",
       "\t 30\\\\\n",
       "\t 70\\\\\n",
       "\t 110\\\\\n",
       "\\end{tabular}\n"
      ],
      "text/markdown": [
       "1. 30\n",
       "2. 70\n",
       "3. 110\n",
       "\n",
       "\n"
      ],
      "text/plain": [
       "     [,1]\n",
       "[1,]   30\n",
       "[2,]   70\n",
       "[3,]  110"
      ]
     },
     "execution_count": 50,
     "metadata": {},
     "output_type": "execute_result"
    },
    {
     "name": "stdout",
     "output_type": "stream",
     "text": [
      "the (3,1) entry should be 110"
     ]
    }
   ],
   "source": [
    "# Matrix multiplication\n",
    "C <- 1:4;\n",
    "C\n",
    "A%*%C  # a 3 by 2 matrix\n",
    "cat(\"the (3,1) entry should be\", 9*1+10*2+11*3+12*4)  # Check the (3,1) entry"
   ]
  },
  {
   "cell_type": "code",
   "execution_count": 52,
   "metadata": {
    "collapsed": false
   },
   "outputs": [
    {
     "data": {
      "text/html": [
       "<table>\n",
       "<tbody>\n",
       "\t<tr><td>220</td><td>180</td><td>140</td></tr>\n",
       "\t<tr><td>580</td><td>476</td><td>372</td></tr>\n",
       "\t<tr><td>940</td><td>772</td><td>604</td></tr>\n",
       "</tbody>\n",
       "</table>\n"
      ],
      "text/latex": [
       "\\begin{tabular}{lll}\n",
       "\t 220 & 180 & 140\\\\\n",
       "\t 580 & 476 & 372\\\\\n",
       "\t 940 & 772 & 604\\\\\n",
       "\\end{tabular}\n"
      ],
      "text/markdown": [
       "1. 220\n",
       "2. 580\n",
       "3. 940\n",
       "4. 180\n",
       "5. 476\n",
       "6. 772\n",
       "7. 140\n",
       "8. 372\n",
       "9. 604\n",
       "\n",
       "\n"
      ],
      "text/plain": [
       "     [,1] [,2] [,3]\n",
       "[1,]  220  180  140\n",
       "[2,]  580  476  372\n",
       "[3,]  940  772  604"
      ]
     },
     "execution_count": 52,
     "metadata": {},
     "output_type": "execute_result"
    },
    {
     "data": {
      "text/html": [
       "<table>\n",
       "<tbody>\n",
       "\t<tr><td>268</td><td>253</td><td>238</td><td>223</td></tr>\n",
       "\t<tr><td>328</td><td>310</td><td>292</td><td>274</td></tr>\n",
       "\t<tr><td>388</td><td>367</td><td>346</td><td>325</td></tr>\n",
       "\t<tr><td>448</td><td>424</td><td>400</td><td>376</td></tr>\n",
       "</tbody>\n",
       "</table>\n"
      ],
      "text/latex": [
       "\\begin{tabular}{llll}\n",
       "\t 268 & 253 & 238 & 223\\\\\n",
       "\t 328 & 310 & 292 & 274\\\\\n",
       "\t 388 & 367 & 346 & 325\\\\\n",
       "\t 448 & 424 & 400 & 376\\\\\n",
       "\\end{tabular}\n"
      ],
      "text/markdown": [
       "1. 268\n",
       "2. 328\n",
       "3. 388\n",
       "4. 448\n",
       "5. 253\n",
       "6. 310\n",
       "7. 367\n",
       "8. 424\n",
       "9. 238\n",
       "10. 292\n",
       "11. 346\n",
       "12. 400\n",
       "13. 223\n",
       "14. 274\n",
       "15. 325\n",
       "16. 376\n",
       "\n",
       "\n"
      ],
      "text/plain": [
       "     [,1] [,2] [,3] [,4]\n",
       "[1,]  268  253  238  223\n",
       "[2,]  328  310  292  274\n",
       "[3,]  388  367  346  325\n",
       "[4,]  448  424  400  376"
      ]
     },
     "execution_count": 52,
     "metadata": {},
     "output_type": "execute_result"
    }
   ],
   "source": [
    "# now multiplying a matrix by a matrix  The matrix multiplication operator is %*%\n",
    "A %*% t(B)  # a 3 by 3 matrix\n",
    "t(A) %*% B  # a 4 by 4 matrix"
   ]
  },
  {
   "cell_type": "code",
   "execution_count": 53,
   "metadata": {
    "collapsed": false
   },
   "outputs": [
    {
     "data": {
      "text/html": [
       "<table>\n",
       "<tbody>\n",
       "\t<tr><td>1</td><td>2</td><td>3</td><td>4</td></tr>\n",
       "\t<tr><td>5</td><td>6</td><td>7</td><td>8</td></tr>\n",
       "\t<tr><td>9</td><td>10</td><td>11</td><td>12</td></tr>\n",
       "</tbody>\n",
       "</table>\n"
      ],
      "text/latex": [
       "\\begin{tabular}{llll}\n",
       "\t 1 & 2 & 3 & 4\\\\\n",
       "\t 5 & 6 & 7 & 8\\\\\n",
       "\t 9 & 10 & 11 & 12\\\\\n",
       "\\end{tabular}\n"
      ],
      "text/markdown": [
       "1. 1\n",
       "2. 5\n",
       "3. 9\n",
       "4. 2\n",
       "5. 6\n",
       "6. 10\n",
       "7. 3\n",
       "8. 7\n",
       "9. 11\n",
       "10. 4\n",
       "11. 8\n",
       "12. 12\n",
       "\n",
       "\n"
      ],
      "text/plain": [
       "     [,1] [,2] [,3] [,4]\n",
       "[1,]    1    2    3    4\n",
       "[2,]    5    6    7    8\n",
       "[3,]    9   10   11   12"
      ]
     },
     "execution_count": 53,
     "metadata": {},
     "output_type": "execute_result"
    },
    {
     "data": {
      "text/html": [
       "<table>\n",
       "<tbody>\n",
       "\t<tr><td>1</td><td>2</td><td>3</td><td>4</td></tr>\n",
       "\t<tr><td>5</td><td>6</td><td>7</td><td>8</td></tr>\n",
       "\t<tr><td>9</td><td>10</td><td>11</td><td>12</td></tr>\n",
       "</tbody>\n",
       "</table>\n"
      ],
      "text/latex": [
       "\\begin{tabular}{llll}\n",
       "\t 1 & 2 & 3 & 4\\\\\n",
       "\t 5 & 6 & 7 & 8\\\\\n",
       "\t 9 & 10 & 11 & 12\\\\\n",
       "\\end{tabular}\n"
      ],
      "text/markdown": [
       "1. 1\n",
       "2. 5\n",
       "3. 9\n",
       "4. 2\n",
       "5. 6\n",
       "6. 10\n",
       "7. 3\n",
       "8. 7\n",
       "9. 11\n",
       "10. 4\n",
       "11. 8\n",
       "12. 12\n",
       "\n",
       "\n"
      ],
      "text/plain": [
       "     [,1] [,2] [,3] [,4]\n",
       "[1,]    1    2    3    4\n",
       "[2,]    5    6    7    8\n",
       "[3,]    9   10   11   12"
      ]
     },
     "execution_count": 53,
     "metadata": {},
     "output_type": "execute_result"
    }
   ],
   "source": [
    "# Multiplication by the identity matrix\n",
    "I3 <- diag(1,3); # I3 is the 3 by 3 identity matrix\n",
    "I3 %*% A  # multiplying from the left by the 3 by 3 identity matrix gives us back A\n",
    "#\n",
    "I4 <- diag(1,4); # I4 is the 4 by 4 identity matrix\n",
    "A %*% I4 # multiplying from the right by the 4 by 4 identity matrix gives us back A"
   ]
  },
  {
   "cell_type": "code",
   "execution_count": 26,
   "metadata": {
    "collapsed": false
   },
   "outputs": [
    {
     "data": {
      "text/html": [
       "<table>\n",
       "<tbody>\n",
       "\t<tr><td>1</td><td>8</td><td>9</td><td>8</td></tr>\n",
       "\t<tr><td>10</td><td>6</td><td>28</td><td>24</td></tr>\n",
       "\t<tr><td>27</td><td>20</td><td>11</td><td>48</td></tr>\n",
       "</tbody>\n",
       "</table>\n"
      ],
      "text/latex": [
       "\\begin{tabular}{llll}\n",
       "\t 1 & 8 & 9 & 8\\\\\n",
       "\t 10 & 6 & 28 & 24\\\\\n",
       "\t 27 & 20 & 11 & 48\\\\\n",
       "\\end{tabular}\n"
      ],
      "text/markdown": [
       "1. 1\n",
       "2. 10\n",
       "3. 27\n",
       "4. 8\n",
       "5. 6\n",
       "6. 20\n",
       "7. 9\n",
       "8. 28\n",
       "9. 11\n",
       "10. 8\n",
       "11. 24\n",
       "12. 48\n",
       "\n",
       "\n"
      ],
      "text/plain": [
       "     [,1] [,2] [,3] [,4]\n",
       "[1,]    1    8    9    8\n",
       "[2,]   10    6   28   24\n",
       "[3,]   27   20   11   48"
      ]
     },
     "execution_count": 26,
     "metadata": {},
     "output_type": "execute_result"
    }
   ],
   "source": [
    "# R also does elementwise multiplication; again, this is not a formal operation in linear algebra\n",
    "A*C  # R copies C repeatedly to fill out the dimension of A, \n",
    "     # then multiplies elements of A by the corresponding element"
   ]
  },
  {
   "cell_type": "code",
   "execution_count": 5,
   "metadata": {
    "collapsed": false
   },
   "outputs": [
    {
     "data": {
      "text/html": [
       "<ol class=list-inline>\n",
       "\t<li>1</li>\n",
       "\t<li>1</li>\n",
       "\t<li>1</li>\n",
       "\t<li>2</li>\n",
       "\t<li>2</li>\n",
       "</ol>\n"
      ],
      "text/latex": [
       "\\begin{enumerate*}\n",
       "\\item 1\n",
       "\\item 1\n",
       "\\item 1\n",
       "\\item 2\n",
       "\\item 2\n",
       "\\end{enumerate*}\n"
      ],
      "text/markdown": [
       "1. 1\n",
       "2. 1\n",
       "3. 1\n",
       "4. 2\n",
       "5. 2\n",
       "\n",
       "\n"
      ],
      "text/plain": [
       "[1] 1 1 1 2 2"
      ]
     },
     "execution_count": 5,
     "metadata": {},
     "output_type": "execute_result"
    },
    {
     "data": {
      "text/html": [
       "<table>\n",
       "<tbody>\n",
       "\t<tr><td>24</td></tr>\n",
       "</tbody>\n",
       "</table>\n"
      ],
      "text/latex": [
       "\\begin{tabular}{l}\n",
       "\t 24\\\\\n",
       "\\end{tabular}\n"
      ],
      "text/markdown": [
       "24"
      ],
      "text/plain": [
       "     [,1]\n",
       "[1,]   24"
      ]
     },
     "execution_count": 5,
     "metadata": {},
     "output_type": "execute_result"
    },
    {
     "data": {
      "text/html": [
       "24"
      ],
      "text/latex": [
       "24"
      ],
      "text/markdown": [
       "24"
      ],
      "text/plain": [
       "[1] 24"
      ]
     },
     "execution_count": 5,
     "metadata": {},
     "output_type": "execute_result"
    }
   ],
   "source": [
    "# The dot product\n",
    "a <- 1:5;\n",
    "b <- c(rep(1,3), rep(2,2));  # new function: define a vector by repeating values\n",
    "b\n",
    "t(a) %*% b\n",
    "# another way to do it\n",
    "sum(a*b)"
   ]
  },
  {
   "cell_type": "code",
   "execution_count": 10,
   "metadata": {
    "collapsed": false
   },
   "outputs": [
    {
     "data": {
      "text/html": [
       "7.41619848709566"
      ],
      "text/latex": [
       "7.41619848709566"
      ],
      "text/markdown": [
       "7.41619848709566"
      ],
      "text/plain": [
       "[1] 7.416198"
      ]
     },
     "execution_count": 10,
     "metadata": {},
     "output_type": "execute_result"
    },
    {
     "data": {
      "text/html": [
       "7.41619848709566"
      ],
      "text/latex": [
       "7.41619848709566"
      ],
      "text/markdown": [
       "7.41619848709566"
      ],
      "text/plain": [
       "[1] 7.416198"
      ]
     },
     "execution_count": 10,
     "metadata": {},
     "output_type": "execute_result"
    },
    {
     "data": {
      "text/html": [
       "<table>\n",
       "<tbody>\n",
       "\t<tr><td>7.416198</td></tr>\n",
       "</tbody>\n",
       "</table>\n"
      ],
      "text/latex": [
       "\\begin{tabular}{l}\n",
       "\t 7.416198\\\\\n",
       "\\end{tabular}\n"
      ],
      "text/markdown": [
       "7.41619848709566"
      ],
      "text/plain": [
       "         [,1]\n",
       "[1,] 7.416198"
      ]
     },
     "execution_count": 10,
     "metadata": {},
     "output_type": "execute_result"
    },
    {
     "data": {
      "text/html": [
       "7.41619848709566"
      ],
      "text/latex": [
       "7.41619848709566"
      ],
      "text/markdown": [
       "7.41619848709566"
      ],
      "text/plain": [
       "[1] 7.416198"
      ]
     },
     "execution_count": 10,
     "metadata": {},
     "output_type": "execute_result"
    }
   ],
   "source": [
    "# the 2-norm\n",
    "norm(as.matrix(a), type=\"2\")  # the \"norm\" function operates on matrices--not lists. \n",
    "                              # The function \"as.matrix()\" turns the list a into a matrix.\n",
    "# alternative 1\n",
    "sqrt(sum(a*a))\n",
    "# alternative 2\n",
    "sqrt(t(a) %*% a)\n",
    "# check:\n",
    "sqrt(1^2+2^2+3^2+4^2+5^2)"
   ]
  },
  {
   "cell_type": "code",
   "execution_count": 13,
   "metadata": {
    "collapsed": false
   },
   "outputs": [
    {
     "data": {
      "text/html": [
       "15"
      ],
      "text/latex": [
       "15"
      ],
      "text/markdown": [
       "15"
      ],
      "text/plain": [
       "[1] 15"
      ]
     },
     "execution_count": 13,
     "metadata": {},
     "output_type": "execute_result"
    },
    {
     "data": {
      "text/html": [
       "15"
      ],
      "text/latex": [
       "15"
      ],
      "text/markdown": [
       "15"
      ],
      "text/plain": [
       "[1] 15"
      ]
     },
     "execution_count": 13,
     "metadata": {},
     "output_type": "execute_result"
    },
    {
     "data": {
      "text/html": [
       "15"
      ],
      "text/latex": [
       "15"
      ],
      "text/markdown": [
       "15"
      ],
      "text/plain": [
       "[1] 15"
      ]
     },
     "execution_count": 13,
     "metadata": {},
     "output_type": "execute_result"
    }
   ],
   "source": [
    "# the 1-norm\n",
    "norm(as.matrix(a), type=\"o\")\n",
    "# alternative \n",
    "sum(abs(a))\n",
    "# check:\n",
    "1+2+3+4+5"
   ]
  },
  {
   "cell_type": "markdown",
   "metadata": {},
   "source": [
    "#### Exercise\n",
    "\n",
    "Write an R script that computes the $p$-norm for general $p$, two different ways, from scratch. Do not use the \"norm\" function."
   ]
  },
  {
   "cell_type": "markdown",
   "metadata": {},
   "source": [
    "##### Traces and Determinants\n",
    "\n",
    "If $A \\in {\\mathcal M}(n,n)$, the _trace_ of $A$ is the sum of the \"diagonal\" elements of $A$:\n",
    "$$ {\\mbox{trace}}(A) = \\sum_{i=1}^n A_{ii}.$$\n",
    "\n"
   ]
  },
  {
   "cell_type": "code",
   "execution_count": 4,
   "metadata": {
    "collapsed": false
   },
   "outputs": [
    {
     "data": {
      "text/html": [
       "<table>\n",
       "<tbody>\n",
       "\t<tr><td>1</td><td>1</td><td>1</td><td>1</td><td>1</td></tr>\n",
       "\t<tr><td>2</td><td>2</td><td>2</td><td>2</td><td>2</td></tr>\n",
       "\t<tr><td>3</td><td>3</td><td>3</td><td>3</td><td>3</td></tr>\n",
       "\t<tr><td>4</td><td>4</td><td>4</td><td>4</td><td>4</td></tr>\n",
       "\t<tr><td>5</td><td>5</td><td>5</td><td>5</td><td>5</td></tr>\n",
       "</tbody>\n",
       "</table>\n"
      ],
      "text/latex": [
       "\\begin{tabular}{lllll}\n",
       "\t 1 & 1 & 1 & 1 & 1\\\\\n",
       "\t 2 & 2 & 2 & 2 & 2\\\\\n",
       "\t 3 & 3 & 3 & 3 & 3\\\\\n",
       "\t 4 & 4 & 4 & 4 & 4\\\\\n",
       "\t 5 & 5 & 5 & 5 & 5\\\\\n",
       "\\end{tabular}\n"
      ],
      "text/markdown": [
       "1. 1\n",
       "2. 2\n",
       "3. 3\n",
       "4. 4\n",
       "5. 5\n",
       "6. 1\n",
       "7. 2\n",
       "8. 3\n",
       "9. 4\n",
       "10. 5\n",
       "11. 1\n",
       "12. 2\n",
       "13. 3\n",
       "14. 4\n",
       "15. 5\n",
       "16. 1\n",
       "17. 2\n",
       "18. 3\n",
       "19. 4\n",
       "20. 5\n",
       "21. 1\n",
       "22. 2\n",
       "23. 3\n",
       "24. 4\n",
       "25. 5\n",
       "\n",
       "\n"
      ],
      "text/plain": [
       "     [,1] [,2] [,3] [,4] [,5]\n",
       "[1,]    1    1    1    1    1\n",
       "[2,]    2    2    2    2    2\n",
       "[3,]    3    3    3    3    3\n",
       "[4,]    4    4    4    4    4\n",
       "[5,]    5    5    5    5    5"
      ]
     },
     "execution_count": 4,
     "metadata": {},
     "output_type": "execute_result"
    },
    {
     "data": {
      "text/html": [
       "15"
      ],
      "text/latex": [
       "15"
      ],
      "text/markdown": [
       "15"
      ],
      "text/plain": [
       "[1] 15"
      ]
     },
     "execution_count": 4,
     "metadata": {},
     "output_type": "execute_result"
    }
   ],
   "source": [
    "# Trace in R\n",
    "x <- array(1:5,dim=c(5,5))\n",
    "x\n",
    "sum(diag(x))  # diag() extracts the diagonal of a matrix; sum() adds the elements of a list"
   ]
  },
  {
   "cell_type": "code",
   "execution_count": null,
   "metadata": {
    "collapsed": true
   },
   "outputs": [],
   "source": []
  }
 ],
 "metadata": {
  "kernelspec": {
   "display_name": "R",
   "language": "",
   "name": "ir"
  },
  "language_info": {
   "codemirror_mode": "r",
   "file_extension": ".r",
   "mimetype": "text/x-r-source",
   "name": "R",
   "pygments_lexer": "r",
   "version": "3.1.3"
  }
 },
 "nbformat": 4,
 "nbformat_minor": 0
}
