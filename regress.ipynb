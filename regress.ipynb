{
 "cells": [
  {
   "cell_type": "markdown",
   "metadata": {},
   "source": [
    "## Regression Models\n",
    "\n",
    "Regression models are used primarily for three purposes:\n",
    "\n",
    "1. _Description_: to summarize data\n",
    "2. _Prediction_: to predict future data\n",
    "3. _Causal Inference_: to predict what would happen in response to an intervention\n",
    "\n",
    "It is straightforward to check whether a regression model is a good summary of existing data, although there is some subtlety in determining whether the summary is _good enough_.  How to measure goodness of fit appropriately is not always obvious, and adequacy of fit depends on the use of the summary.\n",
    "\n",
    "Prediction is harder than description because it involves extrapolation: how can one tell what the future will bring? Why should the future be like the past? Is the system under study stable (i.e., _stationary_) or are its properties changing with time?\n",
    "\n",
    "However, the hardest of these tasks is causal inference. The biggest difficulty in drawing causal inferences is _confounding_, especially when the data arise from _observational studies_ rather than _randomized, controlled experiments_.\n",
    "\n",
    "_Confounding_ happens when one factor or variable manifests in the outcome in a way that cannot be distinguished from the _treatment_.\n",
    "\n",
    "_Stratification_ (e.g., _cross tabulation_) can help reduce confounding. So can modeling&mdash;in some cases, but not in others.\n"
   ]
  },
  {
   "cell_type": "code",
   "execution_count": null,
   "metadata": {
    "collapsed": true
   },
   "outputs": [],
   "source": []
  }
 ],
 "metadata": {
  "kernelspec": {
   "display_name": "R",
   "language": "",
   "name": "ir"
  },
  "language_info": {
   "codemirror_mode": "r",
   "file_extension": ".r",
   "mimetype": "text/x-r-source",
   "name": "R",
   "pygments_lexer": "r",
   "version": "3.1.3"
  }
 },
 "nbformat": 4,
 "nbformat_minor": 0
}
