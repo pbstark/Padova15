{
 "cells": [
  {
   "cell_type": "markdown",
   "metadata": {},
   "source": [
    "# Inference and Statistical Models\n",
    "\n",
    "This section is based partly on Freedman, D.A., 2009. [_Statistical Models: Theory and Practice_, Revised Edition](http://www.amazon.com/Statistical-Models-Practice-David-Freedman/dp/0521743850/), Cambridge University Press.\n",
    "\n",
    "Statistical models, and regression in particular, are used primarily for three purposes:\n",
    "\n",
    "1. _Description_: to summarize data\n",
    "2. _Prediction_: to predict future data\n",
    "3. _Causal Inference_: to predict what would happen in response to an intervention\n",
    "\n",
    "It is straightforward to check whether a regression model is a good summary of _existing_ data, although there is some subtlety in determining whether the summary is _good enough_.  How to measure goodness of fit appropriately is not always obvious, and adequacy of fit depends on the use of the summary.\n",
    "\n",
    "Prediction is harder than description because it involves _extrapolation_: how can one tell what the future will bring? Why should the future be like the past? Is the system under study stable (i.e., _stationary_) or are its properties changing with time?\n",
    "\n",
    "However, the hardest of these tasks is causal inference. The biggest difficulty in drawing causal inferences is _confounding_, especially when the data arise from _observational studies_ rather than _randomized, controlled experiments_. (_Natural experiments_ lie somewhere in between; there are few that approach the utility of\n",
    "a randomized controlled experiment, but John Snow's study of the communication of cholera is a notable exception.)\n",
    "\n",
    "_Confounding_ happens when one factor or variable manifests in the outcome in a way that cannot be distinguished from the _treatment_.\n",
    "\n",
    "_Stratification_ (e.g., _cross tabulation_) can help reduce confounding. So can modeling&mdash;in some cases, but not in others. \n",
    "For modeling to help, it is generally necessary for the structure of the model to \n",
    "correspond to how the data were actually generated.\n",
    "Unfortunately, most models in science, especially social science, are chosen out of habit or computational\n",
    "convenience, not because they have a basis in the science itself.\n",
    "This often produces misleading results, and the misleading impression that those results have small\n",
    "uncertainties.\n"
   ]
  },
  {
   "cell_type": "markdown",
   "metadata": {
    "collapsed": true
   },
   "source": [
    "### The Method of Comparison\n",
    "The basic method to mitigate confounding is to compare(at least) two groups, one that receives _treatment_ and a _control group_ that does not (or that gets a different treatment).\n",
    "To minimize bias, the treatment group and the control group should be as similar as possible but for the fact that\n",
    "one gets treatment and the other does not.\n",
    "\n",
    "If subjects _self-select_ for treatment, that generally results in bias. So does allowing the experimenter flexibility to select the groups.\n",
    "The best way to minimize bias, and to be able to quantify the uncertainty in the resulting inferences, is to assign subjects to treatment or control _randomly_.\n",
    "\n",
    "For human subjects, the mere fact of receiving treatment&mdash;even a treatment with no real effect&mdash;can\n",
    "produce changes in response. This is called _the placebo effect_.\n",
    "For that reason, it is important that human subjects be _blind_ to whether they are treated or not, for instance,\n",
    "by giving subjects in the control group a _placebo_.\n",
    "That makes the treatment and control groups more similar.\n",
    "Both groups receive something: the difference is in _what_ they\n",
    "receive, rather than _whether_ they receive anything.\n",
    "\n",
    "Also, subjective elements can deliberately or inadvertently enter the assessment of subjects' responses to treatment,\n",
    "making it important for the people assessing the responses to be _blind_ to which subjects received treatment.\n",
    "When neither the subjects nor the assessors know who was treated, the experiment is _double blind_.\n",
    "\n",
    "See [SticiGui: Does Treatment Have an Effect?](http://www.stat.berkeley.edu/~stark/SticiGui/Text/experiments.htm) for more discussion."
   ]
  },
  {
   "cell_type": "markdown",
   "metadata": {},
   "source": [
    "### Example: Smoking and Cancer\n",
    "See Freedman, 2009.\n",
    "\n",
    "Smokers get more heart attacks, lung cancer, and other diseases than non-smokers.\n",
    "Is it because they smoke?\n",
    "\n",
    "Most smokers are male, and gender matters for many of those diseases.\n",
    "So does age, exposure to other environmental agents such as air pollution, etc.\n",
    "How can we tell whether smoking is responsible for the increased morbidity and mortality?\n",
    "\n",
    "### Example: HIP trial of the early 1960s\n",
    "See Freedman, 2009.\n",
    "700,000 members of a NY health plan, including 62,000 women between age 40 and 64, who were\n",
    "randomly assigned to be screened for breast cancer or not.\n",
    "This is a controlled, randomized experiment.\n",
    "\n",
    "\n",
    "### Example: Snow's study of the origins of Cholera\n",
    "See [SticiGui](http://www.stat.berkeley.edu/~stark/SticiGui/Text/experiments.htm#cholera)\n",
    "This is a natural experiment, but a spectacularly good one. Indeed, it helped establish the germ theory\n",
    "of disease.\n",
    "\n",
    "### Example: Yule's study of the Causes of Pauperism\n",
    "Freedman, 2009.\n",
    "This is a regression model applied to data from an observational study in an attempt to make causal inferences."
   ]
  },
  {
   "cell_type": "markdown",
   "metadata": {},
   "source": [
    "## The 2-sample problem \n",
    "\n",
    "Suppose we have a group of $N$ individuals who are randomized into two groups, a _treatment_ group of size $N_t$ and a _control_ group of size $N_c = N - N_t$.\n",
    "Label the individuals from $1$ to $N$.\n",
    "Let ${\\mathcal T}$ denote the labels of individuals assigned to treatment and ${\\mathcal C}$ denote \n",
    "the labels of those assigned to control.\n",
    "\n",
    "For each of the $N$ individuals, we measure a quantitative (real-valued) response.\n",
    "Each individual $i$ has two _potential responses_: the response $c_i $individual would have if assigned to \n",
    "the control group, and the response $t_i$ the individual would have if assigned to the treatment group.\n",
    "\n",
    "We assume that individul $i$'s response depends _only_ on that individual's assigment, and not on anyone else's assignment.\n",
    "This is the assumption of _non-interference_. \n",
    "In some cases, this assumption is reasonable; in others, it is not.\n",
    "\n",
    "For instance, imagine testing a vaccine for a communicable disease.\n",
    "If you and I have contact, whether you get the disease might depend on whether I am vaccinated&mdash;and _vice versa_&mdash;since if the vaccine protects me from illness, I won't infect you.\n",
    "Similarly, suppose we are testing the effectiveness of an advertisement for a product.\n",
    "If you and I are connected and you buy the product, I might be more likely to buy it, even if I don't\n",
    "see the advertisement.\n",
    "\n",
    "Conversely, suppose that \"treatment\" is exposure to a carcinogen, and the response whether the\n",
    "subject contracts cancer. \n",
    "On the assumption that cancer is not communicable, my exposure and your disease\n",
    "status have no connection.\n",
    "\n",
    "The _strong null hypothesis_ is that individual by individual, treatment makes no difference whatsoever: $c_i = t_i$ for all $i$.\n",
    "\n",
    "If so, any differences between statistics computed for the treatment and control groups are entirely due to the luck of the draw: which individuals happened to be assigned to treatment and which to control.\n",
    "\n",
    "We can find the _null distribution_ of any statistic computed from the responses of the two groups: if the strong null hypothesis is true, we know what individual $i$'s response would have been whether assigned to treatment or to control&mdash;namely, the same.\n",
    "\n",
    "For instance, suppose we suspect that treatment tends to increase response: in general, $t_i \\ge c_i$.\n",
    "Then we might expect $\\bar{c} = \\frac{1}{N_c} \\sum_{i \\in {\\mathcal C}} c_i$ to be less than\n",
    "$\\bar{t} = \\frac{1}{N_t} \\sum_{i \\in {\\mathcal T}} t_i$.\n",
    "How large a difference between $\\bar{c}$ and $\\bar{t}$ would be evidence that treatment increases the response,\n",
    "beyond what might happen by chance through the luck of the draw?\n",
    "\n",
    "This amounts to asking whether the observed difference in means between the two groups is a high percentile\n",
    "of the distribution of that difference in means, calculated on the assumption that the null hypothesis is true.\n",
    "\n",
    "Because of how subjects are assigned to treatment or to control, all allocations of $N_t$ subjects to\n",
    "treatment are equally likely.\n",
    "\n",
    "One way to partition the $N$ subjects randomly into a group of size $N_c$ and a group of size $N_t$ is\n",
    "to permute the $N$ subjects at random, then take the first $N_c$ in the permuted list to be the control\n",
    "group, and the remaining $N_t$ to be the treatment group.\n",
    "\n",
    "[Note: discussion of how to construct a random permutation. Issues with assigning random numbers to\n",
    "all items of the list. Compare with Knuth's algorithm, also for computational burden.]"
   ]
  },
  {
   "cell_type": "markdown",
   "metadata": {},
   "source": [
    "### Student's $t$ statistic\n",
    "\n",
    "The _mean_ of a list of of numbers $\\{x_j\\}_{j=1}^n$ is\n",
    "$$\n",
    "   \\bar{x} \\equiv \\frac{1}{n} \\sum_{j=1}^n x_j.\n",
    "$$\n",
    "\n",
    "The _sample standard deviation_ of the list is\n",
    "$$\n",
    "   s(x)  \\equiv \\sqrt{ \\frac{1}{n-1} \\sum_{j=1}^n \\left ( x_j - \\bar{x} \\right )^2 }.\n",
    "$$\n",
    "Note the $n-1$ in the denominator.\n",
    "\n",
    "Student's $t$ statistic is [TO DO].\n",
    "\n",
    "It is common to use Student's \n",
    "$t$ test in these circumstances, but the assumptions for the $t$ statistic to have Student's $t$ distribution are not met: for Student's t statistic to have Student's t distribution, the two groups need to be independent random samples from normal distributions with the same means and variances.\n",
    "\n",
    "Instead, we will construct a permutation test using Student's $t$ statistic."
   ]
  },
  {
   "cell_type": "markdown",
   "metadata": {},
   "source": [
    "## Gender Bias in Teaching Evaluations\n",
    "MacNell, Driscoll, and Hunt (2014. [What's in a Name: Exposing Gender Bias in Student Ratings of Teaching](http://link.springer.com/article/10.1007%2Fs10755-014-9313-4), _Innovative Higher Education_) conducted a controlled, randomized experiment on\n",
    "the effect of students' perception of instructors' gender on teaching evaluations\n",
    "in an online course.\n",
    "Students in the class did not know the instructors' true genders.\n",
    "\n",
    "MacNell et al. randomized 43 students in an online course into four groups: 8 students were told their\n",
    "instructor was female and their instructor truly was female\n",
    "\n",
    "<table>\n",
    "<tr><th>Adjective</th> <th>F - M</th></tr>\n",
    "<tr><td>Caring</td><td> -0.47</td></tr>\n",
    "<tr><td> Consistent</td><td> -0.57</td></tr>\n",
    "<tr><td> Enthusiastic</td><td> -0.76</td></tr>\n",
    "<tr><td> Fair </td><td>-0.47</td></tr>\n",
    "<tr><td> Feedback</td><td> -0.46</td></tr>\n",
    "<tr><td> Helpful</td><td> -0.35</td></tr>\n",
    "<tr><td> Knowledgeable</td><td> -0.67</td></tr>\n",
    "<tr><td> Praise</td><td> -0.61</td></tr>\n",
    "<tr><td> Professional</td><td> -0.80</td></tr>\n",
    "<tr><td> Prompt</td><td> -0.61</td></tr>\n",
    "<tr><td> Respectful</td><td> -0.22</td></tr>\n",
    "<tr><td> Responsive</td><td> -0.61</td></tr>\n",
    "</table>\n",
    "\n"
   ]
  },
  {
   "cell_type": "markdown",
   "metadata": {},
   "source": [
    "MacNell et al. graciously shared their data.\n",
    "The data are coded as follows:\n",
    "\n",
    "    Group\n",
    "          3 (8 students) - TA identified as male, true TA gender female \n",
    "\t      4 (12 students) - TA identified as male, true TA gender male\n",
    "\t      5 (12 students) - TA identified as female, true TA gender female\n",
    "\t      6 (11 students) - TA identified as female, true TA gender male\n",
    "    tagender - 1 if true male, 0 if true female \n",
    "    taidgender - 1 if identified as male, 0 if identified as female \n",
    "    gender - 1 if student is male, 2 if student is female\n",
    "\n",
    "There are grades for 47 students but evaluations for only 43 (4 did not respond). \n",
    "The grades are not linked to the evaluations, per the IRB protocol."
   ]
  },
  {
   "cell_type": "code",
   "execution_count": null,
   "metadata": {
    "collapsed": true
   },
   "outputs": [],
   "source": []
  },
  {
   "cell_type": "code",
   "execution_count": 9,
   "metadata": {
    "collapsed": false
   },
   "outputs": [
    {
     "data": {
      "text/html": [
       "<table>\n",
       "<thead><tr><th></th><th scope=col>group</th><th scope=col>professional</th><th scope=col>respect</th><th scope=col>caring</th><th scope=col>enthusiastic</th><th scope=col>communicate</th><th scope=col>helpful</th><th scope=col>feedback</th><th scope=col>prompt</th><th scope=col>consistent</th><th scope=col>fair</th><th scope=col>responsive</th><th scope=col>praised</th><th scope=col>knowledgeable</th><th scope=col>clear</th><th scope=col>overall</th><th scope=col>gender</th><th scope=col>age</th><th scope=col>tagender</th><th scope=col>taidgender</th></tr></thead>\n",
       "<tbody>\n",
       "\t<tr><th scope=row>1</th><td>3</td><td>5</td><td>5</td><td>4</td><td>4</td><td>4</td><td>3</td><td>4</td><td>4</td><td>4</td><td>4</td><td>4</td><td>4</td><td>3</td><td>5</td><td>4</td><td>2</td><td>1990</td><td>0</td><td>1</td></tr>\n",
       "\t<tr><th scope=row>2</th><td>3</td><td>4</td><td>4</td><td>4</td><td>4</td><td>5</td><td>5</td><td>5</td><td>5</td><td>3</td><td>4</td><td>5</td><td>5</td><td>5</td><td>5</td><td>4</td><td>1</td><td>1992</td><td>0</td><td>1</td></tr>\n",
       "\t<tr><th scope=row>3</th><td>3</td><td>5</td><td>5</td><td>5</td><td>5</td><td>5</td><td>5</td><td>5</td><td>5</td><td>5</td><td>5</td><td>5</td><td>5</td><td>5</td><td>5</td><td>5</td><td>2</td><td>1991</td><td>0</td><td>1</td></tr>\n",
       "\t<tr><th scope=row>4</th><td>3</td><td>5</td><td>5</td><td>5</td><td>5</td><td>5</td><td>3</td><td>5</td><td>5</td><td>5</td><td>5</td><td>3</td><td>5</td><td>5</td><td>5</td><td>5</td><td>2</td><td>1991</td><td>0</td><td>1</td></tr>\n",
       "\t<tr><th scope=row>5</th><td>3</td><td>5</td><td>5</td><td>5</td><td>5</td><td>5</td><td>5</td><td>5</td><td>3</td><td>4</td><td>5</td><td>5</td><td>5</td><td>5</td><td>5</td><td>5</td><td>2</td><td>1992</td><td>0</td><td>1</td></tr>\n",
       "</tbody>\n",
       "</table>\n"
      ],
      "text/latex": [
       "\\begin{tabular}{r|llllllllllllllllllll}\n",
       "  & group & professional & respect & caring & enthusiastic & communicate & helpful & feedback & prompt & consistent & fair & responsive & praised & knowledgeable & clear & overall & gender & age & tagender & taidgender\\\\\n",
       "\\hline\n",
       "\t1 & 3 & 5 & 5 & 4 & 4 & 4 & 3 & 4 & 4 & 4 & 4 & 4 & 4 & 3 & 5 & 4 & 2 & 1990 & 0 & 1\\\\\n",
       "\t2 & 3 & 4 & 4 & 4 & 4 & 5 & 5 & 5 & 5 & 3 & 4 & 5 & 5 & 5 & 5 & 4 & 1 & 1992 & 0 & 1\\\\\n",
       "\t3 & 3 & 5 & 5 & 5 & 5 & 5 & 5 & 5 & 5 & 5 & 5 & 5 & 5 & 5 & 5 & 5 & 2 & 1991 & 0 & 1\\\\\n",
       "\t4 & 3 & 5 & 5 & 5 & 5 & 5 & 3 & 5 & 5 & 5 & 5 & 3 & 5 & 5 & 5 & 5 & 2 & 1991 & 0 & 1\\\\\n",
       "\t5 & 3 & 5 & 5 & 5 & 5 & 5 & 5 & 5 & 3 & 4 & 5 & 5 & 5 & 5 & 5 & 5 & 2 & 1992 & 0 & 1\\\\\n",
       "\\end{tabular}\n"
      ],
      "text/plain": [
       "  group professional respect caring enthusiastic communicate helpful feedback\n",
       "1     3            5       5      4            4           4       3        4\n",
       "2     3            4       4      4            4           5       5        5\n",
       "3     3            5       5      5            5           5       5        5\n",
       "4     3            5       5      5            5           5       3        5\n",
       "5     3            5       5      5            5           5       5        5\n",
       "  prompt consistent fair responsive praised knowledgeable clear overall gender\n",
       "1      4          4    4          4       4             3     5       4      2\n",
       "2      5          3    4          5       5             5     5       4      1\n",
       "3      5          5    5          5       5             5     5       5      2\n",
       "4      5          5    5          3       5             5     5       5      2\n",
       "5      3          4    5          5       5             5     5       5      2\n",
       "   age tagender taidgender\n",
       "1 1990        0          1\n",
       "2 1992        0          1\n",
       "3 1991        0          1\n",
       "4 1991        0          1\n",
       "5 1992        0          1"
      ]
     },
     "execution_count": 9,
     "metadata": {},
     "output_type": "execute_result"
    },
    {
     "data": {
      "text/plain": [
       "     group        professional      respect          caring      enthusiastic  \n",
       " Min.   :3.000   Min.   :1.000   Min.   :1.000   Min.   :1.00   Min.   :1.000  \n",
       " 1st Qu.:3.000   1st Qu.:4.000   1st Qu.:4.000   1st Qu.:3.50   1st Qu.:4.000  \n",
       " Median :4.000   Median :5.000   Median :5.000   Median :4.00   Median :4.000  \n",
       " Mean   :4.465   Mean   :4.326   Mean   :4.326   Mean   :3.93   Mean   :3.907  \n",
       " 3rd Qu.:6.000   3rd Qu.:5.000   3rd Qu.:5.000   3rd Qu.:5.00   3rd Qu.:4.500  \n",
       " Max.   :6.000   Max.   :5.000   Max.   :5.000   Max.   :5.00   Max.   :5.000  \n",
       "  communicate       helpful         feedback         prompt     \n",
       " Min.   :1.000   Min.   :1.000   Min.   :1.000   Min.   :1.000  \n",
       " 1st Qu.:4.000   1st Qu.:3.000   1st Qu.:4.000   1st Qu.:4.000  \n",
       " Median :4.000   Median :4.000   Median :4.000   Median :4.000  \n",
       " Mean   :3.953   Mean   :3.744   Mean   :3.953   Mean   :3.977  \n",
       " 3rd Qu.:5.000   3rd Qu.:5.000   3rd Qu.:5.000   3rd Qu.:5.000  \n",
       " Max.   :5.000   Max.   :5.000   Max.   :5.000   Max.   :5.000  \n",
       "   consistent         fair         responsive       praised      knowledgeable \n",
       " Min.   :1.000   Min.   :1.000   Min.   :1.000   Min.   :1.000   Min.   :1.00  \n",
       " 1st Qu.:3.000   1st Qu.:3.500   1st Qu.:3.000   1st Qu.:4.000   1st Qu.:4.00  \n",
       " Median :4.000   Median :4.000   Median :4.000   Median :4.000   Median :4.00  \n",
       " Mean   :3.744   Mean   :3.907   Mean   :3.767   Mean   :4.209   Mean   :4.14  \n",
       " 3rd Qu.:5.000   3rd Qu.:5.000   3rd Qu.:4.500   3rd Qu.:5.000   3rd Qu.:5.00  \n",
       " Max.   :5.000   Max.   :5.000   Max.   :5.000   Max.   :5.000   Max.   :5.00  \n",
       "     clear          overall          gender           age      \n",
       " Min.   :1.000   Min.   :1.000   Min.   :1.000   Min.   :1982  \n",
       " 1st Qu.:3.000   1st Qu.:4.000   1st Qu.:1.000   1st Qu.:1990  \n",
       " Median :4.000   Median :4.000   Median :2.000   Median :1990  \n",
       " Mean   :3.721   Mean   :3.953   Mean   :1.535   Mean   :1990  \n",
       " 3rd Qu.:5.000   3rd Qu.:5.000   3rd Qu.:2.000   3rd Qu.:1991  \n",
       " Max.   :5.000   Max.   :5.000   Max.   :2.000   Max.   :2012  \n",
       "    tagender        taidgender    \n",
       " Min.   :0.0000   Min.   :0.0000  \n",
       " 1st Qu.:0.0000   1st Qu.:0.0000  \n",
       " Median :1.0000   Median :1.0000  \n",
       " Mean   :0.5349   Mean   :0.5349  \n",
       " 3rd Qu.:1.0000   3rd Qu.:1.0000  \n",
       " Max.   :1.0000   Max.   :1.0000  "
      ]
     },
     "execution_count": 9,
     "metadata": {},
     "output_type": "execute_result"
    }
   ],
   "source": [
    "# the data are in a .csv file called \"Macnell-RatingsData.csv\" in the directory Data\n",
    "ratings <- read.csv(\"Data/Macnell-RatingsData.csv\");  # reads a .csv file into a DataFrame\n",
    "ratings[1:5,]\n",
    "summary(ratings) # summary statistics for the data. Note the issue with \"age\""
   ]
  },
  {
   "cell_type": "code",
   "execution_count": 10,
   "metadata": {
    "collapsed": false
   },
   "outputs": [
    {
     "data": {
      "text/html": [
       "<table>\n",
       "<thead><tr><th></th><th scope=col>group</th><th scope=col>grade</th><th scope=col>tagender</th><th scope=col>taidgender</th></tr></thead>\n",
       "<tbody>\n",
       "\t<tr><th scope=row>1</th><td>3</td><td>77.4</td><td>0</td><td>1</td></tr>\n",
       "\t<tr><th scope=row>2</th><td>3</td><td>89.02</td><td>0</td><td>1</td></tr>\n",
       "\t<tr><th scope=row>3</th><td>3</td><td>53.5</td><td>0</td><td>1</td></tr>\n",
       "\t<tr><th scope=row>4</th><td>3</td><td>88.32</td><td>0</td><td>1</td></tr>\n",
       "\t<tr><th scope=row>5</th><td>3</td><td>90.02</td><td>0</td><td>1</td></tr>\n",
       "</tbody>\n",
       "</table>\n"
      ],
      "text/latex": [
       "\\begin{tabular}{r|llll}\n",
       "  & group & grade & tagender & taidgender\\\\\n",
       "\\hline\n",
       "\t1 & 3 & 77.4 & 0 & 1\\\\\n",
       "\t2 & 3 & 89.02 & 0 & 1\\\\\n",
       "\t3 & 3 & 53.5 & 0 & 1\\\\\n",
       "\t4 & 3 & 88.32 & 0 & 1\\\\\n",
       "\t5 & 3 & 90.02 & 0 & 1\\\\\n",
       "\\end{tabular}\n"
      ],
      "text/plain": [
       "  group grade tagender taidgender\n",
       "1     3 77.40        0          1\n",
       "2     3 89.02        0          1\n",
       "3     3 53.50        0          1\n",
       "4     3 88.32        0          1\n",
       "5     3 90.02        0          1"
      ]
     },
     "execution_count": 10,
     "metadata": {},
     "output_type": "execute_result"
    },
    {
     "data": {
      "text/plain": [
       "     group           grade          tagender        taidgender    \n",
       " Min.   :3.000   Min.   :49.46   Min.   :0.0000   Min.   :0.0000  \n",
       " 1st Qu.:3.500   1st Qu.:75.20   1st Qu.:0.0000   1st Qu.:0.0000  \n",
       " Median :5.000   Median :80.13   Median :1.0000   Median :0.0000  \n",
       " Mean   :4.532   Mean   :79.01   Mean   :0.5106   Mean   :0.4894  \n",
       " 3rd Qu.:6.000   3rd Qu.:85.09   3rd Qu.:1.0000   3rd Qu.:1.0000  \n",
       " Max.   :6.000   Max.   :95.10   Max.   :1.0000   Max.   :1.0000  "
      ]
     },
     "execution_count": 10,
     "metadata": {},
     "output_type": "execute_result"
    }
   ],
   "source": [
    "grades <- read.csv(\"Data/Macnell-GradeData.csv\");  # reads a .csv file into a DataFrame\n",
    "grades[1:5,]\n",
    "summary(grades) # summary statistics for the data. Note the issue with \"age\""
   ]
  },
  {
   "cell_type": "code",
   "execution_count": null,
   "metadata": {
    "collapsed": true
   },
   "outputs": [],
   "source": [
    "# First test option: two groups\n",
    "simPermuTTest <- function(x, y, iter) {\n",
    "    tStat <- function(z, n) {\n",
    "        N <- length(z);\n",
    "        m <- N-n;\n",
    "        sPool <- sqrt(((m-1)*var(z[1:m])+(n-1)*var(z[(m+1):N]))/(N-2));\n",
    "        (mean(z[(m+1):N])-mean(z[1:m]))/(sPool*sqrt(1/n + 1/m))\n",
    "    }\n",
    "    n <- length(y);              # number of treated subjects\n",
    "    z <- c(x, y)                 # pooled responses\n",
    "    ts <- abs(tStat(z,n))        # test statistic\n",
    "    sum(replicate(iter, (abs(tStat(sample(z),n))>=ts)))/iter\n",
    "}"
   ]
  },
  {
   "cell_type": "code",
   "execution_count": null,
   "metadata": {
    "collapsed": true
   },
   "outputs": [],
   "source": [
    "# It's good practice to set the seed of the random number generator, so that your work will be\n",
    "# reproducible. I'm using the date of this lecture as the seed.  \n",
    "# Don't reset the seed repeatedly in your analysis! That compromises the pseudorandom behavior of the PRNG.\n",
    "# R uses the Mersenne Twister PRNG, which is good for statistics but not adequate for cryptography\n",
    "set.seed(20150630)"
   ]
  },
  {
   "cell_type": "code",
   "execution_count": null,
   "metadata": {
    "collapsed": true
   },
   "outputs": [],
   "source": [
    "# second test option: use TAs as their own controls\n",
    "simPermuTTest2 <- function(m1, f1, m2, f2, iter) {\n",
    "    tStat <- function(z, n) {\n",
    "        N <- length(z);\n",
    "        m <- N-n;\n",
    "        sPool <- sqrt(((m-1)*var(z[1:m])+(n-1)*var(z[(m+1):N]))/(N-2));\n",
    "        (mean(z[(m+1):N])-mean(z[1:m]))/(sPool*sqrt(1/n + 1/m))\n",
    "    }\n",
    "    n1 <- length(f1);              # number of students assigned to instructor 1 when instructor 1\n",
    "                                   # was identified as female\n",
    "    N1 <- length(f1)+length(m1)    # total number of students assigned to instructor 1\n",
    "    n2 <- length(f2);              # number of students assigned to instructor 2 when instructor 2\n",
    "                                   # was identified as female\n",
    "    z <- c(m1, f1, m2, f2);        # pooled responses\n",
    "    N <- length(z);                # total number of students\n",
    "    ts <- abs(tStat(c(m1,f1),n1) + tStat(c(m2,f2),n2)) # test statistic\n",
    "    sum(replicate(iter, {zp <- sample(z);\n",
    "                         zp1 <- zp[1:N1];\n",
    "                         zp2 <- zp[(N1+1):N];\n",
    "                         abs(tStat(zp1,n1) + tStat(zp2,n2))> ts\n",
    "                        }))/iter\n",
    "}"
   ]
  }
 ],
 "metadata": {
  "kernelspec": {
   "display_name": "R",
   "language": "",
   "name": "ir"
  },
  "language_info": {
   "codemirror_mode": "r",
   "file_extension": ".r",
   "mimetype": "text/x-r-source",
   "name": "R",
   "pygments_lexer": "r",
   "version": "3.1.3"
  }
 },
 "nbformat": 4,
 "nbformat_minor": 0
}
