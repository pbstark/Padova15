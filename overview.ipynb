{
 "cells": [
  {
   "cell_type": "markdown",
   "metadata": {},
   "source": [
    "# Course overview\n",
    "\n",
    "We will go over mathematical, statistical, and computational material and tools relevant to the practice of Statistics.\n",
    "\n",
    "Along the way, we will look at several papers that use Statistics to address problems in science and engineering.\n",
    "\n",
    "The papers are from reputable journals, but you will find that the use of Statistics is, in general, quite bad.\n",
    "Looking carefully at the application of Statistics in these examples has several potential benefits:\n",
    "\n",
    "1. It will help you learn to think statistically.\n",
    "1. It may lead you to question the assumptions behind statistical analyses and the appropriateness of the analyses typically performed.\n",
    "1. It may lead you to be more circumspect when you read reports of scientific results, both in popular press and in scientific journals.\n",
    "1. It may encourage you: you may see that it is not hard to do work that is higher quality than most published research, merely by exercising a bit of thought and care.\n",
    "\n",
    "The next few chapters present an introduction to Jupyter notebook and R, some mathematical background, some linear algebra, and some probability. They are rather technical. \n",
    "\n"
   ]
  },
  {
   "cell_type": "markdown",
   "metadata": {},
   "source": [
    "Before jumping into that, let's consider a headline-grabbing paper from _Science_, entitled [\"Accelerating extinction risk from climate change\"](http://www.sciencemagazinedigital.org/sciencemagazine/01_may_2015?folio=571#pg113) by Mark Urban. The paper appeared in volume 348 and was published on 1 May 2015.\n",
    "\n",
    "Here is the abstract:\n",
    "\n",
    "> Current predictions of extinction risks from climate change vary widely depending on the specific\n",
    "assumptions and geographic and taxonomic focus of each study. I synthesized published studies\n",
    "in order to estimate a global mean extinction rate and determine which factors contribute the\n",
    "greatest uncertainty to climate change-induced extinction risks.\n",
    "Results suggest that extinction rists will accelerate with future global temperatures,\n",
    "threatening up to one in six species under current policies. &hellip;\n",
    "\n",
    "The paper applies \"Bayesian Markov chain Monte Carlo (MCMC)\n",
    "random-effects meta-analysis that incorporated variation among and within studies and with each\n",
    "study weighted by sample size,\" starting with 131 studies that estimated extinctions.\n",
    "It comes up with an overall extinction risk\n",
    "of 7.9%, with a 95% confidence interval of 6.2% to 9.8%.\n",
    "(For an introduction to confidence intervals, see [SticiGui: Confidence Intervals](http://www.stat.berkeley.edu/~stark/SticiGui/Text/confidenceIntervals.htm).)\n",
    "\n",
    "We will read this paper together to try to understand what those numbers might mean. The [supplementary materials for the paper are here](http://www.sciencemag.org/content/suppl/2015/04/29/348.6234.571.DC1/Urban-SM.pdf).\n",
    "\n",
    "This paper is particularly instructive because it (mis)uses so many statistical ideas and techniques, including means, confidence intervals, MCMC, random effects models, and meta-analysis, in addition to garbling the claims in the underlying study.\n",
    "Moreover, even if the statistics had been done correctly, it is not at all clear what the claim shows, or even\n",
    "why counting species is a helpful measure of anything."
   ]
  },
  {
   "cell_type": "markdown",
   "metadata": {},
   "source": [
    "Here's a recent paper in _Proceedings of the National Academy of Science_ (PNAS) by Dietz et al., [Political influences on greenhouse gas emissions from\n",
    "US states](http://www.pnas.org/content/early/2015/06/09/1417806112.full.pdf) \n",
    "\n",
    "We will discuss this paper, too."
   ]
  },
  {
   "cell_type": "markdown",
   "metadata": {},
   "source": [
    "Next chapter: [Jupyter and R](jupyter.ipynb)"
   ]
  }
 ],
 "metadata": {
  "kernelspec": {
   "display_name": "R",
   "language": "",
   "name": "ir"
  },
  "language_info": {
   "codemirror_mode": "r",
   "file_extension": ".r",
   "mimetype": "text/x-r-source",
   "name": "R",
   "pygments_lexer": "r",
   "version": "3.1.3"
  }
 },
 "nbformat": 4,
 "nbformat_minor": 0
}
