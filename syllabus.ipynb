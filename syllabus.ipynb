{
 "cells": [
  {
   "cell_type": "markdown",
   "metadata": {},
   "source": [
    "# Introduction to Probability and Statistics for Engineers\n",
    "## Philip B. Stark http://www.stat.berkeley.edu/~stark\n",
    "\n",
    "## University of Padova\n",
    "## 28 June--7 July 2015\n",
    "\n",
    "## Software requirements\n",
    "+ Jupyter: http://continuum.io/downloads\n",
    "+ R http://cran.r-project.org/bin/\n",
    "+ Native R kernel for Jupyter: http://irkernel.github.io/ (\"conda install -c r r-irkernel\")\n",
    "+ LaTeX"
   ]
  },
  {
   "cell_type": "markdown",
   "metadata": {},
   "source": [
    "## Course overview\n",
    "+ Software installation and check: Should be able to start IPython Notebook \n",
    "from the shell and see an option for a new R notebook when Jupyter starts in the browser\n",
    "+ Introduction to Jupyter Notebook https://jupyter.org/\n",
    "    - http://ipython.org/notebook.html\n",
    "    - Jupyter tutorial https://youtu.be/Rc4JQWowG5I\n",
    "    - Types of cells\n",
    "        * Markdown\n",
    "        * Code\n",
    "        * Writing mathematics using MathJax in Markdown cells https://youtu.be/-F4WS8o-G2A\n",
    "+ Introduction to R in Jupyter \n",
    "+ Mathematical preliminaries\n",
    "+ Matrix algebra\n",
    "+ Linear algebra\n",
    "    - real linear vector spaces\n",
    "    - norms and normed linear spaces\n",
    "    - the triangle inequality\n",
    "    - subspaces\n",
    "    - bases\n",
    "    - orthonormal bases\n",
    "    - the Gram--Schmidt procedure\n",
    "+ Numerical linear algebra\n",
    "    - solving linear equations\n",
    "    - condition number\n",
    "    - matrix inversion versus matrix factorization\n",
    "    - the QR decomposition\n",
    "+ Least squares\n",
    "    - the projection theorem\n",
    "        * closest point in a convex set\n",
    "        * closest point in a subspace\n",
    "    - the least squares principle; Legendre & Gauss\n",
    "    - the Normal equations\n",
    "+ Linear \n",
    "+ Experiments and Observational Studies\n",
    "    - Confounding\n",
    "    - The Method of Comparison\n",
    "    - Stratification and cross-tabulation\n",
    "    - Randomization"
   ]
  },
  {
   "cell_type": "markdown",
   "metadata": {},
   "source": [
    "## Introduction to R\n",
    "### http://statistics.berkeley.edu/computing/r-bootcamp \n",
    "https://github.com/berkeley-scf/r-bootcamp-2014/blob/master/schedule/schedule.pdf\n"
   ]
  }
 ],
 "metadata": {
  "kernelspec": {
   "display_name": "R",
   "language": "",
   "name": "ir"
  },
  "language_info": {
   "codemirror_mode": "r",
   "file_extension": ".r",
   "mimetype": "text/x-r-source",
   "name": "R",
   "pygments_lexer": "r",
   "version": "3.1.3"
  }
 },
 "nbformat": 4,
 "nbformat_minor": 0
}
